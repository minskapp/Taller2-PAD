{
 "cells": [
  {
   "cell_type": "markdown",
   "source": [
    "# Importamos las librerías necesarias"
   ],
   "metadata": {
    "collapsed": false
   },
   "id": "5df4804858bebb35"
  },
  {
   "cell_type": "code",
   "execution_count": null,
   "outputs": [],
   "source": [
    "import pandas as pd\n",
    "import numpy as np"
   ],
   "metadata": {
    "collapsed": false,
    "is_executing": true
   },
   "id": "initial_id"
  },
  {
   "cell_type": "markdown",
   "source": [
    "### Leemos el archivo de Frutas y Hortalizas"
   ],
   "metadata": {
    "collapsed": false
   },
   "id": "9cb3449aaeadba52"
  },
  {
   "cell_type": "code",
   "execution_count": 20,
   "outputs": [
    {
     "data": {
      "text/plain": "         _id  RegiUn Tipo punto monitoreo    Sector  Semana       Fecha  \\\n0          1       7          Feria libre     Talca      28  08/07/2013   \n1          2       7          Feria libre    CuricÛ      28  08/07/2013   \n2          3       7          Feria libre     Talca      28  08/07/2013   \n3          4       7          Feria libre     Talca      28  08/07/2013   \n4          5       7          Feria libre    CuricÛ      28  08/07/2013   \n...      ...     ...                  ...       ...     ...         ...   \n21755  21756      13         Supermercado    Centro      39  23/09/2013   \n21756  21757      13         Supermercado  Poniente      39  23/09/2013   \n21757  21758      13         Supermercado   Oriente      39  23/09/2013   \n21758  21759      13         Supermercado     Norte      39  23/09/2013   \n21759  21760      13         Supermercado       Sur      39  23/09/2013   \n\n         Tipo producto                                           Producto  \\\n0      Fruta-Hortaliza                     Ajo Chino $/unidad 1a (guarda)   \n1      Fruta-Hortaliza                     Ajo Chino $/unidad 1a (guarda)   \n2      Fruta-Hortaliza                     Ajo Chino $/unidad 2a (guarda)   \n3      Fruta-Hortaliza                    Apio Americano $/unidad Primera   \n4      Fruta-Hortaliza                    Apio Americano $/unidad Primera   \n...                ...                                                ...   \n21755  Fruta-Hortaliza  Zapallo italiano Sin Especificar $/unidad Primera   \n21756  Fruta-Hortaliza  Zapallo italiano Sin Especificar $/unidad Primera   \n21757  Fruta-Hortaliza  Zapallo italiano Sin Especificar $/unidad Primera   \n21758  Fruta-Hortaliza  Zapallo italiano Sin Especificar $/unidad Primera   \n21759  Fruta-Hortaliza  Zapallo italiano Sin Especificar $/unidad Segunda   \n\n       MInimo  M*ximo Promedio  \n0         125     150    137,5  \n1         100     160      140  \n2         100     100      100  \n3         800     800      800  \n4         800     900      850  \n...       ...     ...      ...  \n21755     477     589    518,8  \n21756     490     619   566,75  \n21757     559     599    573,4  \n21758     559     619      589  \n21759     439     439      439  \n\n[21760 rows x 11 columns]",
      "text/html": "<div>\n<style scoped>\n    .dataframe tbody tr th:only-of-type {\n        vertical-align: middle;\n    }\n\n    .dataframe tbody tr th {\n        vertical-align: top;\n    }\n\n    .dataframe thead th {\n        text-align: right;\n    }\n</style>\n<table border=\"1\" class=\"dataframe\">\n  <thead>\n    <tr style=\"text-align: right;\">\n      <th></th>\n      <th>_id</th>\n      <th>RegiUn</th>\n      <th>Tipo punto monitoreo</th>\n      <th>Sector</th>\n      <th>Semana</th>\n      <th>Fecha</th>\n      <th>Tipo producto</th>\n      <th>Producto</th>\n      <th>MInimo</th>\n      <th>M*ximo</th>\n      <th>Promedio</th>\n    </tr>\n  </thead>\n  <tbody>\n    <tr>\n      <th>0</th>\n      <td>1</td>\n      <td>7</td>\n      <td>Feria libre</td>\n      <td>Talca</td>\n      <td>28</td>\n      <td>08/07/2013</td>\n      <td>Fruta-Hortaliza</td>\n      <td>Ajo Chino $/unidad 1a (guarda)</td>\n      <td>125</td>\n      <td>150</td>\n      <td>137,5</td>\n    </tr>\n    <tr>\n      <th>1</th>\n      <td>2</td>\n      <td>7</td>\n      <td>Feria libre</td>\n      <td>CuricÛ</td>\n      <td>28</td>\n      <td>08/07/2013</td>\n      <td>Fruta-Hortaliza</td>\n      <td>Ajo Chino $/unidad 1a (guarda)</td>\n      <td>100</td>\n      <td>160</td>\n      <td>140</td>\n    </tr>\n    <tr>\n      <th>2</th>\n      <td>3</td>\n      <td>7</td>\n      <td>Feria libre</td>\n      <td>Talca</td>\n      <td>28</td>\n      <td>08/07/2013</td>\n      <td>Fruta-Hortaliza</td>\n      <td>Ajo Chino $/unidad 2a (guarda)</td>\n      <td>100</td>\n      <td>100</td>\n      <td>100</td>\n    </tr>\n    <tr>\n      <th>3</th>\n      <td>4</td>\n      <td>7</td>\n      <td>Feria libre</td>\n      <td>Talca</td>\n      <td>28</td>\n      <td>08/07/2013</td>\n      <td>Fruta-Hortaliza</td>\n      <td>Apio Americano $/unidad Primera</td>\n      <td>800</td>\n      <td>800</td>\n      <td>800</td>\n    </tr>\n    <tr>\n      <th>4</th>\n      <td>5</td>\n      <td>7</td>\n      <td>Feria libre</td>\n      <td>CuricÛ</td>\n      <td>28</td>\n      <td>08/07/2013</td>\n      <td>Fruta-Hortaliza</td>\n      <td>Apio Americano $/unidad Primera</td>\n      <td>800</td>\n      <td>900</td>\n      <td>850</td>\n    </tr>\n    <tr>\n      <th>...</th>\n      <td>...</td>\n      <td>...</td>\n      <td>...</td>\n      <td>...</td>\n      <td>...</td>\n      <td>...</td>\n      <td>...</td>\n      <td>...</td>\n      <td>...</td>\n      <td>...</td>\n      <td>...</td>\n    </tr>\n    <tr>\n      <th>21755</th>\n      <td>21756</td>\n      <td>13</td>\n      <td>Supermercado</td>\n      <td>Centro</td>\n      <td>39</td>\n      <td>23/09/2013</td>\n      <td>Fruta-Hortaliza</td>\n      <td>Zapallo italiano Sin Especificar $/unidad Primera</td>\n      <td>477</td>\n      <td>589</td>\n      <td>518,8</td>\n    </tr>\n    <tr>\n      <th>21756</th>\n      <td>21757</td>\n      <td>13</td>\n      <td>Supermercado</td>\n      <td>Poniente</td>\n      <td>39</td>\n      <td>23/09/2013</td>\n      <td>Fruta-Hortaliza</td>\n      <td>Zapallo italiano Sin Especificar $/unidad Primera</td>\n      <td>490</td>\n      <td>619</td>\n      <td>566,75</td>\n    </tr>\n    <tr>\n      <th>21757</th>\n      <td>21758</td>\n      <td>13</td>\n      <td>Supermercado</td>\n      <td>Oriente</td>\n      <td>39</td>\n      <td>23/09/2013</td>\n      <td>Fruta-Hortaliza</td>\n      <td>Zapallo italiano Sin Especificar $/unidad Primera</td>\n      <td>559</td>\n      <td>599</td>\n      <td>573,4</td>\n    </tr>\n    <tr>\n      <th>21758</th>\n      <td>21759</td>\n      <td>13</td>\n      <td>Supermercado</td>\n      <td>Norte</td>\n      <td>39</td>\n      <td>23/09/2013</td>\n      <td>Fruta-Hortaliza</td>\n      <td>Zapallo italiano Sin Especificar $/unidad Primera</td>\n      <td>559</td>\n      <td>619</td>\n      <td>589</td>\n    </tr>\n    <tr>\n      <th>21759</th>\n      <td>21760</td>\n      <td>13</td>\n      <td>Supermercado</td>\n      <td>Sur</td>\n      <td>39</td>\n      <td>23/09/2013</td>\n      <td>Fruta-Hortaliza</td>\n      <td>Zapallo italiano Sin Especificar $/unidad Segunda</td>\n      <td>439</td>\n      <td>439</td>\n      <td>439</td>\n    </tr>\n  </tbody>\n</table>\n<p>21760 rows × 11 columns</p>\n</div>"
     },
     "execution_count": 20,
     "metadata": {},
     "output_type": "execute_result"
    }
   ],
   "source": [
    "nombre_archivo = 'Frutas y Hortalizas.csv'\n",
    "df_fruits = pd.read_csv(nombre_archivo)\n",
    "df_fruits"
   ],
   "metadata": {
    "collapsed": false,
    "ExecuteTime": {
     "end_time": "2023-12-02T23:30:24.950512600Z",
     "start_time": "2023-12-02T23:30:24.587652100Z"
    }
   },
   "id": "b90cc0c0872ad7fc"
  },
  {
   "cell_type": "markdown",
   "source": [
    "### Leemos el archivo de Resto de productos"
   ],
   "metadata": {
    "collapsed": false
   },
   "id": "69452c77d7127f3c"
  },
  {
   "cell_type": "code",
   "execution_count": 21,
   "outputs": [
    {
     "data": {
      "text/plain": "       _id  RegiUn Tipo punto monitoreo              Sector  Semana  \\\n0        1       7           CarnicerÌa               Talca      28   \n1        2       7           CarnicerÌa              CuricÛ      28   \n2        3       7           CarnicerÌa               Talca      28   \n3        4       7           CarnicerÌa              CuricÛ      28   \n4        5       7           CarnicerÌa               Talca      28   \n...    ...     ...                  ...                 ...     ...   \n3495  3496       8         Supermercado               Penco      39   \n3496  3497       8         Supermercado  Talcahuano-HualpÈn      39   \n3497  3498       8         Supermercado          ConcepciÛn      39   \n3498  3499       8         Supermercado         Chiguayante      39   \n3499  3500       8         Supermercado               Penco      39   \n\n                    Fecha                 Tipo producto              Producto  \\\n0     2013-08-07T00:00:00   Carne de Bovino CategorÌa V              Abastero   \n1     2013-08-07T00:00:00   Carne de Bovino CategorÌa V              Abastero   \n2     2013-08-07T00:00:00   Carne de Bovino CategorÌa V       Asado Carnicero   \n3     2013-08-07T00:00:00   Carne de Bovino CategorÌa V       Asado Carnicero   \n4     2013-08-07T00:00:00   Carne de Bovino CategorÌa V               Asiento   \n...                   ...                           ...                   ...   \n3495  2013-09-23T00:00:00  Carne de Pollo, Cerdo y Pavo  Chuleta (Parrillera)   \n3496  2013-09-23T00:00:00  Carne de Pollo, Cerdo y Pavo      Chuleta (centro)   \n3497  2013-09-23T00:00:00  Carne de Pollo, Cerdo y Pavo      Chuleta (centro)   \n3498  2013-09-23T00:00:00  Carne de Pollo, Cerdo y Pavo      Chuleta (centro)   \n3499  2013-09-23T00:00:00  Carne de Pollo, Cerdo y Pavo      Chuleta (centro)   \n\n      MInimo  M*ximo Promedio  \n0       3990    5998  5029,64  \n1       3498    4980     4491  \n2       3990    5500  4790,64  \n3       3498    4980     4441  \n4       4680    6998   6243,6  \n...      ...     ...      ...  \n3495    3290    3489   3389,5  \n3496    3990    4199  4059,67  \n3497    3790    4499  4137,44  \n3498    4190    4190     4190  \n3499    3290    3290     3290  \n\n[3500 rows x 11 columns]",
      "text/html": "<div>\n<style scoped>\n    .dataframe tbody tr th:only-of-type {\n        vertical-align: middle;\n    }\n\n    .dataframe tbody tr th {\n        vertical-align: top;\n    }\n\n    .dataframe thead th {\n        text-align: right;\n    }\n</style>\n<table border=\"1\" class=\"dataframe\">\n  <thead>\n    <tr style=\"text-align: right;\">\n      <th></th>\n      <th>_id</th>\n      <th>RegiUn</th>\n      <th>Tipo punto monitoreo</th>\n      <th>Sector</th>\n      <th>Semana</th>\n      <th>Fecha</th>\n      <th>Tipo producto</th>\n      <th>Producto</th>\n      <th>MInimo</th>\n      <th>M*ximo</th>\n      <th>Promedio</th>\n    </tr>\n  </thead>\n  <tbody>\n    <tr>\n      <th>0</th>\n      <td>1</td>\n      <td>7</td>\n      <td>CarnicerÌa</td>\n      <td>Talca</td>\n      <td>28</td>\n      <td>2013-08-07T00:00:00</td>\n      <td>Carne de Bovino CategorÌa V</td>\n      <td>Abastero</td>\n      <td>3990</td>\n      <td>5998</td>\n      <td>5029,64</td>\n    </tr>\n    <tr>\n      <th>1</th>\n      <td>2</td>\n      <td>7</td>\n      <td>CarnicerÌa</td>\n      <td>CuricÛ</td>\n      <td>28</td>\n      <td>2013-08-07T00:00:00</td>\n      <td>Carne de Bovino CategorÌa V</td>\n      <td>Abastero</td>\n      <td>3498</td>\n      <td>4980</td>\n      <td>4491</td>\n    </tr>\n    <tr>\n      <th>2</th>\n      <td>3</td>\n      <td>7</td>\n      <td>CarnicerÌa</td>\n      <td>Talca</td>\n      <td>28</td>\n      <td>2013-08-07T00:00:00</td>\n      <td>Carne de Bovino CategorÌa V</td>\n      <td>Asado Carnicero</td>\n      <td>3990</td>\n      <td>5500</td>\n      <td>4790,64</td>\n    </tr>\n    <tr>\n      <th>3</th>\n      <td>4</td>\n      <td>7</td>\n      <td>CarnicerÌa</td>\n      <td>CuricÛ</td>\n      <td>28</td>\n      <td>2013-08-07T00:00:00</td>\n      <td>Carne de Bovino CategorÌa V</td>\n      <td>Asado Carnicero</td>\n      <td>3498</td>\n      <td>4980</td>\n      <td>4441</td>\n    </tr>\n    <tr>\n      <th>4</th>\n      <td>5</td>\n      <td>7</td>\n      <td>CarnicerÌa</td>\n      <td>Talca</td>\n      <td>28</td>\n      <td>2013-08-07T00:00:00</td>\n      <td>Carne de Bovino CategorÌa V</td>\n      <td>Asiento</td>\n      <td>4680</td>\n      <td>6998</td>\n      <td>6243,6</td>\n    </tr>\n    <tr>\n      <th>...</th>\n      <td>...</td>\n      <td>...</td>\n      <td>...</td>\n      <td>...</td>\n      <td>...</td>\n      <td>...</td>\n      <td>...</td>\n      <td>...</td>\n      <td>...</td>\n      <td>...</td>\n      <td>...</td>\n    </tr>\n    <tr>\n      <th>3495</th>\n      <td>3496</td>\n      <td>8</td>\n      <td>Supermercado</td>\n      <td>Penco</td>\n      <td>39</td>\n      <td>2013-09-23T00:00:00</td>\n      <td>Carne de Pollo, Cerdo y Pavo</td>\n      <td>Chuleta (Parrillera)</td>\n      <td>3290</td>\n      <td>3489</td>\n      <td>3389,5</td>\n    </tr>\n    <tr>\n      <th>3496</th>\n      <td>3497</td>\n      <td>8</td>\n      <td>Supermercado</td>\n      <td>Talcahuano-HualpÈn</td>\n      <td>39</td>\n      <td>2013-09-23T00:00:00</td>\n      <td>Carne de Pollo, Cerdo y Pavo</td>\n      <td>Chuleta (centro)</td>\n      <td>3990</td>\n      <td>4199</td>\n      <td>4059,67</td>\n    </tr>\n    <tr>\n      <th>3497</th>\n      <td>3498</td>\n      <td>8</td>\n      <td>Supermercado</td>\n      <td>ConcepciÛn</td>\n      <td>39</td>\n      <td>2013-09-23T00:00:00</td>\n      <td>Carne de Pollo, Cerdo y Pavo</td>\n      <td>Chuleta (centro)</td>\n      <td>3790</td>\n      <td>4499</td>\n      <td>4137,44</td>\n    </tr>\n    <tr>\n      <th>3498</th>\n      <td>3499</td>\n      <td>8</td>\n      <td>Supermercado</td>\n      <td>Chiguayante</td>\n      <td>39</td>\n      <td>2013-09-23T00:00:00</td>\n      <td>Carne de Pollo, Cerdo y Pavo</td>\n      <td>Chuleta (centro)</td>\n      <td>4190</td>\n      <td>4190</td>\n      <td>4190</td>\n    </tr>\n    <tr>\n      <th>3499</th>\n      <td>3500</td>\n      <td>8</td>\n      <td>Supermercado</td>\n      <td>Penco</td>\n      <td>39</td>\n      <td>2013-09-23T00:00:00</td>\n      <td>Carne de Pollo, Cerdo y Pavo</td>\n      <td>Chuleta (centro)</td>\n      <td>3290</td>\n      <td>3290</td>\n      <td>3290</td>\n    </tr>\n  </tbody>\n</table>\n<p>3500 rows × 11 columns</p>\n</div>"
     },
     "execution_count": 21,
     "metadata": {},
     "output_type": "execute_result"
    }
   ],
   "source": [
    "nombre_archivo = 'Resto de productos.csv'\n",
    "df_others = pd.read_csv(nombre_archivo)\n",
    "df_others"
   ],
   "metadata": {
    "collapsed": false,
    "ExecuteTime": {
     "end_time": "2023-12-02T23:30:24.984960400Z",
     "start_time": "2023-12-02T23:30:24.719455Z"
    }
   },
   "id": "78e4c01b1bd00791"
  },
  {
   "cell_type": "markdown",
   "source": [
    "### Datos nulos\n",
    "Verificamos la cantidad de datos nulos"
   ],
   "metadata": {
    "collapsed": false
   },
   "id": "6d42f3784b56ec3b"
  },
  {
   "cell_type": "code",
   "execution_count": 22,
   "outputs": [],
   "source": [
    "def null_data(df):\n",
    "    return df.isnull().sum()"
   ],
   "metadata": {
    "collapsed": false,
    "ExecuteTime": {
     "end_time": "2023-12-02T23:30:25.005628800Z",
     "start_time": "2023-12-02T23:30:24.811387400Z"
    }
   },
   "id": "1dc91e30cf50f440"
  },
  {
   "cell_type": "code",
   "execution_count": 23,
   "outputs": [
    {
     "data": {
      "text/plain": "_id                     0\nRegiUn                  0\nTipo punto monitoreo    0\nSector                  0\nSemana                  0\nFecha                   0\nTipo producto           0\nProducto                0\nMInimo                  0\nM*ximo                  0\nPromedio                0\ndtype: int64"
     },
     "metadata": {},
     "output_type": "display_data"
    },
    {
     "data": {
      "text/plain": "_id                     0\nRegiUn                  0\nTipo punto monitoreo    0\nSector                  0\nSemana                  0\nFecha                   0\nTipo producto           0\nProducto                0\nMInimo                  0\nM*ximo                  0\nPromedio                0\ndtype: int64"
     },
     "metadata": {},
     "output_type": "display_data"
    }
   ],
   "source": [
    "display(null_data(df_fruits))\n",
    "display(null_data(df_others))"
   ],
   "metadata": {
    "collapsed": false,
    "ExecuteTime": {
     "end_time": "2023-12-02T23:30:25.009047200Z",
     "start_time": "2023-12-02T23:30:24.835957800Z"
    }
   },
   "id": "a5f4ad930676c6ff"
  },
  {
   "cell_type": "markdown",
   "source": [
    "### Juntar ambos DataFrame\n",
    "Al no existir datos nulos en los dataframe, se procede a unirlos de manera vertical"
   ],
   "metadata": {
    "collapsed": false
   },
   "id": "4d7b773e30ad07a6"
  },
  {
   "cell_type": "code",
   "execution_count": 24,
   "outputs": [
    {
     "data": {
      "text/plain": "   _id  RegiUn Tipo punto monitoreo  Sector  Semana       Fecha  \\\n0    1       7          Feria libre   Talca      28  08/07/2013   \n1    2       7          Feria libre  CuricÛ      28  08/07/2013   \n2    3       7          Feria libre   Talca      28  08/07/2013   \n3    4       7          Feria libre   Talca      28  08/07/2013   \n4    5       7          Feria libre  CuricÛ      28  08/07/2013   \n\n     Tipo producto                         Producto  MInimo  M*ximo Promedio  \n0  Fruta-Hortaliza   Ajo Chino $/unidad 1a (guarda)     125     150    137,5  \n1  Fruta-Hortaliza   Ajo Chino $/unidad 1a (guarda)     100     160      140  \n2  Fruta-Hortaliza   Ajo Chino $/unidad 2a (guarda)     100     100      100  \n3  Fruta-Hortaliza  Apio Americano $/unidad Primera     800     800      800  \n4  Fruta-Hortaliza  Apio Americano $/unidad Primera     800     900      850  ",
      "text/html": "<div>\n<style scoped>\n    .dataframe tbody tr th:only-of-type {\n        vertical-align: middle;\n    }\n\n    .dataframe tbody tr th {\n        vertical-align: top;\n    }\n\n    .dataframe thead th {\n        text-align: right;\n    }\n</style>\n<table border=\"1\" class=\"dataframe\">\n  <thead>\n    <tr style=\"text-align: right;\">\n      <th></th>\n      <th>_id</th>\n      <th>RegiUn</th>\n      <th>Tipo punto monitoreo</th>\n      <th>Sector</th>\n      <th>Semana</th>\n      <th>Fecha</th>\n      <th>Tipo producto</th>\n      <th>Producto</th>\n      <th>MInimo</th>\n      <th>M*ximo</th>\n      <th>Promedio</th>\n    </tr>\n  </thead>\n  <tbody>\n    <tr>\n      <th>0</th>\n      <td>1</td>\n      <td>7</td>\n      <td>Feria libre</td>\n      <td>Talca</td>\n      <td>28</td>\n      <td>08/07/2013</td>\n      <td>Fruta-Hortaliza</td>\n      <td>Ajo Chino $/unidad 1a (guarda)</td>\n      <td>125</td>\n      <td>150</td>\n      <td>137,5</td>\n    </tr>\n    <tr>\n      <th>1</th>\n      <td>2</td>\n      <td>7</td>\n      <td>Feria libre</td>\n      <td>CuricÛ</td>\n      <td>28</td>\n      <td>08/07/2013</td>\n      <td>Fruta-Hortaliza</td>\n      <td>Ajo Chino $/unidad 1a (guarda)</td>\n      <td>100</td>\n      <td>160</td>\n      <td>140</td>\n    </tr>\n    <tr>\n      <th>2</th>\n      <td>3</td>\n      <td>7</td>\n      <td>Feria libre</td>\n      <td>Talca</td>\n      <td>28</td>\n      <td>08/07/2013</td>\n      <td>Fruta-Hortaliza</td>\n      <td>Ajo Chino $/unidad 2a (guarda)</td>\n      <td>100</td>\n      <td>100</td>\n      <td>100</td>\n    </tr>\n    <tr>\n      <th>3</th>\n      <td>4</td>\n      <td>7</td>\n      <td>Feria libre</td>\n      <td>Talca</td>\n      <td>28</td>\n      <td>08/07/2013</td>\n      <td>Fruta-Hortaliza</td>\n      <td>Apio Americano $/unidad Primera</td>\n      <td>800</td>\n      <td>800</td>\n      <td>800</td>\n    </tr>\n    <tr>\n      <th>4</th>\n      <td>5</td>\n      <td>7</td>\n      <td>Feria libre</td>\n      <td>CuricÛ</td>\n      <td>28</td>\n      <td>08/07/2013</td>\n      <td>Fruta-Hortaliza</td>\n      <td>Apio Americano $/unidad Primera</td>\n      <td>800</td>\n      <td>900</td>\n      <td>850</td>\n    </tr>\n  </tbody>\n</table>\n</div>"
     },
     "execution_count": 24,
     "metadata": {},
     "output_type": "execute_result"
    }
   ],
   "source": [
    "df = pd.concat([df_fruits, df_others])\n",
    "df.head()"
   ],
   "metadata": {
    "collapsed": false,
    "ExecuteTime": {
     "end_time": "2023-12-02T23:30:25.020390700Z",
     "start_time": "2023-12-02T23:30:24.880295800Z"
    }
   },
   "id": "fb647a9a59e767f2"
  },
  {
   "cell_type": "markdown",
   "source": [
    "# Conexión con la Base de Datos"
   ],
   "metadata": {
    "collapsed": false
   },
   "id": "f87bfc92b5468592"
  },
  {
   "cell_type": "code",
   "execution_count": 34,
   "outputs": [],
   "source": [
    "import mysql.connector\n",
    "import configparser\n",
    "import pandas as pd\n",
    "\n",
    "class Connection:\n",
    "\n",
    "    \"\"\"\n",
    "        Inicializa una conexión a la base de datos utilizando la información de configuración proporcionada en\n",
    "        el archivo 'config.ini'.\n",
    "    \"\"\"\n",
    "    def __init__(self):\n",
    "        config = configparser.ConfigParser()\n",
    "        config.read('Resources/config.ini')\n",
    "        connection_info = config['database']\n",
    "\n",
    "        self.connection = mysql.connector.connect(\n",
    "            database=connection_info['database'],\n",
    "            host=connection_info['host'],\n",
    "            user=connection_info['user'],\n",
    "            password=connection_info['password']\n",
    "        )\n",
    "\n",
    "    \"\"\"\n",
    "        Ejecuta una consulta en la base de datos y realiza una confirmación de la transacción.\n",
    "\n",
    "        Args:\n",
    "            query (str): La consulta SQL que se va a ejecutar.\n",
    "\n",
    "    \"\"\"\n",
    "    def execute(self, query):\n",
    "        cursor = self.connection.cursor()\n",
    "        cursor.execute(query, multi=True)\n",
    "        self.connection.commit()\n",
    "\n",
    "    \"\"\"\n",
    "        Ejecuta una consulta SELECT en la base de datos y devuelve los resultados como una lista de tuplas.\n",
    "\n",
    "        Args:\n",
    "            query (str): La consulta SELECT SQL que se va a ejecutar.\n",
    "\n",
    "        Returns:\n",
    "            list: Una lista de tuplas que representan los resultados de la consulta.\n",
    "\n",
    "    \"\"\"\n",
    "    def execute_select(self, query):\n",
    "        cursor = self.connection.cursor()\n",
    "        cursor.execute(query)\n",
    "        result = cursor.fetchall()\n",
    "        cursor.close()\n",
    "        return result\n",
    "\n",
    "    \"\"\"\n",
    "        Ejecuta una consulta SELECT en la base de datos y devuelve los resultados como un DataFrame de Pandas.\n",
    "\n",
    "        Args:\n",
    "            query (str): La consulta SELECT SQL que se va a ejecutar.\n",
    "\n",
    "        Returns:\n",
    "            pandas.DataFrame or None: Un DataFrame de Pandas que contiene los resultados de la consulta o None si no \n",
    "            hay resultados.\n",
    "\n",
    "    \"\"\"\n",
    "    def execute_select_as_dataframe(self, query):\n",
    "        result = self.execute_select(query)\n",
    "        if result:\n",
    "            cursor = self.connection.cursor()\n",
    "            cursor.execute(query)\n",
    "            columns = [desc[0] for desc in cursor.description]\n",
    "            cursor.close()\n",
    "\n",
    "            df = pd.DataFrame(result, columns=columns)\n",
    "            return df\n",
    "        else:\n",
    "            return None\n",
    "\n",
    "    \"\"\"\n",
    "        Ejecuta una consulta SELECT en la base de datos y devuelve los resultados como una lista de tuplas.\n",
    "\n",
    "        Args:\n",
    "            query (str): La consulta SELECT SQL que se va a ejecutar.\n",
    "\n",
    "        Returns:\n",
    "            list: Una lista de tuplas que representan los resultados de la consulta.\n",
    "\n",
    "    \"\"\"\n",
    "    def select(self, query):\n",
    "        cursor = self.connection.cursor()\n",
    "        cursor.execute(query)\n",
    "        result = cursor.fetchall()\n",
    "        cursor.close()\n",
    "        return result\n",
    "\n",
    "    \"\"\"\n",
    "        Cierra la conexión a la base de datos.\n",
    "    \"\"\"\n",
    "    def close(self):\n",
    "        self.connection.close()"
   ],
   "metadata": {
    "collapsed": false,
    "ExecuteTime": {
     "end_time": "2023-12-03T00:00:04.933325600Z",
     "start_time": "2023-12-03T00:00:04.918994100Z"
    }
   },
   "id": "42db5d46f543497d"
  },
  {
   "cell_type": "code",
   "execution_count": 35,
   "outputs": [
    {
     "ename": "NotSupportedError",
     "evalue": "Authentication plugin 'caching_sha2_password' is not supported",
     "output_type": "error",
     "traceback": [
      "\u001B[1;31m---------------------------------------------------------------------------\u001B[0m",
      "\u001B[1;31mNotSupportedError\u001B[0m                         Traceback (most recent call last)",
      "Cell \u001B[1;32mIn[35], line 1\u001B[0m\n\u001B[1;32m----> 1\u001B[0m connection \u001B[38;5;241m=\u001B[39m \u001B[43mConnection\u001B[49m\u001B[43m(\u001B[49m\u001B[43m)\u001B[49m\n\u001B[0;32m      2\u001B[0m \u001B[38;5;28mprint\u001B[39m(\u001B[38;5;124m\"\u001B[39m\u001B[38;5;124ma\u001B[39m\u001B[38;5;124m\"\u001B[39m)\n\u001B[0;32m      3\u001B[0m \u001B[38;5;28;01mwith\u001B[39;00m \u001B[38;5;28mopen\u001B[39m(\u001B[38;5;124m'\u001B[39m\u001B[38;5;124mScripts/star_schema.sql\u001B[39m\u001B[38;5;124m'\u001B[39m, \u001B[38;5;124m'\u001B[39m\u001B[38;5;124mr\u001B[39m\u001B[38;5;124m'\u001B[39m) \u001B[38;5;28;01mas\u001B[39;00m file:\n",
      "Cell \u001B[1;32mIn[34], line 16\u001B[0m, in \u001B[0;36mConnection.__init__\u001B[1;34m(self)\u001B[0m\n\u001B[0;32m     13\u001B[0m config\u001B[38;5;241m.\u001B[39mread(\u001B[38;5;124m'\u001B[39m\u001B[38;5;124mResources/config.ini\u001B[39m\u001B[38;5;124m'\u001B[39m)\n\u001B[0;32m     14\u001B[0m connection_info \u001B[38;5;241m=\u001B[39m config[\u001B[38;5;124m'\u001B[39m\u001B[38;5;124mdatabase\u001B[39m\u001B[38;5;124m'\u001B[39m]\n\u001B[1;32m---> 16\u001B[0m \u001B[38;5;28mself\u001B[39m\u001B[38;5;241m.\u001B[39mconnection \u001B[38;5;241m=\u001B[39m \u001B[43mmysql\u001B[49m\u001B[38;5;241;43m.\u001B[39;49m\u001B[43mconnector\u001B[49m\u001B[38;5;241;43m.\u001B[39;49m\u001B[43mconnect\u001B[49m\u001B[43m(\u001B[49m\n\u001B[0;32m     17\u001B[0m \u001B[43m    \u001B[49m\u001B[43mdatabase\u001B[49m\u001B[38;5;241;43m=\u001B[39;49m\u001B[43mconnection_info\u001B[49m\u001B[43m[\u001B[49m\u001B[38;5;124;43m'\u001B[39;49m\u001B[38;5;124;43mdatabase\u001B[39;49m\u001B[38;5;124;43m'\u001B[39;49m\u001B[43m]\u001B[49m\u001B[43m,\u001B[49m\n\u001B[0;32m     18\u001B[0m \u001B[43m    \u001B[49m\u001B[43mhost\u001B[49m\u001B[38;5;241;43m=\u001B[39;49m\u001B[43mconnection_info\u001B[49m\u001B[43m[\u001B[49m\u001B[38;5;124;43m'\u001B[39;49m\u001B[38;5;124;43mhost\u001B[39;49m\u001B[38;5;124;43m'\u001B[39;49m\u001B[43m]\u001B[49m\u001B[43m,\u001B[49m\n\u001B[0;32m     19\u001B[0m \u001B[43m    \u001B[49m\u001B[43muser\u001B[49m\u001B[38;5;241;43m=\u001B[39;49m\u001B[43mconnection_info\u001B[49m\u001B[43m[\u001B[49m\u001B[38;5;124;43m'\u001B[39;49m\u001B[38;5;124;43muser\u001B[39;49m\u001B[38;5;124;43m'\u001B[39;49m\u001B[43m]\u001B[49m\u001B[43m,\u001B[49m\n\u001B[0;32m     20\u001B[0m \u001B[43m    \u001B[49m\u001B[43mpassword\u001B[49m\u001B[38;5;241;43m=\u001B[39;49m\u001B[43mconnection_info\u001B[49m\u001B[43m[\u001B[49m\u001B[38;5;124;43m'\u001B[39;49m\u001B[38;5;124;43mpassword\u001B[39;49m\u001B[38;5;124;43m'\u001B[39;49m\u001B[43m]\u001B[49m\n\u001B[0;32m     21\u001B[0m \u001B[43m\u001B[49m\u001B[43m)\u001B[49m\n",
      "File \u001B[1;32m~\\PycharmProjects\\taller2-PAD\\venv\\Lib\\site-packages\\mysql\\connector\\__init__.py:179\u001B[0m, in \u001B[0;36mconnect\u001B[1;34m(*args, **kwargs)\u001B[0m\n\u001B[0;32m    177\u001B[0m     \u001B[38;5;28;01mreturn\u001B[39;00m CMySQLConnection(\u001B[38;5;241m*\u001B[39margs, \u001B[38;5;241m*\u001B[39m\u001B[38;5;241m*\u001B[39mkwargs)\n\u001B[0;32m    178\u001B[0m \u001B[38;5;28;01melse\u001B[39;00m:\n\u001B[1;32m--> 179\u001B[0m     \u001B[38;5;28;01mreturn\u001B[39;00m \u001B[43mMySQLConnection\u001B[49m\u001B[43m(\u001B[49m\u001B[38;5;241;43m*\u001B[39;49m\u001B[43margs\u001B[49m\u001B[43m,\u001B[49m\u001B[43m \u001B[49m\u001B[38;5;241;43m*\u001B[39;49m\u001B[38;5;241;43m*\u001B[39;49m\u001B[43mkwargs\u001B[49m\u001B[43m)\u001B[49m\n",
      "File \u001B[1;32m~\\PycharmProjects\\taller2-PAD\\venv\\Lib\\site-packages\\mysql\\connector\\connection.py:95\u001B[0m, in \u001B[0;36mMySQLConnection.__init__\u001B[1;34m(self, *args, **kwargs)\u001B[0m\n\u001B[0;32m     92\u001B[0m \u001B[38;5;28mself\u001B[39m\u001B[38;5;241m.\u001B[39m_pool_config_version \u001B[38;5;241m=\u001B[39m \u001B[38;5;28;01mNone\u001B[39;00m\n\u001B[0;32m     94\u001B[0m \u001B[38;5;28;01mif\u001B[39;00m \u001B[38;5;28mlen\u001B[39m(kwargs) \u001B[38;5;241m>\u001B[39m \u001B[38;5;241m0\u001B[39m:\n\u001B[1;32m---> 95\u001B[0m     \u001B[38;5;28;43mself\u001B[39;49m\u001B[38;5;241;43m.\u001B[39;49m\u001B[43mconnect\u001B[49m\u001B[43m(\u001B[49m\u001B[38;5;241;43m*\u001B[39;49m\u001B[38;5;241;43m*\u001B[39;49m\u001B[43mkwargs\u001B[49m\u001B[43m)\u001B[49m\n",
      "File \u001B[1;32m~\\PycharmProjects\\taller2-PAD\\venv\\Lib\\site-packages\\mysql\\connector\\abstracts.py:716\u001B[0m, in \u001B[0;36mMySQLConnectionAbstract.connect\u001B[1;34m(self, **kwargs)\u001B[0m\n\u001B[0;32m    713\u001B[0m     \u001B[38;5;28mself\u001B[39m\u001B[38;5;241m.\u001B[39mconfig(\u001B[38;5;241m*\u001B[39m\u001B[38;5;241m*\u001B[39mkwargs)\n\u001B[0;32m    715\u001B[0m \u001B[38;5;28mself\u001B[39m\u001B[38;5;241m.\u001B[39mdisconnect()\n\u001B[1;32m--> 716\u001B[0m \u001B[38;5;28;43mself\u001B[39;49m\u001B[38;5;241;43m.\u001B[39;49m\u001B[43m_open_connection\u001B[49m\u001B[43m(\u001B[49m\u001B[43m)\u001B[49m\n\u001B[0;32m    717\u001B[0m \u001B[38;5;28mself\u001B[39m\u001B[38;5;241m.\u001B[39m_post_connection()\n",
      "File \u001B[1;32m~\\PycharmProjects\\taller2-PAD\\venv\\Lib\\site-packages\\mysql\\connector\\connection.py:208\u001B[0m, in \u001B[0;36mMySQLConnection._open_connection\u001B[1;34m(self)\u001B[0m\n\u001B[0;32m    206\u001B[0m \u001B[38;5;28mself\u001B[39m\u001B[38;5;241m.\u001B[39m_socket\u001B[38;5;241m.\u001B[39mopen_connection()\n\u001B[0;32m    207\u001B[0m \u001B[38;5;28mself\u001B[39m\u001B[38;5;241m.\u001B[39m_do_handshake()\n\u001B[1;32m--> 208\u001B[0m \u001B[38;5;28;43mself\u001B[39;49m\u001B[38;5;241;43m.\u001B[39;49m\u001B[43m_do_auth\u001B[49m\u001B[43m(\u001B[49m\u001B[38;5;28;43mself\u001B[39;49m\u001B[38;5;241;43m.\u001B[39;49m\u001B[43m_user\u001B[49m\u001B[43m,\u001B[49m\u001B[43m \u001B[49m\u001B[38;5;28;43mself\u001B[39;49m\u001B[38;5;241;43m.\u001B[39;49m\u001B[43m_password\u001B[49m\u001B[43m,\u001B[49m\n\u001B[0;32m    209\u001B[0m \u001B[43m              \u001B[49m\u001B[38;5;28;43mself\u001B[39;49m\u001B[38;5;241;43m.\u001B[39;49m\u001B[43m_database\u001B[49m\u001B[43m,\u001B[49m\u001B[43m \u001B[49m\u001B[38;5;28;43mself\u001B[39;49m\u001B[38;5;241;43m.\u001B[39;49m\u001B[43m_client_flags\u001B[49m\u001B[43m,\u001B[49m\u001B[43m \u001B[49m\u001B[38;5;28;43mself\u001B[39;49m\u001B[38;5;241;43m.\u001B[39;49m\u001B[43m_charset_id\u001B[49m\u001B[43m,\u001B[49m\n\u001B[0;32m    210\u001B[0m \u001B[43m              \u001B[49m\u001B[38;5;28;43mself\u001B[39;49m\u001B[38;5;241;43m.\u001B[39;49m\u001B[43m_ssl\u001B[49m\u001B[43m)\u001B[49m\n\u001B[0;32m    211\u001B[0m \u001B[38;5;28mself\u001B[39m\u001B[38;5;241m.\u001B[39mset_converter_class(\u001B[38;5;28mself\u001B[39m\u001B[38;5;241m.\u001B[39m_converter_class)\n\u001B[0;32m    212\u001B[0m \u001B[38;5;28;01mif\u001B[39;00m \u001B[38;5;28mself\u001B[39m\u001B[38;5;241m.\u001B[39m_client_flags \u001B[38;5;241m&\u001B[39m ClientFlag\u001B[38;5;241m.\u001B[39mCOMPRESS:\n",
      "File \u001B[1;32m~\\PycharmProjects\\taller2-PAD\\venv\\Lib\\site-packages\\mysql\\connector\\connection.py:137\u001B[0m, in \u001B[0;36mMySQLConnection._do_auth\u001B[1;34m(self, username, password, database, client_flags, charset, ssl_options)\u001B[0m\n\u001B[0;32m    134\u001B[0m     \u001B[38;5;28mself\u001B[39m\u001B[38;5;241m.\u001B[39m_socket\u001B[38;5;241m.\u001B[39mswitch_to_ssl(\u001B[38;5;241m*\u001B[39m\u001B[38;5;241m*\u001B[39mssl_options)\n\u001B[0;32m    135\u001B[0m     \u001B[38;5;28mself\u001B[39m\u001B[38;5;241m.\u001B[39m_ssl_active \u001B[38;5;241m=\u001B[39m \u001B[38;5;28;01mTrue\u001B[39;00m\n\u001B[1;32m--> 137\u001B[0m packet \u001B[38;5;241m=\u001B[39m \u001B[38;5;28;43mself\u001B[39;49m\u001B[38;5;241;43m.\u001B[39;49m\u001B[43m_protocol\u001B[49m\u001B[38;5;241;43m.\u001B[39;49m\u001B[43mmake_auth\u001B[49m\u001B[43m(\u001B[49m\n\u001B[0;32m    138\u001B[0m \u001B[43m    \u001B[49m\u001B[43mhandshake\u001B[49m\u001B[38;5;241;43m=\u001B[39;49m\u001B[38;5;28;43mself\u001B[39;49m\u001B[38;5;241;43m.\u001B[39;49m\u001B[43m_handshake\u001B[49m\u001B[43m,\u001B[49m\n\u001B[0;32m    139\u001B[0m \u001B[43m    \u001B[49m\u001B[43musername\u001B[49m\u001B[38;5;241;43m=\u001B[39;49m\u001B[43musername\u001B[49m\u001B[43m,\u001B[49m\u001B[43m \u001B[49m\u001B[43mpassword\u001B[49m\u001B[38;5;241;43m=\u001B[39;49m\u001B[43mpassword\u001B[49m\u001B[43m,\u001B[49m\u001B[43m \u001B[49m\u001B[43mdatabase\u001B[49m\u001B[38;5;241;43m=\u001B[39;49m\u001B[43mdatabase\u001B[49m\u001B[43m,\u001B[49m\n\u001B[0;32m    140\u001B[0m \u001B[43m    \u001B[49m\u001B[43mcharset\u001B[49m\u001B[38;5;241;43m=\u001B[39;49m\u001B[43mcharset\u001B[49m\u001B[43m,\u001B[49m\u001B[43m \u001B[49m\u001B[43mclient_flags\u001B[49m\u001B[38;5;241;43m=\u001B[39;49m\u001B[43mclient_flags\u001B[49m\u001B[43m,\u001B[49m\n\u001B[0;32m    141\u001B[0m \u001B[43m    \u001B[49m\u001B[43mssl_enabled\u001B[49m\u001B[38;5;241;43m=\u001B[39;49m\u001B[38;5;28;43mself\u001B[39;49m\u001B[38;5;241;43m.\u001B[39;49m\u001B[43m_ssl_active\u001B[49m\u001B[43m,\u001B[49m\n\u001B[0;32m    142\u001B[0m \u001B[43m    \u001B[49m\u001B[43mauth_plugin\u001B[49m\u001B[38;5;241;43m=\u001B[39;49m\u001B[38;5;28;43mself\u001B[39;49m\u001B[38;5;241;43m.\u001B[39;49m\u001B[43m_auth_plugin\u001B[49m\u001B[43m)\u001B[49m\n\u001B[0;32m    143\u001B[0m \u001B[38;5;28mself\u001B[39m\u001B[38;5;241m.\u001B[39m_socket\u001B[38;5;241m.\u001B[39msend(packet)\n\u001B[0;32m    144\u001B[0m \u001B[38;5;28mself\u001B[39m\u001B[38;5;241m.\u001B[39m_auth_switch_request(username, password)\n",
      "File \u001B[1;32m~\\PycharmProjects\\taller2-PAD\\venv\\Lib\\site-packages\\mysql\\connector\\protocol.py:99\u001B[0m, in \u001B[0;36mMySQLProtocol.make_auth\u001B[1;34m(self, handshake, username, password, database, charset, client_flags, max_allowed_packet, ssl_enabled, auth_plugin)\u001B[0m\n\u001B[0;32m     93\u001B[0m     username_bytes \u001B[38;5;241m=\u001B[39m username\n\u001B[0;32m     94\u001B[0m packet \u001B[38;5;241m=\u001B[39m struct\u001B[38;5;241m.\u001B[39mpack(\u001B[38;5;124m'\u001B[39m\u001B[38;5;124m<IIB\u001B[39m\u001B[38;5;132;01m{filler}\u001B[39;00m\u001B[38;5;132;01m{usrlen}\u001B[39;00m\u001B[38;5;124msx\u001B[39m\u001B[38;5;124m'\u001B[39m\u001B[38;5;241m.\u001B[39mformat(\n\u001B[0;32m     95\u001B[0m     filler\u001B[38;5;241m=\u001B[39m\u001B[38;5;124m'\u001B[39m\u001B[38;5;124mx\u001B[39m\u001B[38;5;124m'\u001B[39m \u001B[38;5;241m*\u001B[39m \u001B[38;5;241m23\u001B[39m, usrlen\u001B[38;5;241m=\u001B[39m\u001B[38;5;28mlen\u001B[39m(username_bytes)),\n\u001B[0;32m     96\u001B[0m                      client_flags, max_allowed_packet, charset,\n\u001B[0;32m     97\u001B[0m                      username_bytes)\n\u001B[1;32m---> 99\u001B[0m packet \u001B[38;5;241m+\u001B[39m\u001B[38;5;241m=\u001B[39m \u001B[38;5;28;43mself\u001B[39;49m\u001B[38;5;241;43m.\u001B[39;49m\u001B[43m_auth_response\u001B[49m\u001B[43m(\u001B[49m\u001B[43mclient_flags\u001B[49m\u001B[43m,\u001B[49m\u001B[43m \u001B[49m\u001B[43musername\u001B[49m\u001B[43m,\u001B[49m\u001B[43m \u001B[49m\u001B[43mpassword\u001B[49m\u001B[43m,\u001B[49m\n\u001B[0;32m    100\u001B[0m \u001B[43m                              \u001B[49m\u001B[43mdatabase\u001B[49m\u001B[43m,\u001B[49m\n\u001B[0;32m    101\u001B[0m \u001B[43m                              \u001B[49m\u001B[43mauth_plugin\u001B[49m\u001B[43m,\u001B[49m\n\u001B[0;32m    102\u001B[0m \u001B[43m                              \u001B[49m\u001B[43mauth_data\u001B[49m\u001B[43m,\u001B[49m\u001B[43m \u001B[49m\u001B[43mssl_enabled\u001B[49m\u001B[43m)\u001B[49m\n\u001B[0;32m    104\u001B[0m packet \u001B[38;5;241m+\u001B[39m\u001B[38;5;241m=\u001B[39m \u001B[38;5;28mself\u001B[39m\u001B[38;5;241m.\u001B[39m_connect_with_db(client_flags, database)\n\u001B[0;32m    106\u001B[0m \u001B[38;5;28;01mif\u001B[39;00m client_flags \u001B[38;5;241m&\u001B[39m ClientFlag\u001B[38;5;241m.\u001B[39mPLUGIN_AUTH:\n",
      "File \u001B[1;32m~\\PycharmProjects\\taller2-PAD\\venv\\Lib\\site-packages\\mysql\\connector\\protocol.py:58\u001B[0m, in \u001B[0;36mMySQLProtocol._auth_response\u001B[1;34m(self, client_flags, username, password, database, auth_plugin, auth_data, ssl_enabled)\u001B[0m\n\u001B[0;32m     55\u001B[0m     \u001B[38;5;28;01mreturn\u001B[39;00m \u001B[38;5;124mb\u001B[39m\u001B[38;5;124m'\u001B[39m\u001B[38;5;130;01m\\x00\u001B[39;00m\u001B[38;5;124m'\u001B[39m\n\u001B[0;32m     57\u001B[0m \u001B[38;5;28;01mtry\u001B[39;00m:\n\u001B[1;32m---> 58\u001B[0m     auth \u001B[38;5;241m=\u001B[39m \u001B[43mget_auth_plugin\u001B[49m\u001B[43m(\u001B[49m\u001B[43mauth_plugin\u001B[49m\u001B[43m)\u001B[49m(\n\u001B[0;32m     59\u001B[0m         auth_data,\n\u001B[0;32m     60\u001B[0m         username\u001B[38;5;241m=\u001B[39musername, password\u001B[38;5;241m=\u001B[39mpassword, database\u001B[38;5;241m=\u001B[39mdatabase,\n\u001B[0;32m     61\u001B[0m         ssl_enabled\u001B[38;5;241m=\u001B[39mssl_enabled)\n\u001B[0;32m     62\u001B[0m     plugin_auth_response \u001B[38;5;241m=\u001B[39m auth\u001B[38;5;241m.\u001B[39mauth_response()\n\u001B[0;32m     63\u001B[0m \u001B[38;5;28;01mexcept\u001B[39;00m (\u001B[38;5;167;01mTypeError\u001B[39;00m, errors\u001B[38;5;241m.\u001B[39mInterfaceError) \u001B[38;5;28;01mas\u001B[39;00m exc:\n",
      "File \u001B[1;32m~\\PycharmProjects\\taller2-PAD\\venv\\Lib\\site-packages\\mysql\\connector\\authentication.py:190\u001B[0m, in \u001B[0;36mget_auth_plugin\u001B[1;34m(plugin_name)\u001B[0m\n\u001B[0;32m    187\u001B[0m     \u001B[38;5;28;01mif\u001B[39;00m authclass\u001B[38;5;241m.\u001B[39mplugin_name \u001B[38;5;241m==\u001B[39m plugin_name:\n\u001B[0;32m    188\u001B[0m         \u001B[38;5;28;01mreturn\u001B[39;00m authclass\n\u001B[1;32m--> 190\u001B[0m \u001B[38;5;28;01mraise\u001B[39;00m errors\u001B[38;5;241m.\u001B[39mNotSupportedError(\n\u001B[0;32m    191\u001B[0m     \u001B[38;5;124m\"\u001B[39m\u001B[38;5;124mAuthentication plugin \u001B[39m\u001B[38;5;124m'\u001B[39m\u001B[38;5;132;01m{0}\u001B[39;00m\u001B[38;5;124m'\u001B[39m\u001B[38;5;124m is not supported\u001B[39m\u001B[38;5;124m\"\u001B[39m\u001B[38;5;241m.\u001B[39mformat(plugin_name))\n",
      "\u001B[1;31mNotSupportedError\u001B[0m: Authentication plugin 'caching_sha2_password' is not supported"
     ]
    }
   ],
   "source": [
    "connection = Connection()\n",
    "print(\"a\")\n",
    "with open('Scripts/star_schema.sql', 'r') as file:\n",
    "    for line in file.read().split(';'):\n",
    "        print(line)\n",
    "        #connection.execute(line)"
   ],
   "metadata": {
    "collapsed": false,
    "ExecuteTime": {
     "end_time": "2023-12-03T00:00:05.652977Z",
     "start_time": "2023-12-03T00:00:05.522162500Z"
    }
   },
   "id": "d04d49b7583fc176"
  },
  {
   "cell_type": "code",
   "execution_count": null,
   "outputs": [],
   "source": [],
   "metadata": {
    "collapsed": false,
    "ExecuteTime": {
     "start_time": "2023-12-02T23:30:25.276300200Z"
    }
   },
   "id": "7b2bf2de5254f1d"
  }
 ],
 "metadata": {
  "kernelspec": {
   "display_name": "Python 3",
   "language": "python",
   "name": "python3"
  },
  "language_info": {
   "codemirror_mode": {
    "name": "ipython",
    "version": 2
   },
   "file_extension": ".py",
   "mimetype": "text/x-python",
   "name": "python",
   "nbconvert_exporter": "python",
   "pygments_lexer": "ipython2",
   "version": "2.7.6"
  }
 },
 "nbformat": 4,
 "nbformat_minor": 5
}
