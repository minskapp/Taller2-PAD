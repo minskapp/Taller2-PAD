{
 "cells": [
  {
   "cell_type": "markdown",
   "source": [
    "# Importamos las librerías necesarias"
   ],
   "metadata": {
    "collapsed": false
   },
   "id": "5df4804858bebb35"
  },
  {
   "cell_type": "code",
   "execution_count": 1,
   "outputs": [],
   "source": [
    "import pandas as pd\n",
    "import numpy as np\n",
    "import mysql.connector\n",
    "import configparser\n",
    "from xlsxwriter import Workbook"
   ],
   "metadata": {
    "collapsed": false,
    "ExecuteTime": {
     "end_time": "2023-12-04T01:41:55.215583700Z",
     "start_time": "2023-12-04T01:41:54.166606600Z"
    }
   },
   "id": "initial_id"
  },
  {
   "cell_type": "markdown",
   "source": [
    "### Leemos el archivo de Frutas y Hortalizas"
   ],
   "metadata": {
    "collapsed": false
   },
   "id": "9cb3449aaeadba52"
  },
  {
   "cell_type": "code",
   "execution_count": 2,
   "outputs": [
    {
     "data": {
      "text/plain": "         _id  RegiUn Tipo punto monitoreo    Sector  Semana       Fecha  \\\n0          1       7          Feria libre     Talca      28  08/07/2013   \n1          2       7          Feria libre    CuricÛ      28  08/07/2013   \n2          3       7          Feria libre     Talca      28  08/07/2013   \n3          4       7          Feria libre     Talca      28  08/07/2013   \n4          5       7          Feria libre    CuricÛ      28  08/07/2013   \n...      ...     ...                  ...       ...     ...         ...   \n21755  21756      13         Supermercado    Centro      39  23/09/2013   \n21756  21757      13         Supermercado  Poniente      39  23/09/2013   \n21757  21758      13         Supermercado   Oriente      39  23/09/2013   \n21758  21759      13         Supermercado     Norte      39  23/09/2013   \n21759  21760      13         Supermercado       Sur      39  23/09/2013   \n\n         Tipo producto                                           Producto  \\\n0      Fruta-Hortaliza                     Ajo Chino $/unidad 1a (guarda)   \n1      Fruta-Hortaliza                     Ajo Chino $/unidad 1a (guarda)   \n2      Fruta-Hortaliza                     Ajo Chino $/unidad 2a (guarda)   \n3      Fruta-Hortaliza                    Apio Americano $/unidad Primera   \n4      Fruta-Hortaliza                    Apio Americano $/unidad Primera   \n...                ...                                                ...   \n21755  Fruta-Hortaliza  Zapallo italiano Sin Especificar $/unidad Primera   \n21756  Fruta-Hortaliza  Zapallo italiano Sin Especificar $/unidad Primera   \n21757  Fruta-Hortaliza  Zapallo italiano Sin Especificar $/unidad Primera   \n21758  Fruta-Hortaliza  Zapallo italiano Sin Especificar $/unidad Primera   \n21759  Fruta-Hortaliza  Zapallo italiano Sin Especificar $/unidad Segunda   \n\n       MInimo  M*ximo Promedio  \n0         125     150    137,5  \n1         100     160      140  \n2         100     100      100  \n3         800     800      800  \n4         800     900      850  \n...       ...     ...      ...  \n21755     477     589    518,8  \n21756     490     619   566,75  \n21757     559     599    573,4  \n21758     559     619      589  \n21759     439     439      439  \n\n[21760 rows x 11 columns]",
      "text/html": "<div>\n<style scoped>\n    .dataframe tbody tr th:only-of-type {\n        vertical-align: middle;\n    }\n\n    .dataframe tbody tr th {\n        vertical-align: top;\n    }\n\n    .dataframe thead th {\n        text-align: right;\n    }\n</style>\n<table border=\"1\" class=\"dataframe\">\n  <thead>\n    <tr style=\"text-align: right;\">\n      <th></th>\n      <th>_id</th>\n      <th>RegiUn</th>\n      <th>Tipo punto monitoreo</th>\n      <th>Sector</th>\n      <th>Semana</th>\n      <th>Fecha</th>\n      <th>Tipo producto</th>\n      <th>Producto</th>\n      <th>MInimo</th>\n      <th>M*ximo</th>\n      <th>Promedio</th>\n    </tr>\n  </thead>\n  <tbody>\n    <tr>\n      <th>0</th>\n      <td>1</td>\n      <td>7</td>\n      <td>Feria libre</td>\n      <td>Talca</td>\n      <td>28</td>\n      <td>08/07/2013</td>\n      <td>Fruta-Hortaliza</td>\n      <td>Ajo Chino $/unidad 1a (guarda)</td>\n      <td>125</td>\n      <td>150</td>\n      <td>137,5</td>\n    </tr>\n    <tr>\n      <th>1</th>\n      <td>2</td>\n      <td>7</td>\n      <td>Feria libre</td>\n      <td>CuricÛ</td>\n      <td>28</td>\n      <td>08/07/2013</td>\n      <td>Fruta-Hortaliza</td>\n      <td>Ajo Chino $/unidad 1a (guarda)</td>\n      <td>100</td>\n      <td>160</td>\n      <td>140</td>\n    </tr>\n    <tr>\n      <th>2</th>\n      <td>3</td>\n      <td>7</td>\n      <td>Feria libre</td>\n      <td>Talca</td>\n      <td>28</td>\n      <td>08/07/2013</td>\n      <td>Fruta-Hortaliza</td>\n      <td>Ajo Chino $/unidad 2a (guarda)</td>\n      <td>100</td>\n      <td>100</td>\n      <td>100</td>\n    </tr>\n    <tr>\n      <th>3</th>\n      <td>4</td>\n      <td>7</td>\n      <td>Feria libre</td>\n      <td>Talca</td>\n      <td>28</td>\n      <td>08/07/2013</td>\n      <td>Fruta-Hortaliza</td>\n      <td>Apio Americano $/unidad Primera</td>\n      <td>800</td>\n      <td>800</td>\n      <td>800</td>\n    </tr>\n    <tr>\n      <th>4</th>\n      <td>5</td>\n      <td>7</td>\n      <td>Feria libre</td>\n      <td>CuricÛ</td>\n      <td>28</td>\n      <td>08/07/2013</td>\n      <td>Fruta-Hortaliza</td>\n      <td>Apio Americano $/unidad Primera</td>\n      <td>800</td>\n      <td>900</td>\n      <td>850</td>\n    </tr>\n    <tr>\n      <th>...</th>\n      <td>...</td>\n      <td>...</td>\n      <td>...</td>\n      <td>...</td>\n      <td>...</td>\n      <td>...</td>\n      <td>...</td>\n      <td>...</td>\n      <td>...</td>\n      <td>...</td>\n      <td>...</td>\n    </tr>\n    <tr>\n      <th>21755</th>\n      <td>21756</td>\n      <td>13</td>\n      <td>Supermercado</td>\n      <td>Centro</td>\n      <td>39</td>\n      <td>23/09/2013</td>\n      <td>Fruta-Hortaliza</td>\n      <td>Zapallo italiano Sin Especificar $/unidad Primera</td>\n      <td>477</td>\n      <td>589</td>\n      <td>518,8</td>\n    </tr>\n    <tr>\n      <th>21756</th>\n      <td>21757</td>\n      <td>13</td>\n      <td>Supermercado</td>\n      <td>Poniente</td>\n      <td>39</td>\n      <td>23/09/2013</td>\n      <td>Fruta-Hortaliza</td>\n      <td>Zapallo italiano Sin Especificar $/unidad Primera</td>\n      <td>490</td>\n      <td>619</td>\n      <td>566,75</td>\n    </tr>\n    <tr>\n      <th>21757</th>\n      <td>21758</td>\n      <td>13</td>\n      <td>Supermercado</td>\n      <td>Oriente</td>\n      <td>39</td>\n      <td>23/09/2013</td>\n      <td>Fruta-Hortaliza</td>\n      <td>Zapallo italiano Sin Especificar $/unidad Primera</td>\n      <td>559</td>\n      <td>599</td>\n      <td>573,4</td>\n    </tr>\n    <tr>\n      <th>21758</th>\n      <td>21759</td>\n      <td>13</td>\n      <td>Supermercado</td>\n      <td>Norte</td>\n      <td>39</td>\n      <td>23/09/2013</td>\n      <td>Fruta-Hortaliza</td>\n      <td>Zapallo italiano Sin Especificar $/unidad Primera</td>\n      <td>559</td>\n      <td>619</td>\n      <td>589</td>\n    </tr>\n    <tr>\n      <th>21759</th>\n      <td>21760</td>\n      <td>13</td>\n      <td>Supermercado</td>\n      <td>Sur</td>\n      <td>39</td>\n      <td>23/09/2013</td>\n      <td>Fruta-Hortaliza</td>\n      <td>Zapallo italiano Sin Especificar $/unidad Segunda</td>\n      <td>439</td>\n      <td>439</td>\n      <td>439</td>\n    </tr>\n  </tbody>\n</table>\n<p>21760 rows × 11 columns</p>\n</div>"
     },
     "execution_count": 2,
     "metadata": {},
     "output_type": "execute_result"
    }
   ],
   "source": [
    "nombre_archivo = 'Frutas y Hortalizas.csv'\n",
    "df_fruits = pd.read_csv(nombre_archivo)\n",
    "df_fruits"
   ],
   "metadata": {
    "collapsed": false,
    "ExecuteTime": {
     "end_time": "2023-12-04T01:41:58.122063700Z",
     "start_time": "2023-12-04T01:41:57.874168800Z"
    }
   },
   "id": "b90cc0c0872ad7fc"
  },
  {
   "cell_type": "markdown",
   "source": [
    "### Leemos el archivo de Resto de productos"
   ],
   "metadata": {
    "collapsed": false
   },
   "id": "69452c77d7127f3c"
  },
  {
   "cell_type": "code",
   "execution_count": 3,
   "outputs": [
    {
     "data": {
      "text/plain": "       _id  RegiUn Tipo punto monitoreo              Sector  Semana  \\\n0        1       7           CarnicerÌa               Talca      28   \n1        2       7           CarnicerÌa              CuricÛ      28   \n2        3       7           CarnicerÌa               Talca      28   \n3        4       7           CarnicerÌa              CuricÛ      28   \n4        5       7           CarnicerÌa               Talca      28   \n...    ...     ...                  ...                 ...     ...   \n3495  3496       8         Supermercado               Penco      39   \n3496  3497       8         Supermercado  Talcahuano-HualpÈn      39   \n3497  3498       8         Supermercado          ConcepciÛn      39   \n3498  3499       8         Supermercado         Chiguayante      39   \n3499  3500       8         Supermercado               Penco      39   \n\n                    Fecha                 Tipo producto              Producto  \\\n0     2013-08-07T00:00:00   Carne de Bovino CategorÌa V              Abastero   \n1     2013-08-07T00:00:00   Carne de Bovino CategorÌa V              Abastero   \n2     2013-08-07T00:00:00   Carne de Bovino CategorÌa V       Asado Carnicero   \n3     2013-08-07T00:00:00   Carne de Bovino CategorÌa V       Asado Carnicero   \n4     2013-08-07T00:00:00   Carne de Bovino CategorÌa V               Asiento   \n...                   ...                           ...                   ...   \n3495  2013-09-23T00:00:00  Carne de Pollo, Cerdo y Pavo  Chuleta (Parrillera)   \n3496  2013-09-23T00:00:00  Carne de Pollo, Cerdo y Pavo      Chuleta (centro)   \n3497  2013-09-23T00:00:00  Carne de Pollo, Cerdo y Pavo      Chuleta (centro)   \n3498  2013-09-23T00:00:00  Carne de Pollo, Cerdo y Pavo      Chuleta (centro)   \n3499  2013-09-23T00:00:00  Carne de Pollo, Cerdo y Pavo      Chuleta (centro)   \n\n      MInimo  M*ximo Promedio  \n0       3990    5998  5029,64  \n1       3498    4980     4491  \n2       3990    5500  4790,64  \n3       3498    4980     4441  \n4       4680    6998   6243,6  \n...      ...     ...      ...  \n3495    3290    3489   3389,5  \n3496    3990    4199  4059,67  \n3497    3790    4499  4137,44  \n3498    4190    4190     4190  \n3499    3290    3290     3290  \n\n[3500 rows x 11 columns]",
      "text/html": "<div>\n<style scoped>\n    .dataframe tbody tr th:only-of-type {\n        vertical-align: middle;\n    }\n\n    .dataframe tbody tr th {\n        vertical-align: top;\n    }\n\n    .dataframe thead th {\n        text-align: right;\n    }\n</style>\n<table border=\"1\" class=\"dataframe\">\n  <thead>\n    <tr style=\"text-align: right;\">\n      <th></th>\n      <th>_id</th>\n      <th>RegiUn</th>\n      <th>Tipo punto monitoreo</th>\n      <th>Sector</th>\n      <th>Semana</th>\n      <th>Fecha</th>\n      <th>Tipo producto</th>\n      <th>Producto</th>\n      <th>MInimo</th>\n      <th>M*ximo</th>\n      <th>Promedio</th>\n    </tr>\n  </thead>\n  <tbody>\n    <tr>\n      <th>0</th>\n      <td>1</td>\n      <td>7</td>\n      <td>CarnicerÌa</td>\n      <td>Talca</td>\n      <td>28</td>\n      <td>2013-08-07T00:00:00</td>\n      <td>Carne de Bovino CategorÌa V</td>\n      <td>Abastero</td>\n      <td>3990</td>\n      <td>5998</td>\n      <td>5029,64</td>\n    </tr>\n    <tr>\n      <th>1</th>\n      <td>2</td>\n      <td>7</td>\n      <td>CarnicerÌa</td>\n      <td>CuricÛ</td>\n      <td>28</td>\n      <td>2013-08-07T00:00:00</td>\n      <td>Carne de Bovino CategorÌa V</td>\n      <td>Abastero</td>\n      <td>3498</td>\n      <td>4980</td>\n      <td>4491</td>\n    </tr>\n    <tr>\n      <th>2</th>\n      <td>3</td>\n      <td>7</td>\n      <td>CarnicerÌa</td>\n      <td>Talca</td>\n      <td>28</td>\n      <td>2013-08-07T00:00:00</td>\n      <td>Carne de Bovino CategorÌa V</td>\n      <td>Asado Carnicero</td>\n      <td>3990</td>\n      <td>5500</td>\n      <td>4790,64</td>\n    </tr>\n    <tr>\n      <th>3</th>\n      <td>4</td>\n      <td>7</td>\n      <td>CarnicerÌa</td>\n      <td>CuricÛ</td>\n      <td>28</td>\n      <td>2013-08-07T00:00:00</td>\n      <td>Carne de Bovino CategorÌa V</td>\n      <td>Asado Carnicero</td>\n      <td>3498</td>\n      <td>4980</td>\n      <td>4441</td>\n    </tr>\n    <tr>\n      <th>4</th>\n      <td>5</td>\n      <td>7</td>\n      <td>CarnicerÌa</td>\n      <td>Talca</td>\n      <td>28</td>\n      <td>2013-08-07T00:00:00</td>\n      <td>Carne de Bovino CategorÌa V</td>\n      <td>Asiento</td>\n      <td>4680</td>\n      <td>6998</td>\n      <td>6243,6</td>\n    </tr>\n    <tr>\n      <th>...</th>\n      <td>...</td>\n      <td>...</td>\n      <td>...</td>\n      <td>...</td>\n      <td>...</td>\n      <td>...</td>\n      <td>...</td>\n      <td>...</td>\n      <td>...</td>\n      <td>...</td>\n      <td>...</td>\n    </tr>\n    <tr>\n      <th>3495</th>\n      <td>3496</td>\n      <td>8</td>\n      <td>Supermercado</td>\n      <td>Penco</td>\n      <td>39</td>\n      <td>2013-09-23T00:00:00</td>\n      <td>Carne de Pollo, Cerdo y Pavo</td>\n      <td>Chuleta (Parrillera)</td>\n      <td>3290</td>\n      <td>3489</td>\n      <td>3389,5</td>\n    </tr>\n    <tr>\n      <th>3496</th>\n      <td>3497</td>\n      <td>8</td>\n      <td>Supermercado</td>\n      <td>Talcahuano-HualpÈn</td>\n      <td>39</td>\n      <td>2013-09-23T00:00:00</td>\n      <td>Carne de Pollo, Cerdo y Pavo</td>\n      <td>Chuleta (centro)</td>\n      <td>3990</td>\n      <td>4199</td>\n      <td>4059,67</td>\n    </tr>\n    <tr>\n      <th>3497</th>\n      <td>3498</td>\n      <td>8</td>\n      <td>Supermercado</td>\n      <td>ConcepciÛn</td>\n      <td>39</td>\n      <td>2013-09-23T00:00:00</td>\n      <td>Carne de Pollo, Cerdo y Pavo</td>\n      <td>Chuleta (centro)</td>\n      <td>3790</td>\n      <td>4499</td>\n      <td>4137,44</td>\n    </tr>\n    <tr>\n      <th>3498</th>\n      <td>3499</td>\n      <td>8</td>\n      <td>Supermercado</td>\n      <td>Chiguayante</td>\n      <td>39</td>\n      <td>2013-09-23T00:00:00</td>\n      <td>Carne de Pollo, Cerdo y Pavo</td>\n      <td>Chuleta (centro)</td>\n      <td>4190</td>\n      <td>4190</td>\n      <td>4190</td>\n    </tr>\n    <tr>\n      <th>3499</th>\n      <td>3500</td>\n      <td>8</td>\n      <td>Supermercado</td>\n      <td>Penco</td>\n      <td>39</td>\n      <td>2013-09-23T00:00:00</td>\n      <td>Carne de Pollo, Cerdo y Pavo</td>\n      <td>Chuleta (centro)</td>\n      <td>3290</td>\n      <td>3290</td>\n      <td>3290</td>\n    </tr>\n  </tbody>\n</table>\n<p>3500 rows × 11 columns</p>\n</div>"
     },
     "execution_count": 3,
     "metadata": {},
     "output_type": "execute_result"
    }
   ],
   "source": [
    "nombre_archivo = 'Resto de productos.csv'\n",
    "df_others = pd.read_csv(nombre_archivo)\n",
    "df_others"
   ],
   "metadata": {
    "collapsed": false,
    "ExecuteTime": {
     "end_time": "2023-12-04T01:41:59.576057300Z",
     "start_time": "2023-12-04T01:41:59.495166500Z"
    }
   },
   "id": "78e4c01b1bd00791"
  },
  {
   "cell_type": "markdown",
   "source": [
    "### Datos nulos\n",
    "Verificamos la cantidad de datos nulos"
   ],
   "metadata": {
    "collapsed": false
   },
   "id": "6d42f3784b56ec3b"
  },
  {
   "cell_type": "code",
   "execution_count": 4,
   "outputs": [],
   "source": [
    "def null_data(df):\n",
    "    return df.isnull().sum()"
   ],
   "metadata": {
    "collapsed": false,
    "ExecuteTime": {
     "end_time": "2023-12-04T01:42:01.257562800Z",
     "start_time": "2023-12-04T01:42:01.210275400Z"
    }
   },
   "id": "1dc91e30cf50f440"
  },
  {
   "cell_type": "code",
   "execution_count": 5,
   "outputs": [
    {
     "data": {
      "text/plain": "_id                     0\nRegiUn                  0\nTipo punto monitoreo    0\nSector                  0\nSemana                  0\nFecha                   0\nTipo producto           0\nProducto                0\nMInimo                  0\nM*ximo                  0\nPromedio                0\ndtype: int64"
     },
     "metadata": {},
     "output_type": "display_data"
    },
    {
     "data": {
      "text/plain": "_id                     0\nRegiUn                  0\nTipo punto monitoreo    0\nSector                  0\nSemana                  0\nFecha                   0\nTipo producto           0\nProducto                0\nMInimo                  0\nM*ximo                  0\nPromedio                0\ndtype: int64"
     },
     "metadata": {},
     "output_type": "display_data"
    }
   ],
   "source": [
    "display(null_data(df_fruits))\n",
    "display(null_data(df_others))"
   ],
   "metadata": {
    "collapsed": false,
    "ExecuteTime": {
     "end_time": "2023-12-04T01:42:01.958666100Z",
     "start_time": "2023-12-04T01:42:01.903714800Z"
    }
   },
   "id": "a5f4ad930676c6ff"
  },
  {
   "cell_type": "code",
   "execution_count": 6,
   "outputs": [],
   "source": [
    "def nan_data(df):\n",
    "    return df.isna().sum()"
   ],
   "metadata": {
    "collapsed": false,
    "ExecuteTime": {
     "end_time": "2023-12-04T01:42:02.754585600Z",
     "start_time": "2023-12-04T01:42:02.689171500Z"
    }
   },
   "id": "8ff76df862ca91fc"
  },
  {
   "cell_type": "code",
   "execution_count": 7,
   "outputs": [
    {
     "data": {
      "text/plain": "_id                     0\nRegiUn                  0\nTipo punto monitoreo    0\nSector                  0\nSemana                  0\nFecha                   0\nTipo producto           0\nProducto                0\nMInimo                  0\nM*ximo                  0\nPromedio                0\ndtype: int64"
     },
     "metadata": {},
     "output_type": "display_data"
    },
    {
     "data": {
      "text/plain": "_id                     0\nRegiUn                  0\nTipo punto monitoreo    0\nSector                  0\nSemana                  0\nFecha                   0\nTipo producto           0\nProducto                0\nMInimo                  0\nM*ximo                  0\nPromedio                0\ndtype: int64"
     },
     "metadata": {},
     "output_type": "display_data"
    }
   ],
   "source": [
    "display(nan_data(df_fruits))\n",
    "display(nan_data(df_others))"
   ],
   "metadata": {
    "collapsed": false,
    "ExecuteTime": {
     "end_time": "2023-12-04T01:42:03.443538700Z",
     "start_time": "2023-12-04T01:42:03.391915500Z"
    }
   },
   "id": "a3aa4c9dae3d98e0"
  },
  {
   "cell_type": "markdown",
   "source": [
    "### Juntar ambos DataFrame\n",
    "Al no existir datos nulos en los dataframe, se procede a unirlos de manera vertical"
   ],
   "metadata": {
    "collapsed": false
   },
   "id": "4d7b773e30ad07a6"
  },
  {
   "cell_type": "code",
   "execution_count": 8,
   "outputs": [
    {
     "data": {
      "text/plain": "   _id  RegiUn Tipo punto monitoreo  Sector  Semana       Fecha  \\\n0    1       7          Feria libre   Talca      28  08/07/2013   \n1    2       7          Feria libre  CuricÛ      28  08/07/2013   \n2    3       7          Feria libre   Talca      28  08/07/2013   \n3    4       7          Feria libre   Talca      28  08/07/2013   \n4    5       7          Feria libre  CuricÛ      28  08/07/2013   \n\n     Tipo producto                         Producto  MInimo  M*ximo Promedio  \n0  Fruta-Hortaliza   Ajo Chino $/unidad 1a (guarda)     125     150    137,5  \n1  Fruta-Hortaliza   Ajo Chino $/unidad 1a (guarda)     100     160      140  \n2  Fruta-Hortaliza   Ajo Chino $/unidad 2a (guarda)     100     100      100  \n3  Fruta-Hortaliza  Apio Americano $/unidad Primera     800     800      800  \n4  Fruta-Hortaliza  Apio Americano $/unidad Primera     800     900      850  ",
      "text/html": "<div>\n<style scoped>\n    .dataframe tbody tr th:only-of-type {\n        vertical-align: middle;\n    }\n\n    .dataframe tbody tr th {\n        vertical-align: top;\n    }\n\n    .dataframe thead th {\n        text-align: right;\n    }\n</style>\n<table border=\"1\" class=\"dataframe\">\n  <thead>\n    <tr style=\"text-align: right;\">\n      <th></th>\n      <th>_id</th>\n      <th>RegiUn</th>\n      <th>Tipo punto monitoreo</th>\n      <th>Sector</th>\n      <th>Semana</th>\n      <th>Fecha</th>\n      <th>Tipo producto</th>\n      <th>Producto</th>\n      <th>MInimo</th>\n      <th>M*ximo</th>\n      <th>Promedio</th>\n    </tr>\n  </thead>\n  <tbody>\n    <tr>\n      <th>0</th>\n      <td>1</td>\n      <td>7</td>\n      <td>Feria libre</td>\n      <td>Talca</td>\n      <td>28</td>\n      <td>08/07/2013</td>\n      <td>Fruta-Hortaliza</td>\n      <td>Ajo Chino $/unidad 1a (guarda)</td>\n      <td>125</td>\n      <td>150</td>\n      <td>137,5</td>\n    </tr>\n    <tr>\n      <th>1</th>\n      <td>2</td>\n      <td>7</td>\n      <td>Feria libre</td>\n      <td>CuricÛ</td>\n      <td>28</td>\n      <td>08/07/2013</td>\n      <td>Fruta-Hortaliza</td>\n      <td>Ajo Chino $/unidad 1a (guarda)</td>\n      <td>100</td>\n      <td>160</td>\n      <td>140</td>\n    </tr>\n    <tr>\n      <th>2</th>\n      <td>3</td>\n      <td>7</td>\n      <td>Feria libre</td>\n      <td>Talca</td>\n      <td>28</td>\n      <td>08/07/2013</td>\n      <td>Fruta-Hortaliza</td>\n      <td>Ajo Chino $/unidad 2a (guarda)</td>\n      <td>100</td>\n      <td>100</td>\n      <td>100</td>\n    </tr>\n    <tr>\n      <th>3</th>\n      <td>4</td>\n      <td>7</td>\n      <td>Feria libre</td>\n      <td>Talca</td>\n      <td>28</td>\n      <td>08/07/2013</td>\n      <td>Fruta-Hortaliza</td>\n      <td>Apio Americano $/unidad Primera</td>\n      <td>800</td>\n      <td>800</td>\n      <td>800</td>\n    </tr>\n    <tr>\n      <th>4</th>\n      <td>5</td>\n      <td>7</td>\n      <td>Feria libre</td>\n      <td>CuricÛ</td>\n      <td>28</td>\n      <td>08/07/2013</td>\n      <td>Fruta-Hortaliza</td>\n      <td>Apio Americano $/unidad Primera</td>\n      <td>800</td>\n      <td>900</td>\n      <td>850</td>\n    </tr>\n  </tbody>\n</table>\n</div>"
     },
     "execution_count": 8,
     "metadata": {},
     "output_type": "execute_result"
    }
   ],
   "source": [
    "df = pd.concat([df_fruits, df_others])\n",
    "df.head()"
   ],
   "metadata": {
    "collapsed": false,
    "ExecuteTime": {
     "end_time": "2023-12-04T01:42:05.012984Z",
     "start_time": "2023-12-04T01:42:04.965680600Z"
    }
   },
   "id": "fb647a9a59e767f2"
  },
  {
   "cell_type": "code",
   "execution_count": 9,
   "outputs": [],
   "source": [
    "mask = pd.to_datetime(df['Fecha'], errors='coerce', format='%Y-%m-%dT%H:%M:%S').notnull()\n",
    "df.loc[mask, 'Fecha'] = pd.to_datetime(df.loc[mask, 'Fecha']).dt.strftime('%d/%m/%Y')"
   ],
   "metadata": {
    "collapsed": false,
    "ExecuteTime": {
     "end_time": "2023-12-04T01:42:05.775530100Z",
     "start_time": "2023-12-04T01:42:05.600429200Z"
    }
   },
   "id": "97bb18b68d79fab"
  },
  {
   "cell_type": "markdown",
   "source": [
    "# Conexión con la Base de Datos"
   ],
   "metadata": {
    "collapsed": false
   },
   "id": "f87bfc92b5468592"
  },
  {
   "cell_type": "code",
   "execution_count": 10,
   "outputs": [],
   "source": [
    "class Connection:\n",
    "\n",
    "    \"\"\"\n",
    "        Inicializa una conexión a la base de datos utilizando la información de configuración proporcionada en\n",
    "        el archivo 'config.ini'.\n",
    "    \"\"\"\n",
    "    def __init__(self):\n",
    "        config = configparser.ConfigParser()\n",
    "        config.read('Resources/config.ini')\n",
    "        connection_info = config['database']\n",
    "        print(\"a\")\n",
    "\n",
    "        self.connection = mysql.connector.connect(\n",
    "            database=connection_info['database'],\n",
    "            host=connection_info['host'],\n",
    "            user=connection_info['user'],\n",
    "            password=connection_info['password']\n",
    "        )\n",
    "\n",
    "    \"\"\"\n",
    "        Ejecuta una consulta en la base de datos y realiza una confirmación de la transacción.\n",
    "\n",
    "        Args:\n",
    "            query (str): La consulta SQL que se va a ejecutar.\n",
    "\n",
    "    \"\"\"\n",
    "    def execute(self, query):\n",
    "        cursor = self.connection.cursor()\n",
    "        cursor.execute(query, multi=True)\n",
    "        self.connection.commit()\n",
    "\n",
    "    \"\"\"\n",
    "        Ejecuta una consulta SELECT en la base de datos y devuelve los resultados como una lista de tuplas.\n",
    "\n",
    "        Args:\n",
    "            query (str): La consulta SELECT SQL que se va a ejecutar.\n",
    "\n",
    "        Returns:\n",
    "            list: Una lista de tuplas que representan los resultados de la consulta.\n",
    "\n",
    "    \"\"\"\n",
    "    def execute_select(self, query):\n",
    "        cursor = self.connection.cursor()\n",
    "        cursor.execute(query)\n",
    "        result = cursor.fetchall()\n",
    "        cursor.close()\n",
    "        return result\n",
    "\n",
    "    \"\"\"\n",
    "        Ejecuta una consulta SELECT en la base de datos y devuelve los resultados como un DataFrame de Pandas.\n",
    "\n",
    "        Args:\n",
    "            query (str): La consulta SELECT SQL que se va a ejecutar.\n",
    "\n",
    "        Returns:\n",
    "            pandas.DataFrame or None: Un DataFrame de Pandas que contiene los resultados de la consulta o None si no \n",
    "            hay resultados.\n",
    "\n",
    "    \"\"\"\n",
    "    def execute_select_as_dataframe(self, query):\n",
    "        result = self.execute_select(query)\n",
    "        if result:\n",
    "            cursor = self.connection.cursor()\n",
    "            cursor.execute(query)\n",
    "            columns = [desc[0] for desc in cursor.description]\n",
    "            cursor.close()\n",
    "\n",
    "            df = pd.DataFrame(result, columns=columns)\n",
    "            return df\n",
    "        else:\n",
    "            return None\n",
    "\n",
    "    \"\"\"\n",
    "        Ejecuta una consulta SELECT en la base de datos y devuelve los resultados como una lista de tuplas.\n",
    "\n",
    "        Args:\n",
    "            query (str): La consulta SELECT SQL que se va a ejecutar.\n",
    "\n",
    "        Returns:\n",
    "            list: Una lista de tuplas que representan los resultados de la consulta.\n",
    "\n",
    "    \"\"\"\n",
    "    def select(self, query):\n",
    "        cursor = self.connection.cursor()\n",
    "        cursor.execute(query)\n",
    "        result = cursor.fetchall()\n",
    "        cursor.close()\n",
    "        return result\n",
    "\n",
    "    \"\"\"\n",
    "        Cierra la conexión a la base de datos.\n",
    "    \"\"\"\n",
    "    def close(self):\n",
    "        self.connection.close()"
   ],
   "metadata": {
    "collapsed": false,
    "ExecuteTime": {
     "end_time": "2023-12-04T01:42:07.139562600Z",
     "start_time": "2023-12-04T01:42:07.117568100Z"
    }
   },
   "id": "42db5d46f543497d"
  },
  {
   "cell_type": "code",
   "execution_count": 11,
   "outputs": [
    {
     "name": "stdout",
     "output_type": "stream",
     "text": [
      "a\n"
     ]
    }
   ],
   "source": [
    "connection = Connection()"
   ],
   "metadata": {
    "collapsed": false,
    "ExecuteTime": {
     "end_time": "2023-12-04T01:42:10.298284200Z",
     "start_time": "2023-12-04T01:42:07.941764600Z"
    }
   },
   "id": "d04d49b7583fc176"
  },
  {
   "cell_type": "code",
   "execution_count": 21,
   "outputs": [],
   "source": [
    "with open('Scripts/star_schema.sql', 'r') as file:\n",
    "    for line in file.read().split(';'):\n",
    "        connection.execute(line)"
   ],
   "metadata": {
    "collapsed": false,
    "ExecuteTime": {
     "end_time": "2023-12-04T01:45:20.836824100Z",
     "start_time": "2023-12-04T01:45:20.188058800Z"
    }
   },
   "id": "8447f10b89ef124b"
  },
  {
   "cell_type": "code",
   "execution_count": 22,
   "outputs": [],
   "source": [
    "class Transform:\n",
    "\n",
    "    def __init__(self, df):\n",
    "        self._df = df\n",
    "        self._df_time = None\n",
    "        self._df_product = None\n",
    "        self._df_city = None\n",
    "        self._df_products_price = None\n",
    "\n",
    "    \"\"\"\n",
    "       Extrae y procesa los datos de correspondientes a la tabla tiempo a partir de un DataFrame dado.\n",
    "\n",
    "       Esta función toma un DataFrame como entrada y realiza las siguientes operaciones:\n",
    "       1. Selecciona las columnas 'Semana' y 'Fecha' del DataFrame original.\n",
    "       2. Elimina filas duplicadas basadas en la columna 'Fecha'.\n",
    "       3. Cambia los nombres de las columnas 'Semana' a 'week' y 'Fecha' a 'date' en el DataFrame resultante.\n",
    "\n",
    "       Args:\n",
    "           df (pandas.DataFrame): El DataFrame de entrada que contiene todos los datos del archivo original.\n",
    "       \"\"\"\n",
    "    def __extract_df_time(self, df):\n",
    "        self._df_time = df[[\"Semana\", \"Fecha\"]]\n",
    "        df_without_duplicates = self._df_time[~self._df_time.duplicated('Fecha')]\n",
    "        self._df_time = df_without_duplicates\n",
    "        new_columns_name = {'Semana': 'week', 'Fecha': 'date'}\n",
    "        self._df_time = self._df_time.rename(columns=new_columns_name)\n",
    "\n",
    "    \"\"\"\n",
    "    Añade la columna 'year' a un DataFrame que contiene datos de tiempo.\n",
    "\n",
    "    Esta función toma un DataFrame que contiene una columna 'date' con fechas en el formato '%d/%m/%Y' y agrega una \n",
    "    nueva columna 'year' que representa el año de cada fecha.\n",
    "\n",
    "    Args:\n",
    "        df (pandas.DataFrame): El DataFrame de entrada que contiene los datos originales.\n",
    "    \"\"\"\n",
    "    def __add_year_df_time(self, df):\n",
    "        df['date'] = pd.to_datetime(df['date'], errors='coerce')\n",
    "        df['year'] = df['date'].dt.year\n",
    "\n",
    "    \"\"\"\n",
    "        Añade la columna 'day' que representa el día del mes a un DataFrame que contiene datos de tiempo.\n",
    "\n",
    "        Esta función toma un DataFrame que contiene una columna 'date' con fechas y agrega una nueva columna 'day' que \n",
    "        representa el día del mes correspondiente a cada fecha.\n",
    "\n",
    "        Args:\n",
    "            df (pandas.DataFrame): El DataFrame de entrada que contiene los datos de tiempo con una columna 'date'.\n",
    "    \"\"\"\n",
    "    def __add_day_df_time(self, df):\n",
    "        df['day'] = df['date'].dt.day\n",
    "\n",
    "    \"\"\"\n",
    "        Añade la columna 'month' que representa el mes a un DataFrame que contiene datos de tiempo.\n",
    "\n",
    "        Esta función toma un DataFrame que contiene una columna 'date' con fechas y agrega una nueva columna 'month' \n",
    "        que representa el mes correspondiente a cada fecha.\n",
    "\n",
    "        Args:\n",
    "            df (pandas.DataFrame): El DataFrame de entrada que contiene los datos de tiempo con una columna 'date'.\n",
    "        \"\"\"\n",
    "    def __add_month_df_time(self, df):\n",
    "        df['month'] = df['date'].dt.month\n",
    "\n",
    "    \"\"\"\n",
    "        Añade una columna de identificación 'id' a un DataFrame que contiene datos de tiempo.\n",
    "\n",
    "        Esta función toma un DataFrame y agrega una nueva columna 'id' que contiene un número único para cada fila del \n",
    "        DataFrame, utilizado como identificación.\n",
    "\n",
    "        Args:\n",
    "            df (pandas.DataFrame): El DataFrame de entrada al que se le agregará la columna 'id'.\n",
    "        \"\"\"\n",
    "    def __add_id_df_time(self, df):\n",
    "        df['id'] = range(1, len(df) + 1)\n",
    "\n",
    "    \"\"\"\n",
    "        Extrae y procesa datos relacionados con ciudades a partir de un DataFrame dado.\n",
    "\n",
    "        Esta función toma un DataFrame como entrada y realiza las siguientes operaciones:\n",
    "        1. Selecciona las columnas 'RegiUn' y 'Sector' del DataFrame original.\n",
    "        2. Elimina filas duplicadas basadas en la columna 'Sector'.\n",
    "        3. Cambia los nombres de las columnas 'RegiUn' a 'region' y 'Sector' a 'name' en el DataFrame resultante.\n",
    "\n",
    "        Args:\n",
    "            df (pandas.DataFrame): El DataFrame de entrada que contiene los datos originales.\n",
    "        \"\"\"\n",
    "    def __extract_df_city(self, df):\n",
    "        self._df_city = df[[\"RegiUn\", \"Sector\"]]\n",
    "        df_without_duplicates = self._df_city[~self._df_city.duplicated('Sector')]\n",
    "        self._df_city = df_without_duplicates\n",
    "        new_columns_name = {'RegiUn': 'region', 'Sector': 'name'}\n",
    "        self._df_city = self._df_city.rename(columns=new_columns_name)\n",
    "\n",
    "    \"\"\"\n",
    "        Añade una columna de identificación 'id' a un DataFrame que contiene datos relacionados con ciudades.\n",
    "\n",
    "        Esta función toma un DataFrame y agrega una nueva columna 'id' que contiene un número único para cada fila del \n",
    "        DataFrame, utilizado como identificación.\n",
    "\n",
    "        Args:\n",
    "            df (pandas.DataFrame): El DataFrame de entrada al que se le agregará la columna 'id'.\n",
    "        \"\"\"\n",
    "    def __add_id_df_city(self, df):\n",
    "        df['id'] = range(1, len(df) + 1)\n",
    "\n",
    "    \"\"\"\n",
    "    Extrae y procesa datos relacionados con productos a partir de un DataFrame dado.\n",
    "\n",
    "    Esta función toma un DataFrame como entrada y realiza las siguientes operaciones:\n",
    "    1. Selecciona las columnas 'Tipo producto' y 'Producto' del DataFrame original.\n",
    "    2. Divide la columna 'Producto' en el símbolo '$', toma la primera parte y elimina espacios finales, asignándola a \n",
    "        la columna 'name'.\n",
    "    3. Elimina la columna 'Producto'.\n",
    "    4. Cambia el nombre de la columna 'Tipo producto' a 'type'.\n",
    "    5. Elimina filas duplicadas basadas en la columna 'name'.\n",
    "\n",
    "    Args:\n",
    "        df (pandas.DataFrame): El DataFrame de entrada que contiene los datos originales.\n",
    "    \"\"\"\n",
    "    def __extract_df_product(self, df):\n",
    "        self._df_product = df[[\"Tipo producto\", \"Producto\"]]\n",
    "        self._df_product['name'] = self._df_product['Producto'].str.split('$').str[0].str.rstrip()\n",
    "        self._df_product = self._df_product.drop(columns=['Producto'])\n",
    "        new_columns_name = {'Tipo producto': 'type'}\n",
    "        self._df_product = self._df_product.rename(columns=new_columns_name)\n",
    "        df_without_duplicates = self._df_product[~self._df_product.duplicated('name')]\n",
    "        self._df_product = df_without_duplicates\n",
    "\n",
    "    \"\"\"\n",
    "        Añade una columna de identificación 'id' a un DataFrame que contiene datos relacionados con productos.\n",
    "\n",
    "        Esta función toma un DataFrame y agrega una nueva columna 'id' que contiene un número único para cada fila del \n",
    "        DataFrame, utilizado como identificación.\n",
    "\n",
    "        Args:\n",
    "            df (pandas.DataFrame): El DataFrame de entrada al que se le agregará la columna 'id'.\n",
    "        \"\"\"\n",
    "    def __add_id_df_product(self, df):\n",
    "        df['id'] = range(1, len(df) + 1)\n",
    "\n",
    "    \"\"\"\n",
    "        Transforma caracteres especiales en los nombres de productos y sectores en un DataFrame.\n",
    "\n",
    "        Esta función toma un DataFrame como entrada y reemplaza caracteres especiales en las columnas 'Producto' y \n",
    "        'Sector' utilizando un diccionario de reemplazo.\n",
    "\n",
    "        Args:\n",
    "            df (pandas.DataFrame): El DataFrame de entrada que contiene los nombres de productos y sectores con \n",
    "            caracteres especiales.\n",
    "        \"\"\"\n",
    "    def __transform_char_products_price(self, df):\n",
    "        dict = {\n",
    "            \"Û\": \"ó\",\n",
    "            \"È\": \"é\",\n",
    "            \"·\": \"á\",\n",
    "            \"Ì\": \"í\",\n",
    "            \"Ò\": \"ñ\"\n",
    "        }\n",
    "\n",
    "        df['Producto'] = df['Producto'].replace(dict, regex=True)\n",
    "\n",
    "        dict = {\n",
    "            \"Û\": \"ó\",\n",
    "            \"È\": \"é\",\n",
    "        }\n",
    "\n",
    "        df['Sector'] = df['Sector'].replace(dict, regex=True)\n",
    "\n",
    "    \"\"\"\n",
    "        Transforma un DataFrame de precios de productos mediante la fusión con otros DataFrames.\n",
    "\n",
    "        Esta función toma un DataFrame como entrada, realiza varias transformaciones y fusiones de datos, y \n",
    "        dejando como producto el DataFrame original con información adicional referencial de las tablas ciudades, \n",
    "        tiempo y productos.\n",
    "\n",
    "        Args:\n",
    "            df (pandas.DataFrame): El DataFrame de entrada que contiene los datos originales.\n",
    "        \"\"\"\n",
    "    def __transform_products_price(self, df):\n",
    "        self._df['Fecha'] = pd.to_datetime(self._df['Fecha'], format='%d/%m/%Y')\n",
    "\n",
    "        self._df = pd.merge(self._df, self._df_city, how='left', left_on='Sector', right_on='name')\n",
    "        self._df.drop(columns=['name', 'region'], inplace=True)\n",
    "        new_columns_name = {'id': 'id_city'}\n",
    "        self._df = self._df.rename(columns=new_columns_name)\n",
    "\n",
    "        self._df = pd.merge(self._df, self._df_time, how='left', left_on=['Fecha'], right_on=['date'])\n",
    "        self._df.drop(columns=['week', 'date', 'day', 'month', 'year'], inplace=True)\n",
    "        new_columns_name = {'id': 'id_time'}\n",
    "        self._df = self._df.rename(columns=new_columns_name)\n",
    "\n",
    "        self._df['Producto'] = self._df['Producto'].str.split('$').str[0].str.rstrip()\n",
    "        self._df = pd.merge(self._df, self._df_product, how='left', left_on=['Producto'], right_on=['name'])\n",
    "        self._df.drop(columns=['type', 'name'], inplace=True)\n",
    "        new_columns_name = {'id': 'id_product'}\n",
    "        self._df = self._df.rename(columns=new_columns_name)\n",
    "\n",
    "        new_columns_name = {'MInimo': 'min', 'M*ximo': 'max', 'Promedio': 'average', 'Tipo punto monitoreo': 'spot'}\n",
    "        self._df = self._df.rename(columns=new_columns_name)\n",
    "        self._df.drop(columns=['RegiUn', 'Sector', 'Semana', 'Fecha', 'Tipo producto', 'Producto'], inplace=True)\n",
    "        self._df_products_price = self._df\n",
    "    \"\"\"\n",
    "    Reordena las columnas de un DataFrame relacionado con datos de tiempo.\n",
    "\n",
    "    Esta función toma un DataFrame como entrada y reordena las columnas en un orden específico que incluye 'day', \n",
    "    'month', 'year', 'date', 'week', y 'id'.\n",
    "\n",
    "    Args:\n",
    "        df (pandas.DataFrame): El DataFrame de entrada que contiene los datos de tiempo.\n",
    "    \"\"\"\n",
    "    def __reorder_columns_time(self, df):\n",
    "        self._df_time = df[['day', 'month', 'year', 'date', 'week', 'id']]\n",
    "    \"\"\"\n",
    "    Reordena las columnas de un DataFrame relacionado con datos de productos.\n",
    "\n",
    "    Esta función toma un DataFrame como entrada y reordena las columnas en un orden específico que incluye 'id', \n",
    "    'type' y 'name'.\n",
    "\n",
    "    Args:\n",
    "        df (pandas.DataFrame): El DataFrame de entrada que contiene los datos de productos.\n",
    "    \"\"\"\n",
    "    def __reorder_columns_product(self, df):\n",
    "        self._df_product = df[['id', 'type', 'name']]\n",
    "\n",
    "    \"\"\"\n",
    "        Reordena las columnas de un DataFrame relacionado con datos de ciudades.\n",
    "\n",
    "        Esta función toma un DataFrame como entrada y reordena las columnas en un orden específico que incluye 'id', \n",
    "        'name' y 'region'.\n",
    "\n",
    "        Args:\n",
    "            df (pandas.DataFrame): El DataFrame de entrada que contiene los datos de ciudades.\n",
    "    \"\"\"\n",
    "    def __reorder_columns_city(self, df):\n",
    "        self._df_city = df[['id', 'name', 'region']]\n",
    "\n",
    "    \"\"\"\n",
    "        Reordena las columnas de un DataFrame relacionado con precios de productos.\n",
    "\n",
    "        Esta función toma un DataFrame como entrada y reordena las columnas en un orden específico que incluye \n",
    "        'id_time', 'id_city', 'id_product', 'spot', 'min', 'max', 'average' y '_id'.\n",
    "\n",
    "        Args:\n",
    "            df (pandas.DataFrame): El DataFrame de entrada que contiene los datos de precios de productos.\n",
    "    \"\"\"\n",
    "    def __reorder_columns_product_price(self, df):\n",
    "        self._df_products_price = df[['id_time', 'id_city', 'id_product', 'spot', 'min', 'max', 'average', '_id']]\n",
    "\n",
    "    \"\"\"\n",
    "        Transforma la columna 'average' de un DataFrame relacionado con precios de productos en tipo de dato numérico.\n",
    "\n",
    "        Esta función toma un DataFrame como entrada y realiza dos operaciones:\n",
    "        1. Reemplaza comas (',') por puntos ('.') en la columna 'average'.\n",
    "        2. Convierte la columna 'average' a tipo de dato float.\n",
    "\n",
    "        Args:\n",
    "            df (pandas.DataFrame): El DataFrame de entrada que contiene los datos de precios de productos.\n",
    "    \"\"\"\n",
    "    def __average_product_price(self, df):\n",
    "        df['average'] = df['average'].str.replace(',', '.', regex=True)\n",
    "        df['average'] = df['average'].astype(float)\n",
    "\n",
    "    \"\"\"\n",
    "     Realiza una serie de transformaciones en los DataFrames para enriquecer los datos de precios de productos.\n",
    "\n",
    "     Esta función ejecuta una serie de métodos privados en una secuencia específica para transformar los\n",
    "      datos de precios de productos.\n",
    "     \"\"\"\n",
    "    def transform(self):\n",
    "        self.__transform_char_products_price(self._df)\n",
    "        self.__extract_df_time(self._df)\n",
    "        self.__add_year_df_time(self._df_time)\n",
    "        self.__add_day_df_time(self._df_time)\n",
    "        self.__add_month_df_time(self._df_time)\n",
    "        self.__add_id_df_time(self._df_time)\n",
    "        self.__extract_df_city(self._df)\n",
    "        self.__add_id_df_city(self._df_city)\n",
    "        self.__extract_df_product(self._df)\n",
    "        self.__add_id_df_product(self._df_product)\n",
    "        self.__transform_products_price(self._df_products_price)\n",
    "        self.__reorder_columns_time(self._df_time)\n",
    "        self.__reorder_columns_product(self._df_product)\n",
    "        self.__reorder_columns_city(self._df_city)\n",
    "        self.__reorder_columns_product_price(self._df_products_price)\n",
    "        self.__average_product_price(self._df_products_price)\n",
    "\n",
    "    def get_df_time(self):\n",
    "        return self._df_time\n",
    "\n",
    "    def get_df_product(self):\n",
    "        return self._df_product\n",
    "\n",
    "    def get_df_city(self):\n",
    "        return self._df_city\n",
    "\n",
    "    def get_df_products_price(self):\n",
    "        return self._df_products_price"
   ],
   "metadata": {
    "collapsed": false,
    "ExecuteTime": {
     "end_time": "2023-12-04T01:45:22.416674800Z",
     "start_time": "2023-12-04T01:45:22.374153400Z"
    }
   },
   "id": "1f7c9eded75e1f53"
  },
  {
   "cell_type": "code",
   "execution_count": 23,
   "outputs": [
    {
     "name": "stderr",
     "output_type": "stream",
     "text": [
      "C:\\Users\\ignac\\AppData\\Local\\Temp\\ipykernel_13992\\706097765.py:123: SettingWithCopyWarning: \n",
      "A value is trying to be set on a copy of a slice from a DataFrame.\n",
      "Try using .loc[row_indexer,col_indexer] = value instead\n",
      "\n",
      "See the caveats in the documentation: https://pandas.pydata.org/pandas-docs/stable/user_guide/indexing.html#returning-a-view-versus-a-copy\n",
      "  self._df_product['name'] = self._df_product['Producto'].str.split('$').str[0].str.rstrip()\n"
     ]
    },
    {
     "data": {
      "text/plain": "day      0\nmonth    0\nyear     0\ndate     0\nweek     0\nid       0\ndtype: int64"
     },
     "metadata": {},
     "output_type": "display_data"
    }
   ],
   "source": [
    "transform = Transform(df)\n",
    "transform.transform()\n",
    "df_time = transform.get_df_time()\n",
    "df_city = transform.get_df_city()\n",
    "df_product = transform.get_df_product()\n",
    "df_product_price = transform.get_df_products_price()\n",
    "display(nan_data(df_time))"
   ],
   "metadata": {
    "collapsed": false,
    "ExecuteTime": {
     "end_time": "2023-12-04T01:45:24.930247800Z",
     "start_time": "2023-12-04T01:45:24.321236500Z"
    }
   },
   "id": "3351e901ff33c73c"
  },
  {
   "cell_type": "code",
   "execution_count": 24,
   "outputs": [],
   "source": [
    "class Load:\n",
    "    def __init__(self, df_time, df_product, df_city, df_product_price, connection):\n",
    "        self._df_time = df_time\n",
    "        self._df_product = df_product\n",
    "        self._df_city = df_city\n",
    "        self._df_product_price = df_product_price\n",
    "        self._connection = connection\n",
    "\n",
    "    \"\"\"\n",
    "        Carga datos de tiempo en una tabla de una base de datos a partir de un DataFrame.\n",
    "\n",
    "        Esta función toma los datos de tiempo contenidos en un DataFrame y ejecuta una serie de consultas SQL para \n",
    "        insertar estos datos en una tabla llamada 'Time' en una base de datos.\n",
    "    \"\"\"\n",
    "    def __load_time_table(self):\n",
    "        for row in self._df_time.to_numpy():\n",
    "            query = ('INSERT INTO Time (day, month, year, `date`, week, id) VALUES(%s,%s,%s,\\'%s\\',%s,%s)' %\n",
    "                     (row[0], row[1], row[2], row[3], row[4], row[5]))\n",
    "            self._connection.execute(query)\n",
    "\n",
    "    \"\"\"\n",
    "        Carga datos de productos en una tabla de una base de datos a partir de un DataFrame.\n",
    "\n",
    "        Esta función toma los datos de productos contenidos en un DataFrame y ejecuta una serie de consultas SQL para \n",
    "        insertar estos datos en una tabla llamada 'Product' en una base de datos.\n",
    "    \"\"\"\n",
    "    def __load_product_table(self):\n",
    "        for row in self._df_product.to_numpy():\n",
    "            type_value = row[1]\n",
    "            name_value = row[2].replace(\"'\", \"''\")\n",
    "            query = \"INSERT INTO Product (type, name) VALUES ('%s', '%s')\" % (type_value, name_value)\n",
    "            self._connection.execute(query)\n",
    "\n",
    "    \"\"\"\n",
    "        Carga datos de ciudades en una tabla de una base de datos a partir de un DataFrame.\n",
    "\n",
    "        Esta función toma los datos de ciudades contenidos en un DataFrame y ejecuta una serie de consultas SQL para \n",
    "        insertar estos datos en una tabla llamada 'City' en una base de datos.\n",
    "    \"\"\"\n",
    "    def __load_city_table(self):\n",
    "        for row in self._df_city.to_numpy():\n",
    "            query = \"INSERT INTO City (name, region) VALUES('%s', '%s')\" % (row[1], row[2])\n",
    "            self._connection.execute(query)\n",
    "\n",
    "    \"\"\"\n",
    "        Carga datos de precios de productos en una tabla de una base de datos a partir de un DataFrame.\n",
    "\n",
    "        Esta función toma los datos de precios de productos contenidos en un DataFrame y ejecuta una serie de consultas\n",
    "         SQL para insertar estos datos en una tabla llamada 'fact_products_price' en una base de datos.\n",
    "    \"\"\"\n",
    "    def __load_product_price_table(self):\n",
    "        for row in self._df_product_price.to_numpy():\n",
    "            query = (\"INSERT INTO fact_products_price (id_time, id_city, id_product, spot, min, max, average) \"\n",
    "                     \"VALUES(%s, %s, %s, '%s', %s, %s, %s)\") % (row[0], row[1], row[2], row[3], row[4], row[5], row[6])\n",
    "            self._connection.execute(query)\n",
    "\n",
    "    \"\"\"\n",
    "        Carga datos en tablas de una base de datos a partir de DataFrames.\n",
    "\n",
    "        Esta función ejecuta una serie de métodos privados en una secuencia específica para cargar datos en tablas de\n",
    "         una base de datos a partir de DataFrames internos de la clase.\n",
    "    \"\"\"\n",
    "    def load(self):\n",
    "        self.__load_time_table()\n",
    "        self.__load_product_table()\n",
    "        self.__load_city_table()\n",
    "        self.__load_product_price_table()"
   ],
   "metadata": {
    "collapsed": false,
    "ExecuteTime": {
     "end_time": "2023-12-04T01:45:28.071218200Z",
     "start_time": "2023-12-04T01:45:28.027040200Z"
    }
   },
   "id": "ea039a465f81d707"
  },
  {
   "cell_type": "code",
   "execution_count": 25,
   "outputs": [
    {
     "data": {
      "text/plain": "day      0\nmonth    0\nyear     0\ndate     0\nweek     0\nid       0\ndtype: int64"
     },
     "metadata": {},
     "output_type": "display_data"
    }
   ],
   "source": [
    "load = Load(df_time, df_product, df_city, df_product_price, connection)\n",
    "load.load()\n",
    "\n",
    "df_product_price.to_csv(\"fact table.csv\", index=False)\n",
    "df_product.to_csv(\"product.csv\", index=False)\n",
    "df_city.to_csv(\"city.csv\", index=False)\n",
    "df_time.to_csv(\"time.csv\", index=False)"
   ],
   "metadata": {
    "collapsed": false,
    "ExecuteTime": {
     "end_time": "2023-12-04T01:48:56.165436400Z",
     "start_time": "2023-12-04T01:45:29.048058700Z"
    }
   },
   "id": "a7d62aa35c95b156"
  }
 ],
 "metadata": {
  "kernelspec": {
   "display_name": "Python 3",
   "language": "python",
   "name": "python3"
  },
  "language_info": {
   "codemirror_mode": {
    "name": "ipython",
    "version": 2
   },
   "file_extension": ".py",
   "mimetype": "text/x-python",
   "name": "python",
   "nbconvert_exporter": "python",
   "pygments_lexer": "ipython2",
   "version": "2.7.6"
  }
 },
 "nbformat": 4,
 "nbformat_minor": 5
}
