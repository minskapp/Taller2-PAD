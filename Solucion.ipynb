{
 "cells": [
  {
   "cell_type": "markdown",
   "source": [
    "# Importamos las librerías necesarias"
   ],
   "metadata": {
    "collapsed": false
   },
   "id": "5df4804858bebb35"
  },
  {
   "cell_type": "code",
   "execution_count": 2,
   "outputs": [],
   "source": [
    "import pandas as pd\n",
    "import numpy as np"
   ],
   "metadata": {
    "collapsed": false,
    "ExecuteTime": {
     "start_time": "2023-11-26T19:57:26.693680400Z"
    }
   },
   "id": "initial_id"
  },
  {
   "cell_type": "markdown",
   "source": [
    "### Leemos el archivo de Frutas y Hortalizas"
   ],
   "metadata": {
    "collapsed": false
   },
   "id": "9cb3449aaeadba52"
  },
  {
   "cell_type": "code",
   "execution_count": 3,
   "outputs": [
    {
     "data": {
      "text/plain": "         _id  RegiUn Tipo punto monitoreo    Sector  Semana       Fecha  \\\n0          1       7          Feria libre     Talca      28  08/07/2013   \n1          2       7          Feria libre    CuricÛ      28  08/07/2013   \n2          3       7          Feria libre     Talca      28  08/07/2013   \n3          4       7          Feria libre     Talca      28  08/07/2013   \n4          5       7          Feria libre    CuricÛ      28  08/07/2013   \n...      ...     ...                  ...       ...     ...         ...   \n21755  21756      13         Supermercado    Centro      39  23/09/2013   \n21756  21757      13         Supermercado  Poniente      39  23/09/2013   \n21757  21758      13         Supermercado   Oriente      39  23/09/2013   \n21758  21759      13         Supermercado     Norte      39  23/09/2013   \n21759  21760      13         Supermercado       Sur      39  23/09/2013   \n\n         Tipo producto                                           Producto  \\\n0      Fruta-Hortaliza                     Ajo Chino $/unidad 1a (guarda)   \n1      Fruta-Hortaliza                     Ajo Chino $/unidad 1a (guarda)   \n2      Fruta-Hortaliza                     Ajo Chino $/unidad 2a (guarda)   \n3      Fruta-Hortaliza                    Apio Americano $/unidad Primera   \n4      Fruta-Hortaliza                    Apio Americano $/unidad Primera   \n...                ...                                                ...   \n21755  Fruta-Hortaliza  Zapallo italiano Sin Especificar $/unidad Primera   \n21756  Fruta-Hortaliza  Zapallo italiano Sin Especificar $/unidad Primera   \n21757  Fruta-Hortaliza  Zapallo italiano Sin Especificar $/unidad Primera   \n21758  Fruta-Hortaliza  Zapallo italiano Sin Especificar $/unidad Primera   \n21759  Fruta-Hortaliza  Zapallo italiano Sin Especificar $/unidad Segunda   \n\n       MInimo  M*ximo Promedio  \n0         125     150    137,5  \n1         100     160      140  \n2         100     100      100  \n3         800     800      800  \n4         800     900      850  \n...       ...     ...      ...  \n21755     477     589    518,8  \n21756     490     619   566,75  \n21757     559     599    573,4  \n21758     559     619      589  \n21759     439     439      439  \n\n[21760 rows x 11 columns]",
      "text/html": "<div>\n<style scoped>\n    .dataframe tbody tr th:only-of-type {\n        vertical-align: middle;\n    }\n\n    .dataframe tbody tr th {\n        vertical-align: top;\n    }\n\n    .dataframe thead th {\n        text-align: right;\n    }\n</style>\n<table border=\"1\" class=\"dataframe\">\n  <thead>\n    <tr style=\"text-align: right;\">\n      <th></th>\n      <th>_id</th>\n      <th>RegiUn</th>\n      <th>Tipo punto monitoreo</th>\n      <th>Sector</th>\n      <th>Semana</th>\n      <th>Fecha</th>\n      <th>Tipo producto</th>\n      <th>Producto</th>\n      <th>MInimo</th>\n      <th>M*ximo</th>\n      <th>Promedio</th>\n    </tr>\n  </thead>\n  <tbody>\n    <tr>\n      <th>0</th>\n      <td>1</td>\n      <td>7</td>\n      <td>Feria libre</td>\n      <td>Talca</td>\n      <td>28</td>\n      <td>08/07/2013</td>\n      <td>Fruta-Hortaliza</td>\n      <td>Ajo Chino $/unidad 1a (guarda)</td>\n      <td>125</td>\n      <td>150</td>\n      <td>137,5</td>\n    </tr>\n    <tr>\n      <th>1</th>\n      <td>2</td>\n      <td>7</td>\n      <td>Feria libre</td>\n      <td>CuricÛ</td>\n      <td>28</td>\n      <td>08/07/2013</td>\n      <td>Fruta-Hortaliza</td>\n      <td>Ajo Chino $/unidad 1a (guarda)</td>\n      <td>100</td>\n      <td>160</td>\n      <td>140</td>\n    </tr>\n    <tr>\n      <th>2</th>\n      <td>3</td>\n      <td>7</td>\n      <td>Feria libre</td>\n      <td>Talca</td>\n      <td>28</td>\n      <td>08/07/2013</td>\n      <td>Fruta-Hortaliza</td>\n      <td>Ajo Chino $/unidad 2a (guarda)</td>\n      <td>100</td>\n      <td>100</td>\n      <td>100</td>\n    </tr>\n    <tr>\n      <th>3</th>\n      <td>4</td>\n      <td>7</td>\n      <td>Feria libre</td>\n      <td>Talca</td>\n      <td>28</td>\n      <td>08/07/2013</td>\n      <td>Fruta-Hortaliza</td>\n      <td>Apio Americano $/unidad Primera</td>\n      <td>800</td>\n      <td>800</td>\n      <td>800</td>\n    </tr>\n    <tr>\n      <th>4</th>\n      <td>5</td>\n      <td>7</td>\n      <td>Feria libre</td>\n      <td>CuricÛ</td>\n      <td>28</td>\n      <td>08/07/2013</td>\n      <td>Fruta-Hortaliza</td>\n      <td>Apio Americano $/unidad Primera</td>\n      <td>800</td>\n      <td>900</td>\n      <td>850</td>\n    </tr>\n    <tr>\n      <th>...</th>\n      <td>...</td>\n      <td>...</td>\n      <td>...</td>\n      <td>...</td>\n      <td>...</td>\n      <td>...</td>\n      <td>...</td>\n      <td>...</td>\n      <td>...</td>\n      <td>...</td>\n      <td>...</td>\n    </tr>\n    <tr>\n      <th>21755</th>\n      <td>21756</td>\n      <td>13</td>\n      <td>Supermercado</td>\n      <td>Centro</td>\n      <td>39</td>\n      <td>23/09/2013</td>\n      <td>Fruta-Hortaliza</td>\n      <td>Zapallo italiano Sin Especificar $/unidad Primera</td>\n      <td>477</td>\n      <td>589</td>\n      <td>518,8</td>\n    </tr>\n    <tr>\n      <th>21756</th>\n      <td>21757</td>\n      <td>13</td>\n      <td>Supermercado</td>\n      <td>Poniente</td>\n      <td>39</td>\n      <td>23/09/2013</td>\n      <td>Fruta-Hortaliza</td>\n      <td>Zapallo italiano Sin Especificar $/unidad Primera</td>\n      <td>490</td>\n      <td>619</td>\n      <td>566,75</td>\n    </tr>\n    <tr>\n      <th>21757</th>\n      <td>21758</td>\n      <td>13</td>\n      <td>Supermercado</td>\n      <td>Oriente</td>\n      <td>39</td>\n      <td>23/09/2013</td>\n      <td>Fruta-Hortaliza</td>\n      <td>Zapallo italiano Sin Especificar $/unidad Primera</td>\n      <td>559</td>\n      <td>599</td>\n      <td>573,4</td>\n    </tr>\n    <tr>\n      <th>21758</th>\n      <td>21759</td>\n      <td>13</td>\n      <td>Supermercado</td>\n      <td>Norte</td>\n      <td>39</td>\n      <td>23/09/2013</td>\n      <td>Fruta-Hortaliza</td>\n      <td>Zapallo italiano Sin Especificar $/unidad Primera</td>\n      <td>559</td>\n      <td>619</td>\n      <td>589</td>\n    </tr>\n    <tr>\n      <th>21759</th>\n      <td>21760</td>\n      <td>13</td>\n      <td>Supermercado</td>\n      <td>Sur</td>\n      <td>39</td>\n      <td>23/09/2013</td>\n      <td>Fruta-Hortaliza</td>\n      <td>Zapallo italiano Sin Especificar $/unidad Segunda</td>\n      <td>439</td>\n      <td>439</td>\n      <td>439</td>\n    </tr>\n  </tbody>\n</table>\n<p>21760 rows × 11 columns</p>\n</div>"
     },
     "execution_count": 3,
     "metadata": {},
     "output_type": "execute_result"
    }
   ],
   "source": [
    "nombre_archivo = 'Frutas y Hortalizas.csv'\n",
    "df_fruits = pd.read_csv(nombre_archivo)\n",
    "df_fruits"
   ],
   "metadata": {
    "collapsed": false,
    "ExecuteTime": {
     "end_time": "2023-11-26T19:58:14.018787200Z",
     "start_time": "2023-11-26T19:58:13.814191500Z"
    }
   },
   "id": "b90cc0c0872ad7fc"
  },
  {
   "cell_type": "markdown",
   "source": [
    "### Leemos el archivo de Resto de productos"
   ],
   "metadata": {
    "collapsed": false
   },
   "id": "69452c77d7127f3c"
  },
  {
   "cell_type": "code",
   "execution_count": 4,
   "outputs": [
    {
     "data": {
      "text/plain": "       _id  RegiUn Tipo punto monitoreo              Sector  Semana  \\\n0        1       7           CarnicerÌa               Talca      28   \n1        2       7           CarnicerÌa              CuricÛ      28   \n2        3       7           CarnicerÌa               Talca      28   \n3        4       7           CarnicerÌa              CuricÛ      28   \n4        5       7           CarnicerÌa               Talca      28   \n...    ...     ...                  ...                 ...     ...   \n3495  3496       8         Supermercado               Penco      39   \n3496  3497       8         Supermercado  Talcahuano-HualpÈn      39   \n3497  3498       8         Supermercado          ConcepciÛn      39   \n3498  3499       8         Supermercado         Chiguayante      39   \n3499  3500       8         Supermercado               Penco      39   \n\n                    Fecha                 Tipo producto              Producto  \\\n0     2013-08-07T00:00:00   Carne de Bovino CategorÌa V              Abastero   \n1     2013-08-07T00:00:00   Carne de Bovino CategorÌa V              Abastero   \n2     2013-08-07T00:00:00   Carne de Bovino CategorÌa V       Asado Carnicero   \n3     2013-08-07T00:00:00   Carne de Bovino CategorÌa V       Asado Carnicero   \n4     2013-08-07T00:00:00   Carne de Bovino CategorÌa V               Asiento   \n...                   ...                           ...                   ...   \n3495  2013-09-23T00:00:00  Carne de Pollo, Cerdo y Pavo  Chuleta (Parrillera)   \n3496  2013-09-23T00:00:00  Carne de Pollo, Cerdo y Pavo      Chuleta (centro)   \n3497  2013-09-23T00:00:00  Carne de Pollo, Cerdo y Pavo      Chuleta (centro)   \n3498  2013-09-23T00:00:00  Carne de Pollo, Cerdo y Pavo      Chuleta (centro)   \n3499  2013-09-23T00:00:00  Carne de Pollo, Cerdo y Pavo      Chuleta (centro)   \n\n      MInimo  M*ximo Promedio  \n0       3990    5998  5029,64  \n1       3498    4980     4491  \n2       3990    5500  4790,64  \n3       3498    4980     4441  \n4       4680    6998   6243,6  \n...      ...     ...      ...  \n3495    3290    3489   3389,5  \n3496    3990    4199  4059,67  \n3497    3790    4499  4137,44  \n3498    4190    4190     4190  \n3499    3290    3290     3290  \n\n[3500 rows x 11 columns]",
      "text/html": "<div>\n<style scoped>\n    .dataframe tbody tr th:only-of-type {\n        vertical-align: middle;\n    }\n\n    .dataframe tbody tr th {\n        vertical-align: top;\n    }\n\n    .dataframe thead th {\n        text-align: right;\n    }\n</style>\n<table border=\"1\" class=\"dataframe\">\n  <thead>\n    <tr style=\"text-align: right;\">\n      <th></th>\n      <th>_id</th>\n      <th>RegiUn</th>\n      <th>Tipo punto monitoreo</th>\n      <th>Sector</th>\n      <th>Semana</th>\n      <th>Fecha</th>\n      <th>Tipo producto</th>\n      <th>Producto</th>\n      <th>MInimo</th>\n      <th>M*ximo</th>\n      <th>Promedio</th>\n    </tr>\n  </thead>\n  <tbody>\n    <tr>\n      <th>0</th>\n      <td>1</td>\n      <td>7</td>\n      <td>CarnicerÌa</td>\n      <td>Talca</td>\n      <td>28</td>\n      <td>2013-08-07T00:00:00</td>\n      <td>Carne de Bovino CategorÌa V</td>\n      <td>Abastero</td>\n      <td>3990</td>\n      <td>5998</td>\n      <td>5029,64</td>\n    </tr>\n    <tr>\n      <th>1</th>\n      <td>2</td>\n      <td>7</td>\n      <td>CarnicerÌa</td>\n      <td>CuricÛ</td>\n      <td>28</td>\n      <td>2013-08-07T00:00:00</td>\n      <td>Carne de Bovino CategorÌa V</td>\n      <td>Abastero</td>\n      <td>3498</td>\n      <td>4980</td>\n      <td>4491</td>\n    </tr>\n    <tr>\n      <th>2</th>\n      <td>3</td>\n      <td>7</td>\n      <td>CarnicerÌa</td>\n      <td>Talca</td>\n      <td>28</td>\n      <td>2013-08-07T00:00:00</td>\n      <td>Carne de Bovino CategorÌa V</td>\n      <td>Asado Carnicero</td>\n      <td>3990</td>\n      <td>5500</td>\n      <td>4790,64</td>\n    </tr>\n    <tr>\n      <th>3</th>\n      <td>4</td>\n      <td>7</td>\n      <td>CarnicerÌa</td>\n      <td>CuricÛ</td>\n      <td>28</td>\n      <td>2013-08-07T00:00:00</td>\n      <td>Carne de Bovino CategorÌa V</td>\n      <td>Asado Carnicero</td>\n      <td>3498</td>\n      <td>4980</td>\n      <td>4441</td>\n    </tr>\n    <tr>\n      <th>4</th>\n      <td>5</td>\n      <td>7</td>\n      <td>CarnicerÌa</td>\n      <td>Talca</td>\n      <td>28</td>\n      <td>2013-08-07T00:00:00</td>\n      <td>Carne de Bovino CategorÌa V</td>\n      <td>Asiento</td>\n      <td>4680</td>\n      <td>6998</td>\n      <td>6243,6</td>\n    </tr>\n    <tr>\n      <th>...</th>\n      <td>...</td>\n      <td>...</td>\n      <td>...</td>\n      <td>...</td>\n      <td>...</td>\n      <td>...</td>\n      <td>...</td>\n      <td>...</td>\n      <td>...</td>\n      <td>...</td>\n      <td>...</td>\n    </tr>\n    <tr>\n      <th>3495</th>\n      <td>3496</td>\n      <td>8</td>\n      <td>Supermercado</td>\n      <td>Penco</td>\n      <td>39</td>\n      <td>2013-09-23T00:00:00</td>\n      <td>Carne de Pollo, Cerdo y Pavo</td>\n      <td>Chuleta (Parrillera)</td>\n      <td>3290</td>\n      <td>3489</td>\n      <td>3389,5</td>\n    </tr>\n    <tr>\n      <th>3496</th>\n      <td>3497</td>\n      <td>8</td>\n      <td>Supermercado</td>\n      <td>Talcahuano-HualpÈn</td>\n      <td>39</td>\n      <td>2013-09-23T00:00:00</td>\n      <td>Carne de Pollo, Cerdo y Pavo</td>\n      <td>Chuleta (centro)</td>\n      <td>3990</td>\n      <td>4199</td>\n      <td>4059,67</td>\n    </tr>\n    <tr>\n      <th>3497</th>\n      <td>3498</td>\n      <td>8</td>\n      <td>Supermercado</td>\n      <td>ConcepciÛn</td>\n      <td>39</td>\n      <td>2013-09-23T00:00:00</td>\n      <td>Carne de Pollo, Cerdo y Pavo</td>\n      <td>Chuleta (centro)</td>\n      <td>3790</td>\n      <td>4499</td>\n      <td>4137,44</td>\n    </tr>\n    <tr>\n      <th>3498</th>\n      <td>3499</td>\n      <td>8</td>\n      <td>Supermercado</td>\n      <td>Chiguayante</td>\n      <td>39</td>\n      <td>2013-09-23T00:00:00</td>\n      <td>Carne de Pollo, Cerdo y Pavo</td>\n      <td>Chuleta (centro)</td>\n      <td>4190</td>\n      <td>4190</td>\n      <td>4190</td>\n    </tr>\n    <tr>\n      <th>3499</th>\n      <td>3500</td>\n      <td>8</td>\n      <td>Supermercado</td>\n      <td>Penco</td>\n      <td>39</td>\n      <td>2013-09-23T00:00:00</td>\n      <td>Carne de Pollo, Cerdo y Pavo</td>\n      <td>Chuleta (centro)</td>\n      <td>3290</td>\n      <td>3290</td>\n      <td>3290</td>\n    </tr>\n  </tbody>\n</table>\n<p>3500 rows × 11 columns</p>\n</div>"
     },
     "execution_count": 4,
     "metadata": {},
     "output_type": "execute_result"
    }
   ],
   "source": [
    "nombre_archivo = 'Resto de productos.csv'\n",
    "df_others = pd.read_csv(nombre_archivo)\n",
    "df_others"
   ],
   "metadata": {
    "collapsed": false,
    "ExecuteTime": {
     "end_time": "2023-11-26T19:58:50.845240300Z",
     "start_time": "2023-11-26T19:58:50.789980100Z"
    }
   },
   "id": "78e4c01b1bd00791"
  },
  {
   "cell_type": "markdown",
   "source": [
    "### Datos nulos\n",
    "Verificamos la cantidad de datos nulos"
   ],
   "metadata": {
    "collapsed": false
   },
   "id": "6d42f3784b56ec3b"
  },
  {
   "cell_type": "code",
   "execution_count": 5,
   "outputs": [],
   "source": [
    "def null_data(df):\n",
    "    return df.isnull().sum()"
   ],
   "metadata": {
    "collapsed": false,
    "ExecuteTime": {
     "end_time": "2023-11-26T20:02:34.871683400Z",
     "start_time": "2023-11-26T20:02:34.821377400Z"
    }
   },
   "id": "1dc91e30cf50f440"
  },
  {
   "cell_type": "code",
   "execution_count": 10,
   "outputs": [
    {
     "data": {
      "text/plain": "_id                     0\nRegiUn                  0\nTipo punto monitoreo    0\nSector                  0\nSemana                  0\nFecha                   0\nTipo producto           0\nProducto                0\nMInimo                  0\nM*ximo                  0\nPromedio                0\ndtype: int64"
     },
     "metadata": {},
     "output_type": "display_data"
    },
    {
     "data": {
      "text/plain": "_id                     0\nRegiUn                  0\nTipo punto monitoreo    0\nSector                  0\nSemana                  0\nFecha                   0\nTipo producto           0\nProducto                0\nMInimo                  0\nM*ximo                  0\nPromedio                0\ndtype: int64"
     },
     "metadata": {},
     "output_type": "display_data"
    }
   ],
   "source": [
    "display(null_data(df_fruits))\n",
    "display(null_data(df_others))"
   ],
   "metadata": {
    "collapsed": false,
    "ExecuteTime": {
     "end_time": "2023-11-26T20:08:46.088976800Z",
     "start_time": "2023-11-26T20:08:46.069810600Z"
    }
   },
   "id": "a5f4ad930676c6ff"
  },
  {
   "cell_type": "markdown",
   "source": [
    "### Juntar ambos DataFrame\n",
    "Al no existir datos nulos en los dataframe, se procede a unirlos de manera vertical"
   ],
   "metadata": {
    "collapsed": false
   },
   "id": "4d7b773e30ad07a6"
  },
  {
   "cell_type": "code",
   "execution_count": 9,
   "outputs": [
    {
     "data": {
      "text/plain": "   _id  RegiUn Tipo punto monitoreo  Sector  Semana       Fecha  \\\n0    1       7          Feria libre   Talca      28  08/07/2013   \n1    2       7          Feria libre  CuricÛ      28  08/07/2013   \n2    3       7          Feria libre   Talca      28  08/07/2013   \n3    4       7          Feria libre   Talca      28  08/07/2013   \n4    5       7          Feria libre  CuricÛ      28  08/07/2013   \n\n     Tipo producto                         Producto  MInimo  M*ximo Promedio  \n0  Fruta-Hortaliza   Ajo Chino $/unidad 1a (guarda)     125     150    137,5  \n1  Fruta-Hortaliza   Ajo Chino $/unidad 1a (guarda)     100     160      140  \n2  Fruta-Hortaliza   Ajo Chino $/unidad 2a (guarda)     100     100      100  \n3  Fruta-Hortaliza  Apio Americano $/unidad Primera     800     800      800  \n4  Fruta-Hortaliza  Apio Americano $/unidad Primera     800     900      850  ",
      "text/html": "<div>\n<style scoped>\n    .dataframe tbody tr th:only-of-type {\n        vertical-align: middle;\n    }\n\n    .dataframe tbody tr th {\n        vertical-align: top;\n    }\n\n    .dataframe thead th {\n        text-align: right;\n    }\n</style>\n<table border=\"1\" class=\"dataframe\">\n  <thead>\n    <tr style=\"text-align: right;\">\n      <th></th>\n      <th>_id</th>\n      <th>RegiUn</th>\n      <th>Tipo punto monitoreo</th>\n      <th>Sector</th>\n      <th>Semana</th>\n      <th>Fecha</th>\n      <th>Tipo producto</th>\n      <th>Producto</th>\n      <th>MInimo</th>\n      <th>M*ximo</th>\n      <th>Promedio</th>\n    </tr>\n  </thead>\n  <tbody>\n    <tr>\n      <th>0</th>\n      <td>1</td>\n      <td>7</td>\n      <td>Feria libre</td>\n      <td>Talca</td>\n      <td>28</td>\n      <td>08/07/2013</td>\n      <td>Fruta-Hortaliza</td>\n      <td>Ajo Chino $/unidad 1a (guarda)</td>\n      <td>125</td>\n      <td>150</td>\n      <td>137,5</td>\n    </tr>\n    <tr>\n      <th>1</th>\n      <td>2</td>\n      <td>7</td>\n      <td>Feria libre</td>\n      <td>CuricÛ</td>\n      <td>28</td>\n      <td>08/07/2013</td>\n      <td>Fruta-Hortaliza</td>\n      <td>Ajo Chino $/unidad 1a (guarda)</td>\n      <td>100</td>\n      <td>160</td>\n      <td>140</td>\n    </tr>\n    <tr>\n      <th>2</th>\n      <td>3</td>\n      <td>7</td>\n      <td>Feria libre</td>\n      <td>Talca</td>\n      <td>28</td>\n      <td>08/07/2013</td>\n      <td>Fruta-Hortaliza</td>\n      <td>Ajo Chino $/unidad 2a (guarda)</td>\n      <td>100</td>\n      <td>100</td>\n      <td>100</td>\n    </tr>\n    <tr>\n      <th>3</th>\n      <td>4</td>\n      <td>7</td>\n      <td>Feria libre</td>\n      <td>Talca</td>\n      <td>28</td>\n      <td>08/07/2013</td>\n      <td>Fruta-Hortaliza</td>\n      <td>Apio Americano $/unidad Primera</td>\n      <td>800</td>\n      <td>800</td>\n      <td>800</td>\n    </tr>\n    <tr>\n      <th>4</th>\n      <td>5</td>\n      <td>7</td>\n      <td>Feria libre</td>\n      <td>CuricÛ</td>\n      <td>28</td>\n      <td>08/07/2013</td>\n      <td>Fruta-Hortaliza</td>\n      <td>Apio Americano $/unidad Primera</td>\n      <td>800</td>\n      <td>900</td>\n      <td>850</td>\n    </tr>\n  </tbody>\n</table>\n</div>"
     },
     "execution_count": 9,
     "metadata": {},
     "output_type": "execute_result"
    }
   ],
   "source": [
    "df = pd.concat([df_fruits, df_others])\n",
    "df.head()"
   ],
   "metadata": {
    "collapsed": false,
    "ExecuteTime": {
     "end_time": "2023-11-26T20:06:26.158133Z",
     "start_time": "2023-11-26T20:06:26.120745700Z"
    }
   },
   "id": "fb647a9a59e767f2"
  },
  {
   "cell_type": "markdown",
   "source": [
    "# Conexión con la Base de Datos"
   ],
   "metadata": {
    "collapsed": false
   },
   "id": "f87bfc92b5468592"
  },
  {
   "cell_type": "code",
   "execution_count": 1,
   "outputs": [],
   "source": [
    "import mysql.connector\n",
    "import configparser\n",
    "import pandas as pd\n",
    "\n",
    "class Connection:\n",
    "\n",
    "    \"\"\"\n",
    "        Inicializa una conexión a la base de datos utilizando la información de configuración proporcionada en\n",
    "        el archivo 'config.ini'.\n",
    "    \"\"\"\n",
    "    def __init__(self):\n",
    "        config = configparser.ConfigParser()\n",
    "        config.read('resources/config.ini')\n",
    "        connection_info = config['database']\n",
    "\n",
    "        self.connection = mysql.connector.connect(\n",
    "            database=connection_info['database'],\n",
    "            host=connection_info['host'],\n",
    "            user=connection_info['user'],\n",
    "            password=connection_info['password']\n",
    "        )\n",
    "\n",
    "    \"\"\"\n",
    "        Ejecuta una consulta en la base de datos y realiza una confirmación de la transacción.\n",
    "\n",
    "        Args:\n",
    "            query (str): La consulta SQL que se va a ejecutar.\n",
    "\n",
    "    \"\"\"\n",
    "    def execute(self, query):\n",
    "        cursor = self.connection.cursor()\n",
    "        cursor.execute(query, multi=True)\n",
    "        self.connection.commit()\n",
    "\n",
    "    \"\"\"\n",
    "        Ejecuta una consulta SELECT en la base de datos y devuelve los resultados como una lista de tuplas.\n",
    "\n",
    "        Args:\n",
    "            query (str): La consulta SELECT SQL que se va a ejecutar.\n",
    "\n",
    "        Returns:\n",
    "            list: Una lista de tuplas que representan los resultados de la consulta.\n",
    "\n",
    "    \"\"\"\n",
    "    def execute_select(self, query):\n",
    "        cursor = self.connection.cursor()\n",
    "        cursor.execute(query)\n",
    "        result = cursor.fetchall()\n",
    "        cursor.close()\n",
    "        return result\n",
    "\n",
    "    \"\"\"\n",
    "        Ejecuta una consulta SELECT en la base de datos y devuelve los resultados como un DataFrame de Pandas.\n",
    "\n",
    "        Args:\n",
    "            query (str): La consulta SELECT SQL que se va a ejecutar.\n",
    "\n",
    "        Returns:\n",
    "            pandas.DataFrame or None: Un DataFrame de Pandas que contiene los resultados de la consulta o None si no \n",
    "            hay resultados.\n",
    "\n",
    "    \"\"\"\n",
    "    def execute_select_as_dataframe(self, query):\n",
    "        result = self.execute_select(query)\n",
    "        if result:\n",
    "            cursor = self.connection.cursor()\n",
    "            cursor.execute(query)\n",
    "            columns = [desc[0] for desc in cursor.description]\n",
    "            cursor.close()\n",
    "\n",
    "            df = pd.DataFrame(result, columns=columns)\n",
    "            return df\n",
    "        else:\n",
    "            return None\n",
    "\n",
    "    \"\"\"\n",
    "        Ejecuta una consulta SELECT en la base de datos y devuelve los resultados como una lista de tuplas.\n",
    "\n",
    "        Args:\n",
    "            query (str): La consulta SELECT SQL que se va a ejecutar.\n",
    "\n",
    "        Returns:\n",
    "            list: Una lista de tuplas que representan los resultados de la consulta.\n",
    "\n",
    "    \"\"\"\n",
    "    def select(self, query):\n",
    "        cursor = self.connection.cursor()\n",
    "        cursor.execute(query)\n",
    "        result = cursor.fetchall()\n",
    "        cursor.close()\n",
    "        return result\n",
    "\n",
    "    \"\"\"\n",
    "        Cierra la conexión a la base de datos.\n",
    "    \"\"\"\n",
    "    def close(self):\n",
    "        self.connection.close()"
   ],
   "metadata": {
    "collapsed": false,
    "ExecuteTime": {
     "end_time": "2023-12-02T19:53:51.506551900Z",
     "start_time": "2023-12-02T19:53:47.551281600Z"
    }
   },
   "id": "42db5d46f543497d"
  },
  {
   "cell_type": "code",
   "execution_count": null,
   "outputs": [],
   "source": [],
   "metadata": {
    "collapsed": false
   },
   "id": "d04d49b7583fc176"
  }
 ],
 "metadata": {
  "kernelspec": {
   "display_name": "Python 3",
   "language": "python",
   "name": "python3"
  },
  "language_info": {
   "codemirror_mode": {
    "name": "ipython",
    "version": 2
   },
   "file_extension": ".py",
   "mimetype": "text/x-python",
   "name": "python",
   "nbconvert_exporter": "python",
   "pygments_lexer": "ipython2",
   "version": "2.7.6"
  }
 },
 "nbformat": 4,
 "nbformat_minor": 5
}
