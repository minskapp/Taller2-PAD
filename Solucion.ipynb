{
 "cells": [
  {
   "cell_type": "markdown",
   "source": [
    "# Importamos las librerías necesarias"
   ],
   "metadata": {
    "collapsed": false
   },
   "id": "5df4804858bebb35"
  },
  {
   "cell_type": "code",
   "execution_count": 1,
   "outputs": [],
   "source": [
    "import pandas as pd\n",
    "import numpy as np\n",
    "import mysql.connector\n",
    "import configparser\n",
    "from xlsxwriter import Workbook"
   ],
   "metadata": {
    "collapsed": false,
    "ExecuteTime": {
     "end_time": "2023-12-13T23:12:40.509255700Z",
     "start_time": "2023-12-13T23:12:36.166314200Z"
    }
   },
   "id": "initial_id"
  },
  {
   "cell_type": "markdown",
   "source": [
    "### Leemos el archivo de Frutas y Hortalizas"
   ],
   "metadata": {
    "collapsed": false
   },
   "id": "9cb3449aaeadba52"
  },
  {
   "cell_type": "code",
   "execution_count": 2,
   "outputs": [
    {
     "data": {
      "text/plain": "         _id  RegiUn Tipo punto monitoreo    Sector  Semana       Fecha  \\\n0          1       7          Feria libre     Talca      28  08/07/2013   \n1          2       7          Feria libre    CuricÛ      28  08/07/2013   \n2          3       7          Feria libre     Talca      28  08/07/2013   \n3          4       7          Feria libre     Talca      28  08/07/2013   \n4          5       7          Feria libre    CuricÛ      28  08/07/2013   \n...      ...     ...                  ...       ...     ...         ...   \n21755  21756      13         Supermercado    Centro      39  23/09/2013   \n21756  21757      13         Supermercado  Poniente      39  23/09/2013   \n21757  21758      13         Supermercado   Oriente      39  23/09/2013   \n21758  21759      13         Supermercado     Norte      39  23/09/2013   \n21759  21760      13         Supermercado       Sur      39  23/09/2013   \n\n         Tipo producto                                           Producto  \\\n0      Fruta-Hortaliza                     Ajo Chino $/unidad 1a (guarda)   \n1      Fruta-Hortaliza                     Ajo Chino $/unidad 1a (guarda)   \n2      Fruta-Hortaliza                     Ajo Chino $/unidad 2a (guarda)   \n3      Fruta-Hortaliza                    Apio Americano $/unidad Primera   \n4      Fruta-Hortaliza                    Apio Americano $/unidad Primera   \n...                ...                                                ...   \n21755  Fruta-Hortaliza  Zapallo italiano Sin Especificar $/unidad Primera   \n21756  Fruta-Hortaliza  Zapallo italiano Sin Especificar $/unidad Primera   \n21757  Fruta-Hortaliza  Zapallo italiano Sin Especificar $/unidad Primera   \n21758  Fruta-Hortaliza  Zapallo italiano Sin Especificar $/unidad Primera   \n21759  Fruta-Hortaliza  Zapallo italiano Sin Especificar $/unidad Segunda   \n\n       MInimo  M*ximo Promedio  \n0         125     150    137,5  \n1         100     160      140  \n2         100     100      100  \n3         800     800      800  \n4         800     900      850  \n...       ...     ...      ...  \n21755     477     589    518,8  \n21756     490     619   566,75  \n21757     559     599    573,4  \n21758     559     619      589  \n21759     439     439      439  \n\n[21760 rows x 11 columns]",
      "text/html": "<div>\n<style scoped>\n    .dataframe tbody tr th:only-of-type {\n        vertical-align: middle;\n    }\n\n    .dataframe tbody tr th {\n        vertical-align: top;\n    }\n\n    .dataframe thead th {\n        text-align: right;\n    }\n</style>\n<table border=\"1\" class=\"dataframe\">\n  <thead>\n    <tr style=\"text-align: right;\">\n      <th></th>\n      <th>_id</th>\n      <th>RegiUn</th>\n      <th>Tipo punto monitoreo</th>\n      <th>Sector</th>\n      <th>Semana</th>\n      <th>Fecha</th>\n      <th>Tipo producto</th>\n      <th>Producto</th>\n      <th>MInimo</th>\n      <th>M*ximo</th>\n      <th>Promedio</th>\n    </tr>\n  </thead>\n  <tbody>\n    <tr>\n      <th>0</th>\n      <td>1</td>\n      <td>7</td>\n      <td>Feria libre</td>\n      <td>Talca</td>\n      <td>28</td>\n      <td>08/07/2013</td>\n      <td>Fruta-Hortaliza</td>\n      <td>Ajo Chino $/unidad 1a (guarda)</td>\n      <td>125</td>\n      <td>150</td>\n      <td>137,5</td>\n    </tr>\n    <tr>\n      <th>1</th>\n      <td>2</td>\n      <td>7</td>\n      <td>Feria libre</td>\n      <td>CuricÛ</td>\n      <td>28</td>\n      <td>08/07/2013</td>\n      <td>Fruta-Hortaliza</td>\n      <td>Ajo Chino $/unidad 1a (guarda)</td>\n      <td>100</td>\n      <td>160</td>\n      <td>140</td>\n    </tr>\n    <tr>\n      <th>2</th>\n      <td>3</td>\n      <td>7</td>\n      <td>Feria libre</td>\n      <td>Talca</td>\n      <td>28</td>\n      <td>08/07/2013</td>\n      <td>Fruta-Hortaliza</td>\n      <td>Ajo Chino $/unidad 2a (guarda)</td>\n      <td>100</td>\n      <td>100</td>\n      <td>100</td>\n    </tr>\n    <tr>\n      <th>3</th>\n      <td>4</td>\n      <td>7</td>\n      <td>Feria libre</td>\n      <td>Talca</td>\n      <td>28</td>\n      <td>08/07/2013</td>\n      <td>Fruta-Hortaliza</td>\n      <td>Apio Americano $/unidad Primera</td>\n      <td>800</td>\n      <td>800</td>\n      <td>800</td>\n    </tr>\n    <tr>\n      <th>4</th>\n      <td>5</td>\n      <td>7</td>\n      <td>Feria libre</td>\n      <td>CuricÛ</td>\n      <td>28</td>\n      <td>08/07/2013</td>\n      <td>Fruta-Hortaliza</td>\n      <td>Apio Americano $/unidad Primera</td>\n      <td>800</td>\n      <td>900</td>\n      <td>850</td>\n    </tr>\n    <tr>\n      <th>...</th>\n      <td>...</td>\n      <td>...</td>\n      <td>...</td>\n      <td>...</td>\n      <td>...</td>\n      <td>...</td>\n      <td>...</td>\n      <td>...</td>\n      <td>...</td>\n      <td>...</td>\n      <td>...</td>\n    </tr>\n    <tr>\n      <th>21755</th>\n      <td>21756</td>\n      <td>13</td>\n      <td>Supermercado</td>\n      <td>Centro</td>\n      <td>39</td>\n      <td>23/09/2013</td>\n      <td>Fruta-Hortaliza</td>\n      <td>Zapallo italiano Sin Especificar $/unidad Primera</td>\n      <td>477</td>\n      <td>589</td>\n      <td>518,8</td>\n    </tr>\n    <tr>\n      <th>21756</th>\n      <td>21757</td>\n      <td>13</td>\n      <td>Supermercado</td>\n      <td>Poniente</td>\n      <td>39</td>\n      <td>23/09/2013</td>\n      <td>Fruta-Hortaliza</td>\n      <td>Zapallo italiano Sin Especificar $/unidad Primera</td>\n      <td>490</td>\n      <td>619</td>\n      <td>566,75</td>\n    </tr>\n    <tr>\n      <th>21757</th>\n      <td>21758</td>\n      <td>13</td>\n      <td>Supermercado</td>\n      <td>Oriente</td>\n      <td>39</td>\n      <td>23/09/2013</td>\n      <td>Fruta-Hortaliza</td>\n      <td>Zapallo italiano Sin Especificar $/unidad Primera</td>\n      <td>559</td>\n      <td>599</td>\n      <td>573,4</td>\n    </tr>\n    <tr>\n      <th>21758</th>\n      <td>21759</td>\n      <td>13</td>\n      <td>Supermercado</td>\n      <td>Norte</td>\n      <td>39</td>\n      <td>23/09/2013</td>\n      <td>Fruta-Hortaliza</td>\n      <td>Zapallo italiano Sin Especificar $/unidad Primera</td>\n      <td>559</td>\n      <td>619</td>\n      <td>589</td>\n    </tr>\n    <tr>\n      <th>21759</th>\n      <td>21760</td>\n      <td>13</td>\n      <td>Supermercado</td>\n      <td>Sur</td>\n      <td>39</td>\n      <td>23/09/2013</td>\n      <td>Fruta-Hortaliza</td>\n      <td>Zapallo italiano Sin Especificar $/unidad Segunda</td>\n      <td>439</td>\n      <td>439</td>\n      <td>439</td>\n    </tr>\n  </tbody>\n</table>\n<p>21760 rows × 11 columns</p>\n</div>"
     },
     "execution_count": 2,
     "metadata": {},
     "output_type": "execute_result"
    }
   ],
   "source": [
    "nombre_archivo = 'Frutas y Hortalizas.csv'\n",
    "df_fruits = pd.read_csv(nombre_archivo)\n",
    "df_fruits"
   ],
   "metadata": {
    "collapsed": false,
    "ExecuteTime": {
     "end_time": "2023-12-13T23:12:40.614919100Z",
     "start_time": "2023-12-13T23:12:40.507205Z"
    }
   },
   "id": "b90cc0c0872ad7fc"
  },
  {
   "cell_type": "markdown",
   "source": [
    "### Leemos el archivo de Resto de productos"
   ],
   "metadata": {
    "collapsed": false
   },
   "id": "69452c77d7127f3c"
  },
  {
   "cell_type": "code",
   "execution_count": 3,
   "outputs": [
    {
     "data": {
      "text/plain": "       _id  RegiUn Tipo punto monitoreo              Sector  Semana  \\\n0        1       7           CarnicerÌa               Talca      28   \n1        2       7           CarnicerÌa              CuricÛ      28   \n2        3       7           CarnicerÌa               Talca      28   \n3        4       7           CarnicerÌa              CuricÛ      28   \n4        5       7           CarnicerÌa               Talca      28   \n...    ...     ...                  ...                 ...     ...   \n3495  3496       8         Supermercado               Penco      39   \n3496  3497       8         Supermercado  Talcahuano-HualpÈn      39   \n3497  3498       8         Supermercado          ConcepciÛn      39   \n3498  3499       8         Supermercado         Chiguayante      39   \n3499  3500       8         Supermercado               Penco      39   \n\n                    Fecha                 Tipo producto              Producto  \\\n0     2013-08-07T00:00:00   Carne de Bovino CategorÌa V              Abastero   \n1     2013-08-07T00:00:00   Carne de Bovino CategorÌa V              Abastero   \n2     2013-08-07T00:00:00   Carne de Bovino CategorÌa V       Asado Carnicero   \n3     2013-08-07T00:00:00   Carne de Bovino CategorÌa V       Asado Carnicero   \n4     2013-08-07T00:00:00   Carne de Bovino CategorÌa V               Asiento   \n...                   ...                           ...                   ...   \n3495  2013-09-23T00:00:00  Carne de Pollo, Cerdo y Pavo  Chuleta (Parrillera)   \n3496  2013-09-23T00:00:00  Carne de Pollo, Cerdo y Pavo      Chuleta (centro)   \n3497  2013-09-23T00:00:00  Carne de Pollo, Cerdo y Pavo      Chuleta (centro)   \n3498  2013-09-23T00:00:00  Carne de Pollo, Cerdo y Pavo      Chuleta (centro)   \n3499  2013-09-23T00:00:00  Carne de Pollo, Cerdo y Pavo      Chuleta (centro)   \n\n      MInimo  M*ximo Promedio  \n0       3990    5998  5029,64  \n1       3498    4980     4491  \n2       3990    5500  4790,64  \n3       3498    4980     4441  \n4       4680    6998   6243,6  \n...      ...     ...      ...  \n3495    3290    3489   3389,5  \n3496    3990    4199  4059,67  \n3497    3790    4499  4137,44  \n3498    4190    4190     4190  \n3499    3290    3290     3290  \n\n[3500 rows x 11 columns]",
      "text/html": "<div>\n<style scoped>\n    .dataframe tbody tr th:only-of-type {\n        vertical-align: middle;\n    }\n\n    .dataframe tbody tr th {\n        vertical-align: top;\n    }\n\n    .dataframe thead th {\n        text-align: right;\n    }\n</style>\n<table border=\"1\" class=\"dataframe\">\n  <thead>\n    <tr style=\"text-align: right;\">\n      <th></th>\n      <th>_id</th>\n      <th>RegiUn</th>\n      <th>Tipo punto monitoreo</th>\n      <th>Sector</th>\n      <th>Semana</th>\n      <th>Fecha</th>\n      <th>Tipo producto</th>\n      <th>Producto</th>\n      <th>MInimo</th>\n      <th>M*ximo</th>\n      <th>Promedio</th>\n    </tr>\n  </thead>\n  <tbody>\n    <tr>\n      <th>0</th>\n      <td>1</td>\n      <td>7</td>\n      <td>CarnicerÌa</td>\n      <td>Talca</td>\n      <td>28</td>\n      <td>2013-08-07T00:00:00</td>\n      <td>Carne de Bovino CategorÌa V</td>\n      <td>Abastero</td>\n      <td>3990</td>\n      <td>5998</td>\n      <td>5029,64</td>\n    </tr>\n    <tr>\n      <th>1</th>\n      <td>2</td>\n      <td>7</td>\n      <td>CarnicerÌa</td>\n      <td>CuricÛ</td>\n      <td>28</td>\n      <td>2013-08-07T00:00:00</td>\n      <td>Carne de Bovino CategorÌa V</td>\n      <td>Abastero</td>\n      <td>3498</td>\n      <td>4980</td>\n      <td>4491</td>\n    </tr>\n    <tr>\n      <th>2</th>\n      <td>3</td>\n      <td>7</td>\n      <td>CarnicerÌa</td>\n      <td>Talca</td>\n      <td>28</td>\n      <td>2013-08-07T00:00:00</td>\n      <td>Carne de Bovino CategorÌa V</td>\n      <td>Asado Carnicero</td>\n      <td>3990</td>\n      <td>5500</td>\n      <td>4790,64</td>\n    </tr>\n    <tr>\n      <th>3</th>\n      <td>4</td>\n      <td>7</td>\n      <td>CarnicerÌa</td>\n      <td>CuricÛ</td>\n      <td>28</td>\n      <td>2013-08-07T00:00:00</td>\n      <td>Carne de Bovino CategorÌa V</td>\n      <td>Asado Carnicero</td>\n      <td>3498</td>\n      <td>4980</td>\n      <td>4441</td>\n    </tr>\n    <tr>\n      <th>4</th>\n      <td>5</td>\n      <td>7</td>\n      <td>CarnicerÌa</td>\n      <td>Talca</td>\n      <td>28</td>\n      <td>2013-08-07T00:00:00</td>\n      <td>Carne de Bovino CategorÌa V</td>\n      <td>Asiento</td>\n      <td>4680</td>\n      <td>6998</td>\n      <td>6243,6</td>\n    </tr>\n    <tr>\n      <th>...</th>\n      <td>...</td>\n      <td>...</td>\n      <td>...</td>\n      <td>...</td>\n      <td>...</td>\n      <td>...</td>\n      <td>...</td>\n      <td>...</td>\n      <td>...</td>\n      <td>...</td>\n      <td>...</td>\n    </tr>\n    <tr>\n      <th>3495</th>\n      <td>3496</td>\n      <td>8</td>\n      <td>Supermercado</td>\n      <td>Penco</td>\n      <td>39</td>\n      <td>2013-09-23T00:00:00</td>\n      <td>Carne de Pollo, Cerdo y Pavo</td>\n      <td>Chuleta (Parrillera)</td>\n      <td>3290</td>\n      <td>3489</td>\n      <td>3389,5</td>\n    </tr>\n    <tr>\n      <th>3496</th>\n      <td>3497</td>\n      <td>8</td>\n      <td>Supermercado</td>\n      <td>Talcahuano-HualpÈn</td>\n      <td>39</td>\n      <td>2013-09-23T00:00:00</td>\n      <td>Carne de Pollo, Cerdo y Pavo</td>\n      <td>Chuleta (centro)</td>\n      <td>3990</td>\n      <td>4199</td>\n      <td>4059,67</td>\n    </tr>\n    <tr>\n      <th>3497</th>\n      <td>3498</td>\n      <td>8</td>\n      <td>Supermercado</td>\n      <td>ConcepciÛn</td>\n      <td>39</td>\n      <td>2013-09-23T00:00:00</td>\n      <td>Carne de Pollo, Cerdo y Pavo</td>\n      <td>Chuleta (centro)</td>\n      <td>3790</td>\n      <td>4499</td>\n      <td>4137,44</td>\n    </tr>\n    <tr>\n      <th>3498</th>\n      <td>3499</td>\n      <td>8</td>\n      <td>Supermercado</td>\n      <td>Chiguayante</td>\n      <td>39</td>\n      <td>2013-09-23T00:00:00</td>\n      <td>Carne de Pollo, Cerdo y Pavo</td>\n      <td>Chuleta (centro)</td>\n      <td>4190</td>\n      <td>4190</td>\n      <td>4190</td>\n    </tr>\n    <tr>\n      <th>3499</th>\n      <td>3500</td>\n      <td>8</td>\n      <td>Supermercado</td>\n      <td>Penco</td>\n      <td>39</td>\n      <td>2013-09-23T00:00:00</td>\n      <td>Carne de Pollo, Cerdo y Pavo</td>\n      <td>Chuleta (centro)</td>\n      <td>3290</td>\n      <td>3290</td>\n      <td>3290</td>\n    </tr>\n  </tbody>\n</table>\n<p>3500 rows × 11 columns</p>\n</div>"
     },
     "execution_count": 3,
     "metadata": {},
     "output_type": "execute_result"
    }
   ],
   "source": [
    "nombre_archivo = 'Resto de productos.csv'\n",
    "df_others = pd.read_csv(nombre_archivo)\n",
    "df_others"
   ],
   "metadata": {
    "collapsed": false,
    "ExecuteTime": {
     "end_time": "2023-12-13T23:12:40.745671400Z",
     "start_time": "2023-12-13T23:12:40.614919100Z"
    }
   },
   "id": "78e4c01b1bd00791"
  },
  {
   "cell_type": "code",
   "execution_count": 4,
   "outputs": [
    {
     "data": {
      "text/plain": "       _id  RegiUn Tipo punto monitoreo              Sector  Semana  \\\n0        1       7           CarnicerÌa               Talca      28   \n1        2       7           CarnicerÌa              CuricÛ      28   \n2        3       7           CarnicerÌa               Talca      28   \n3        4       7           CarnicerÌa              CuricÛ      28   \n4        5       7           CarnicerÌa               Talca      28   \n...    ...     ...                  ...                 ...     ...   \n3495  3496       8         Supermercado               Penco      39   \n3496  3497       8         Supermercado  Talcahuano-HualpÈn      39   \n3497  3498       8         Supermercado          ConcepciÛn      39   \n3498  3499       8         Supermercado         Chiguayante      39   \n3499  3500       8         Supermercado               Penco      39   \n\n           Fecha                 Tipo producto              Producto  MInimo  \\\n0     07/08/2013   Carne de Bovino CategorÌa V              Abastero    3990   \n1     07/08/2013   Carne de Bovino CategorÌa V              Abastero    3498   \n2     07/08/2013   Carne de Bovino CategorÌa V       Asado Carnicero    3990   \n3     07/08/2013   Carne de Bovino CategorÌa V       Asado Carnicero    3498   \n4     07/08/2013   Carne de Bovino CategorÌa V               Asiento    4680   \n...          ...                           ...                   ...     ...   \n3495  23/09/2013  Carne de Pollo, Cerdo y Pavo  Chuleta (Parrillera)    3290   \n3496  23/09/2013  Carne de Pollo, Cerdo y Pavo      Chuleta (centro)    3990   \n3497  23/09/2013  Carne de Pollo, Cerdo y Pavo      Chuleta (centro)    3790   \n3498  23/09/2013  Carne de Pollo, Cerdo y Pavo      Chuleta (centro)    4190   \n3499  23/09/2013  Carne de Pollo, Cerdo y Pavo      Chuleta (centro)    3290   \n\n      M*ximo Promedio  \n0       5998  5029,64  \n1       4980     4491  \n2       5500  4790,64  \n3       4980     4441  \n4       6998   6243,6  \n...      ...      ...  \n3495    3489   3389,5  \n3496    4199  4059,67  \n3497    4499  4137,44  \n3498    4190     4190  \n3499    3290     3290  \n\n[3500 rows x 11 columns]",
      "text/html": "<div>\n<style scoped>\n    .dataframe tbody tr th:only-of-type {\n        vertical-align: middle;\n    }\n\n    .dataframe tbody tr th {\n        vertical-align: top;\n    }\n\n    .dataframe thead th {\n        text-align: right;\n    }\n</style>\n<table border=\"1\" class=\"dataframe\">\n  <thead>\n    <tr style=\"text-align: right;\">\n      <th></th>\n      <th>_id</th>\n      <th>RegiUn</th>\n      <th>Tipo punto monitoreo</th>\n      <th>Sector</th>\n      <th>Semana</th>\n      <th>Fecha</th>\n      <th>Tipo producto</th>\n      <th>Producto</th>\n      <th>MInimo</th>\n      <th>M*ximo</th>\n      <th>Promedio</th>\n    </tr>\n  </thead>\n  <tbody>\n    <tr>\n      <th>0</th>\n      <td>1</td>\n      <td>7</td>\n      <td>CarnicerÌa</td>\n      <td>Talca</td>\n      <td>28</td>\n      <td>07/08/2013</td>\n      <td>Carne de Bovino CategorÌa V</td>\n      <td>Abastero</td>\n      <td>3990</td>\n      <td>5998</td>\n      <td>5029,64</td>\n    </tr>\n    <tr>\n      <th>1</th>\n      <td>2</td>\n      <td>7</td>\n      <td>CarnicerÌa</td>\n      <td>CuricÛ</td>\n      <td>28</td>\n      <td>07/08/2013</td>\n      <td>Carne de Bovino CategorÌa V</td>\n      <td>Abastero</td>\n      <td>3498</td>\n      <td>4980</td>\n      <td>4491</td>\n    </tr>\n    <tr>\n      <th>2</th>\n      <td>3</td>\n      <td>7</td>\n      <td>CarnicerÌa</td>\n      <td>Talca</td>\n      <td>28</td>\n      <td>07/08/2013</td>\n      <td>Carne de Bovino CategorÌa V</td>\n      <td>Asado Carnicero</td>\n      <td>3990</td>\n      <td>5500</td>\n      <td>4790,64</td>\n    </tr>\n    <tr>\n      <th>3</th>\n      <td>4</td>\n      <td>7</td>\n      <td>CarnicerÌa</td>\n      <td>CuricÛ</td>\n      <td>28</td>\n      <td>07/08/2013</td>\n      <td>Carne de Bovino CategorÌa V</td>\n      <td>Asado Carnicero</td>\n      <td>3498</td>\n      <td>4980</td>\n      <td>4441</td>\n    </tr>\n    <tr>\n      <th>4</th>\n      <td>5</td>\n      <td>7</td>\n      <td>CarnicerÌa</td>\n      <td>Talca</td>\n      <td>28</td>\n      <td>07/08/2013</td>\n      <td>Carne de Bovino CategorÌa V</td>\n      <td>Asiento</td>\n      <td>4680</td>\n      <td>6998</td>\n      <td>6243,6</td>\n    </tr>\n    <tr>\n      <th>...</th>\n      <td>...</td>\n      <td>...</td>\n      <td>...</td>\n      <td>...</td>\n      <td>...</td>\n      <td>...</td>\n      <td>...</td>\n      <td>...</td>\n      <td>...</td>\n      <td>...</td>\n      <td>...</td>\n    </tr>\n    <tr>\n      <th>3495</th>\n      <td>3496</td>\n      <td>8</td>\n      <td>Supermercado</td>\n      <td>Penco</td>\n      <td>39</td>\n      <td>23/09/2013</td>\n      <td>Carne de Pollo, Cerdo y Pavo</td>\n      <td>Chuleta (Parrillera)</td>\n      <td>3290</td>\n      <td>3489</td>\n      <td>3389,5</td>\n    </tr>\n    <tr>\n      <th>3496</th>\n      <td>3497</td>\n      <td>8</td>\n      <td>Supermercado</td>\n      <td>Talcahuano-HualpÈn</td>\n      <td>39</td>\n      <td>23/09/2013</td>\n      <td>Carne de Pollo, Cerdo y Pavo</td>\n      <td>Chuleta (centro)</td>\n      <td>3990</td>\n      <td>4199</td>\n      <td>4059,67</td>\n    </tr>\n    <tr>\n      <th>3497</th>\n      <td>3498</td>\n      <td>8</td>\n      <td>Supermercado</td>\n      <td>ConcepciÛn</td>\n      <td>39</td>\n      <td>23/09/2013</td>\n      <td>Carne de Pollo, Cerdo y Pavo</td>\n      <td>Chuleta (centro)</td>\n      <td>3790</td>\n      <td>4499</td>\n      <td>4137,44</td>\n    </tr>\n    <tr>\n      <th>3498</th>\n      <td>3499</td>\n      <td>8</td>\n      <td>Supermercado</td>\n      <td>Chiguayante</td>\n      <td>39</td>\n      <td>23/09/2013</td>\n      <td>Carne de Pollo, Cerdo y Pavo</td>\n      <td>Chuleta (centro)</td>\n      <td>4190</td>\n      <td>4190</td>\n      <td>4190</td>\n    </tr>\n    <tr>\n      <th>3499</th>\n      <td>3500</td>\n      <td>8</td>\n      <td>Supermercado</td>\n      <td>Penco</td>\n      <td>39</td>\n      <td>23/09/2013</td>\n      <td>Carne de Pollo, Cerdo y Pavo</td>\n      <td>Chuleta (centro)</td>\n      <td>3290</td>\n      <td>3290</td>\n      <td>3290</td>\n    </tr>\n  </tbody>\n</table>\n<p>3500 rows × 11 columns</p>\n</div>"
     },
     "execution_count": 4,
     "metadata": {},
     "output_type": "execute_result"
    }
   ],
   "source": [
    "df_others['Fecha'] = pd.to_datetime(df_others['Fecha'])\n",
    "\n",
    "# Aplica el formato DD/MM/YYYY a la columna 'Fecha'\n",
    "df_others['Fecha'] = df_others['Fecha'].dt.strftime('%d/%m/%Y')\n",
    "df_others"
   ],
   "metadata": {
    "collapsed": false,
    "ExecuteTime": {
     "end_time": "2023-12-13T23:12:40.863095Z",
     "start_time": "2023-12-13T23:12:40.677231700Z"
    }
   },
   "id": "d7252317f09b727f"
  },
  {
   "cell_type": "markdown",
   "source": [
    "### Datos nulos\n",
    "Verificamos la cantidad de datos nulos"
   ],
   "metadata": {
    "collapsed": false
   },
   "id": "6d42f3784b56ec3b"
  },
  {
   "cell_type": "code",
   "execution_count": 5,
   "outputs": [],
   "source": [
    "def null_data(df):\n",
    "    return df.isnull().sum()"
   ],
   "metadata": {
    "collapsed": false,
    "ExecuteTime": {
     "end_time": "2023-12-13T23:12:40.864095600Z",
     "start_time": "2023-12-13T23:12:40.761132100Z"
    }
   },
   "id": "1dc91e30cf50f440"
  },
  {
   "cell_type": "code",
   "execution_count": 6,
   "outputs": [
    {
     "data": {
      "text/plain": "_id                     0\nRegiUn                  0\nTipo punto monitoreo    0\nSector                  0\nSemana                  0\nFecha                   0\nTipo producto           0\nProducto                0\nMInimo                  0\nM*ximo                  0\nPromedio                0\ndtype: int64"
     },
     "metadata": {},
     "output_type": "display_data"
    },
    {
     "data": {
      "text/plain": "_id                     0\nRegiUn                  0\nTipo punto monitoreo    0\nSector                  0\nSemana                  0\nFecha                   0\nTipo producto           0\nProducto                0\nMInimo                  0\nM*ximo                  0\nPromedio                0\ndtype: int64"
     },
     "metadata": {},
     "output_type": "display_data"
    }
   ],
   "source": [
    "display(null_data(df_fruits))\n",
    "display(null_data(df_others))"
   ],
   "metadata": {
    "collapsed": false,
    "ExecuteTime": {
     "end_time": "2023-12-13T23:12:40.866094900Z",
     "start_time": "2023-12-13T23:12:40.771764100Z"
    }
   },
   "id": "a5f4ad930676c6ff"
  },
  {
   "cell_type": "code",
   "execution_count": 7,
   "outputs": [],
   "source": [
    "def nan_data(df):\n",
    "    return df.isna().sum()"
   ],
   "metadata": {
    "collapsed": false,
    "ExecuteTime": {
     "end_time": "2023-12-13T23:12:40.866094900Z",
     "start_time": "2023-12-13T23:12:40.803950600Z"
    }
   },
   "id": "8ff76df862ca91fc"
  },
  {
   "cell_type": "code",
   "execution_count": 8,
   "outputs": [
    {
     "data": {
      "text/plain": "_id                     0\nRegiUn                  0\nTipo punto monitoreo    0\nSector                  0\nSemana                  0\nFecha                   0\nTipo producto           0\nProducto                0\nMInimo                  0\nM*ximo                  0\nPromedio                0\ndtype: int64"
     },
     "metadata": {},
     "output_type": "display_data"
    },
    {
     "data": {
      "text/plain": "_id                     0\nRegiUn                  0\nTipo punto monitoreo    0\nSector                  0\nSemana                  0\nFecha                   0\nTipo producto           0\nProducto                0\nMInimo                  0\nM*ximo                  0\nPromedio                0\ndtype: int64"
     },
     "metadata": {},
     "output_type": "display_data"
    }
   ],
   "source": [
    "display(nan_data(df_fruits))\n",
    "display(nan_data(df_others))"
   ],
   "metadata": {
    "collapsed": false,
    "ExecuteTime": {
     "end_time": "2023-12-13T23:12:40.999979200Z",
     "start_time": "2023-12-13T23:12:40.819100600Z"
    }
   },
   "id": "a3aa4c9dae3d98e0"
  },
  {
   "cell_type": "markdown",
   "source": [
    "# Conexión con la Base de Datos"
   ],
   "metadata": {
    "collapsed": false
   },
   "id": "f87bfc92b5468592"
  },
  {
   "cell_type": "code",
   "execution_count": 9,
   "outputs": [],
   "source": [
    "class Connection:\n",
    "\n",
    "    \"\"\"\n",
    "        Inicializa una conexión a la base de datos utilizando la información de configuración proporcionada en\n",
    "        el archivo 'config.ini'.\n",
    "    \"\"\"\n",
    "    def __init__(self):\n",
    "        config = configparser.ConfigParser()\n",
    "        config.read('Resources/config.ini')\n",
    "        connection_info = config['database']\n",
    "\n",
    "        self.connection = mysql.connector.connect(\n",
    "            database=connection_info['database'],\n",
    "            host=connection_info['host'],\n",
    "            user=connection_info['user'],\n",
    "            password=connection_info['password'],\n",
    "            port=connection_info['port']\n",
    "        )\n",
    "\n",
    "    \"\"\"\n",
    "        Ejecuta una consulta en la base de datos y realiza una confirmación de la transacción.\n",
    "\n",
    "        Args:\n",
    "            query (str): La consulta SQL que se va a ejecutar.\n",
    "\n",
    "    \"\"\"\n",
    "    def execute(self, query):\n",
    "        cursor = self.connection.cursor()\n",
    "        cursor.execute(query, multi=True)\n",
    "        self.connection.commit()\n",
    "\n",
    "    \"\"\"\n",
    "        Ejecuta una consulta SELECT en la base de datos y devuelve los resultados como una lista de tuplas.\n",
    "\n",
    "        Args:\n",
    "            query (str): La consulta SELECT SQL que se va a ejecutar.\n",
    "\n",
    "        Returns:\n",
    "            list: Una lista de tuplas que representan los resultados de la consulta.\n",
    "\n",
    "    \"\"\"\n",
    "    def execute_select(self, query):\n",
    "        cursor = self.connection.cursor()\n",
    "        cursor.execute(query)\n",
    "        result = cursor.fetchall()\n",
    "        cursor.close()\n",
    "        return result\n",
    "\n",
    "    \"\"\"\n",
    "        Ejecuta una consulta SELECT en la base de datos y devuelve los resultados como un DataFrame de Pandas.\n",
    "\n",
    "        Args:\n",
    "            query (str): La consulta SELECT SQL que se va a ejecutar.\n",
    "\n",
    "        Returns:\n",
    "            pandas.DataFrame or None: Un DataFrame de Pandas que contiene los resultados de la consulta o None si no \n",
    "            hay resultados.\n",
    "\n",
    "    \"\"\"\n",
    "    def execute_select_as_dataframe(self, query):\n",
    "        result = self.execute_select(query)\n",
    "        if result:\n",
    "            cursor = self.connection.cursor()\n",
    "            cursor.execute(query)\n",
    "            columns = [desc[0] for desc in cursor.description]\n",
    "            cursor.close()\n",
    "\n",
    "            df = pd.DataFrame(result, columns=columns)\n",
    "            return df\n",
    "        else:\n",
    "            return None\n",
    "\n",
    "    \"\"\"\n",
    "        Ejecuta una consulta SELECT en la base de datos y devuelve los resultados como una lista de tuplas.\n",
    "\n",
    "        Args:\n",
    "            query (str): La consulta SELECT SQL que se va a ejecutar.\n",
    "\n",
    "        Returns:\n",
    "            list: Una lista de tuplas que representan los resultados de la consulta.\n",
    "\n",
    "    \"\"\"\n",
    "    def select(self, query):\n",
    "        cursor = self.connection.cursor()\n",
    "        cursor.execute(query)\n",
    "        result = cursor.fetchall()\n",
    "        cursor.close()\n",
    "        return result\n",
    "\n",
    "    \"\"\"\n",
    "        Cierra la conexión a la base de datos.\n",
    "    \"\"\"\n",
    "    def close(self):\n",
    "        self.connection.close()"
   ],
   "metadata": {
    "collapsed": false,
    "ExecuteTime": {
     "end_time": "2023-12-13T23:12:41.020945800Z",
     "start_time": "2023-12-13T23:12:40.858571400Z"
    }
   },
   "id": "42db5d46f543497d"
  },
  {
   "cell_type": "code",
   "execution_count": 10,
   "outputs": [],
   "source": [
    "connection = Connection()"
   ],
   "metadata": {
    "collapsed": false,
    "ExecuteTime": {
     "end_time": "2023-12-13T23:12:41.253071600Z",
     "start_time": "2023-12-13T23:12:40.884139100Z"
    }
   },
   "id": "d04d49b7583fc176"
  },
  {
   "cell_type": "code",
   "execution_count": 11,
   "outputs": [],
   "source": [
    "with open('Scripts/star_schema.sql', 'r') as file:\n",
    "    for line in file.read().split(';'):\n",
    "        connection.execute(line)"
   ],
   "metadata": {
    "collapsed": false,
    "ExecuteTime": {
     "end_time": "2023-12-13T23:12:41.954471900Z",
     "start_time": "2023-12-13T23:12:41.052525300Z"
    }
   },
   "id": "8447f10b89ef124b"
  },
  {
   "cell_type": "code",
   "execution_count": 12,
   "outputs": [],
   "source": [
    "class Transform:\n",
    "\n",
    "    def __init__(self, df):\n",
    "        self._df = df\n",
    "        self._df_time = None\n",
    "        self._df_product = None\n",
    "        self._df_city = None\n",
    "        self._df_products_price = None\n",
    "\n",
    "    \"\"\"\n",
    "       Extrae y procesa los datos de correspondientes a la tabla tiempo a partir de un DataFrame dado.\n",
    "\n",
    "       Esta función toma un DataFrame como entrada y realiza las siguientes operaciones:\n",
    "       1. Selecciona las columnas 'Semana' y 'Fecha' del DataFrame original.\n",
    "       2. Elimina filas duplicadas basadas en la columna 'Fecha'.\n",
    "       3. Cambia los nombres de las columnas 'Semana' a 'week' y 'Fecha' a 'date' en el DataFrame resultante.\n",
    "\n",
    "       Args:\n",
    "           df (pandas.DataFrame): El DataFrame de entrada que contiene todos los datos del archivo original.\n",
    "       \"\"\"\n",
    "    def __extract_df_time(self, df):\n",
    "        self._df_time = df[[\"Semana\", \"Fecha\"]]\n",
    "        df_without_duplicates = self._df_time[~self._df_time.duplicated('Fecha')]\n",
    "        self._df_time = df_without_duplicates\n",
    "        new_columns_name = {'Semana': 'week', 'Fecha': 'date'}\n",
    "        self._df_time = self._df_time.rename(columns=new_columns_name)\n",
    "        self._df_time['date'] = pd.to_datetime(self._df_time['date'], format='%d/%m/%Y')\n",
    "\n",
    "\n",
    "\n",
    "    \"\"\"\n",
    "    Añade la columna 'year' a un DataFrame que contiene datos de tiempo.\n",
    "\n",
    "    Esta función toma un DataFrame que contiene una columna 'date' con fechas en el formato '%d/%m/%Y' y agrega una \n",
    "    nueva columna 'year' que representa el año de cada fecha.\n",
    "\n",
    "    Args:\n",
    "        df (pandas.DataFrame): El DataFrame de entrada que contiene los datos originales.\n",
    "    \n",
    "    def __add_year_df_time(self, df):\n",
    "        df['year'] = df['date'].str[-4:]\n",
    "        null_dates = df[df['year'].isnull()]['date'].tolist()\n",
    "        display(null_dates)\n",
    "        display(nan_data(df['year']))\n",
    "        \"\"\"\n",
    "    def __add_year_df_time(self, df):\n",
    "        df['date'] = pd.to_datetime(df['date'], errors='coerce')\n",
    "        df['year'] = df['date'].dt.year\n",
    "        display(nan_data(df['year']))\n",
    "\n",
    "    \"\"\"\n",
    "        Añade la columna 'day' que representa el día del mes a un DataFrame que contiene datos de tiempo.\n",
    "\n",
    "        Esta función toma un DataFrame que contiene una columna 'date' con fechas y agrega una nueva columna 'day' que \n",
    "        representa el día del mes correspondiente a cada fecha.\n",
    "\n",
    "        Args:\n",
    "            df (pandas.DataFrame): El DataFrame de entrada que contiene los datos de tiempo con una columna 'date'.\n",
    "    \"\"\"\n",
    "    def __add_day_df_time(self, df):\n",
    "        df['day'] = df['date'].dt.day\n",
    "        display(nan_data(df['day']))\n",
    "\n",
    "\n",
    "    \"\"\"\n",
    "        Añade la columna 'month' que representa el mes a un DataFrame que contiene datos de tiempo.\n",
    "\n",
    "        Esta función toma un DataFrame que contiene una columna 'date' con fechas y agrega una nueva columna 'month' \n",
    "        que representa el mes correspondiente a cada fecha.\n",
    "\n",
    "        Args:\n",
    "            df (pandas.DataFrame): El DataFrame de entrada que contiene los datos de tiempo con una columna 'date'.\n",
    "        \"\"\"    \n",
    "    def __add_month_df_time(self, df):\n",
    "        df['month'] = df['date'].dt.month\n",
    "        display(nan_data(df['month']))\n",
    "\n",
    "\n",
    "    \"\"\"\n",
    "        Añade una columna de identificación 'id' a un DataFrame que contiene datos de tiempo.\n",
    "\n",
    "        Esta función toma un DataFrame y agrega una nueva columna 'id' que contiene un número único para cada fila del \n",
    "        DataFrame, utilizado como identificación.\n",
    "\n",
    "        Args:\n",
    "            df (pandas.DataFrame): El DataFrame de entrada al que se le agregará la columna 'id'.\n",
    "        \"\"\"\n",
    "    def __add_id_df_time(self, df):\n",
    "        df['id'] = range(1, len(df) + 1)\n",
    "\n",
    "    \"\"\"\n",
    "        Extrae y procesa datos relacionados con ciudades a partir de un DataFrame dado.\n",
    "\n",
    "        Esta función toma un DataFrame como entrada y realiza las siguientes operaciones:\n",
    "        1. Selecciona las columnas 'RegiUn' y 'Sector' del DataFrame original.\n",
    "        2. Elimina filas duplicadas basadas en la columna 'Sector'.\n",
    "        3. Cambia los nombres de las columnas 'RegiUn' a 'region' y 'Sector' a 'name' en el DataFrame resultante.\n",
    "\n",
    "        Args:\n",
    "            df (pandas.DataFrame): El DataFrame de entrada que contiene los datos originales.\n",
    "        \"\"\"\n",
    "    def __extract_df_city(self, df):\n",
    "        self._df_city = df[[\"RegiUn\", \"Sector\"]]\n",
    "        df_without_duplicates = self._df_city[~self._df_city.duplicated('Sector')]\n",
    "        self._df_city = df_without_duplicates\n",
    "        new_columns_name = {'RegiUn': 'region', 'Sector': 'name'}\n",
    "        self._df_city = self._df_city.rename(columns=new_columns_name)\n",
    "\n",
    "    \"\"\"\n",
    "        Añade una columna de identificación 'id' a un DataFrame que contiene datos relacionados con ciudades.\n",
    "\n",
    "        Esta función toma un DataFrame y agrega una nueva columna 'id' que contiene un número único para cada fila del \n",
    "        DataFrame, utilizado como identificación.\n",
    "\n",
    "        Args:\n",
    "            df (pandas.DataFrame): El DataFrame de entrada al que se le agregará la columna 'id'.\n",
    "        \"\"\"\n",
    "    def __add_id_df_city(self, df):\n",
    "        df['id'] = range(1, len(df) + 1)\n",
    "\n",
    "    \"\"\"\n",
    "    Extrae y procesa datos relacionados con productos a partir de un DataFrame dado.\n",
    "\n",
    "    Esta función toma un DataFrame como entrada y realiza las siguientes operaciones:\n",
    "    1. Selecciona las columnas 'Tipo producto' y 'Producto' del DataFrame original.\n",
    "    2. Divide la columna 'Producto' en el símbolo '$', toma la primera parte y elimina espacios finales, asignándola a \n",
    "        la columna 'name'.\n",
    "    3. Elimina la columna 'Producto'.\n",
    "    4. Cambia el nombre de la columna 'Tipo producto' a 'type'.\n",
    "    5. Elimina filas duplicadas basadas en la columna 'name'.\n",
    "\n",
    "    Args:\n",
    "        df (pandas.DataFrame): El DataFrame de entrada que contiene los datos originales.\n",
    "    \"\"\"\n",
    "    def __extract_df_product(self, df):\n",
    "        self._df_product = df[[\"Tipo producto\", \"Producto\"]]\n",
    "        self._df_product['name'] = self._df_product['Producto'].str.split('$').str[0].str.rstrip()\n",
    "        self._df_product = self._df_product.drop(columns=['Producto'])\n",
    "        new_columns_name = {'Tipo producto': 'type'}\n",
    "        self._df_product = self._df_product.rename(columns=new_columns_name)\n",
    "        df_without_duplicates = self._df_product[~self._df_product.duplicated('name')]\n",
    "        self._df_product = df_without_duplicates\n",
    "\n",
    "    \"\"\"\n",
    "        Añade una columna de identificación 'id' a un DataFrame que contiene datos relacionados con productos.\n",
    "\n",
    "        Esta función toma un DataFrame y agrega una nueva columna 'id' que contiene un número único para cada fila del \n",
    "        DataFrame, utilizado como identificación.\n",
    "\n",
    "        Args:\n",
    "            df (pandas.DataFrame): El DataFrame de entrada al que se le agregará la columna 'id'.\n",
    "        \"\"\"\n",
    "    def __add_id_df_product(self, df):\n",
    "        df['id'] = range(1, len(df) + 1)\n",
    "\n",
    "    \"\"\"\n",
    "        Transforma caracteres especiales en los nombres de productos y sectores en un DataFrame.\n",
    "\n",
    "        Esta función toma un DataFrame como entrada y reemplaza caracteres especiales en las columnas 'Producto' y \n",
    "        'Sector' utilizando un diccionario de reemplazo.\n",
    "\n",
    "        Args:\n",
    "            df (pandas.DataFrame): El DataFrame de entrada que contiene los nombres de productos y sectores con \n",
    "            caracteres especiales.\n",
    "        \"\"\"\n",
    "    def __transform_char_products_price(self, df):\n",
    "        dict = {\n",
    "            \"Û\": \"ó\",\n",
    "            \"È\": \"é\",\n",
    "            \"·\": \"á\",\n",
    "            \"Ì\": \"í\",\n",
    "            \"Ò\": \"ñ\",\n",
    "            \"˙\": \"ú\",\n",
    "            '\"\"': \"\"\n",
    "        }\n",
    "\n",
    "        df['Producto'] = df['Producto'].replace(dict, regex=True)\n",
    "        df['Tipo producto'] = df['Tipo producto'].replace(dict, regex=True)\n",
    "        df['Tipo punto monitoreo'] = df['Tipo punto monitoreo'].replace(dict, regex=True)\n",
    "\n",
    "        dict = {\n",
    "            \"Û\": \"ó\",\n",
    "            \"È\": \"é\",\n",
    "        }\n",
    "\n",
    "        df['Sector'] = df['Sector'].replace(dict, regex=True)\n",
    "\n",
    "    \"\"\"\n",
    "        Transforma un DataFrame de precios de productos mediante la fusión con otros DataFrames.\n",
    "\n",
    "        Esta función toma un DataFrame como entrada, realiza varias transformaciones y fusiones de datos, y \n",
    "        dejando como producto el DataFrame original con información adicional referencial de las tablas ciudades, \n",
    "        tiempo y productos.\n",
    "\n",
    "        Args:\n",
    "            df (pandas.DataFrame): El DataFrame de entrada que contiene los datos originales.\n",
    "        \"\"\"\n",
    "    def __transform_products_price(self, df):\n",
    "        self._df['Fecha'] = pd.to_datetime(self._df['Fecha'], format='%d/%m/%Y')\n",
    "\n",
    "        self._df = pd.merge(self._df, self._df_city, how='left', left_on='Sector', right_on='name')\n",
    "        self._df.drop(columns=['name', 'region'], inplace=True)\n",
    "        new_columns_name = {'id': 'id_city'}\n",
    "        self._df = self._df.rename(columns=new_columns_name)\n",
    "\n",
    "        self._df = pd.merge(self._df, self._df_time, how='left', left_on=['Fecha'], right_on=['date'])\n",
    "        self._df.drop(columns=['week', 'date', 'day', 'month', 'year'], inplace=True)\n",
    "        new_columns_name = {'id': 'id_time'}\n",
    "        self._df = self._df.rename(columns=new_columns_name)\n",
    "\n",
    "        self._df['Producto'] = self._df['Producto'].str.split('$').str[0].str.rstrip()\n",
    "        self._df = pd.merge(self._df, self._df_product, how='left', left_on=['Producto'], right_on=['name'])\n",
    "        self._df.drop(columns=['type', 'name'], inplace=True)\n",
    "        new_columns_name = {'id': 'id_product'}\n",
    "        self._df = self._df.rename(columns=new_columns_name)\n",
    "\n",
    "        new_columns_name = {'MInimo': 'min', 'M*ximo': 'max', 'Promedio': 'average', 'Tipo punto monitoreo': 'spot'}\n",
    "        self._df = self._df.rename(columns=new_columns_name)\n",
    "        self._df.drop(columns=['RegiUn', 'Sector', 'Semana', 'Fecha', 'Tipo producto', 'Producto'], inplace=True)\n",
    "        self._df_products_price = self._df\n",
    "    \"\"\"\n",
    "    Reordena las columnas de un DataFrame relacionado con datos de tiempo.\n",
    "\n",
    "    Esta función toma un DataFrame como entrada y reordena las columnas en un orden específico que incluye 'day', \n",
    "    'month', 'year', 'date', 'week', y 'id'.\n",
    "\n",
    "    Args:\n",
    "        df (pandas.DataFrame): El DataFrame de entrada que contiene los datos de tiempo.\n",
    "    \"\"\"\n",
    "    def __reorder_columns_time(self, df):\n",
    "        self._df_time = df[['day', 'month', 'year', 'date', 'id']]\n",
    "    \"\"\"\n",
    "    Reordena las columnas de un DataFrame relacionado con datos de productos.\n",
    "\n",
    "    Esta función toma un DataFrame como entrada y reordena las columnas en un orden específico que incluye 'id', \n",
    "    'type' y 'name'.\n",
    "\n",
    "    Args:\n",
    "        df (pandas.DataFrame): El DataFrame de entrada que contiene los datos de productos.\n",
    "    \"\"\"\n",
    "    def __reorder_columns_product(self, df):\n",
    "        self._df_product = df[['id', 'type', 'name']]\n",
    "\n",
    "    \"\"\"\n",
    "        Reordena las columnas de un DataFrame relacionado con datos de ciudades.\n",
    "\n",
    "        Esta función toma un DataFrame como entrada y reordena las columnas en un orden específico que incluye 'id', \n",
    "        'name' y 'region'.\n",
    "\n",
    "        Args:\n",
    "            df (pandas.DataFrame): El DataFrame de entrada que contiene los datos de ciudades.\n",
    "    \"\"\"\n",
    "    def __reorder_columns_city(self, df):\n",
    "        self._df_city = df[['id', 'name', 'region']]\n",
    "\n",
    "    \"\"\"\n",
    "        Reordena las columnas de un DataFrame relacionado con precios de productos.\n",
    "\n",
    "        Esta función toma un DataFrame como entrada y reordena las columnas en un orden específico que incluye \n",
    "        'id_time', 'id_city', 'id_product', 'spot', 'min', 'max', 'average' y '_id'.\n",
    "\n",
    "        Args:\n",
    "            df (pandas.DataFrame): El DataFrame de entrada que contiene los datos de precios de productos.\n",
    "    \"\"\"\n",
    "    def __reorder_columns_product_price(self, df):\n",
    "        self._df_products_price = df[['id_time', 'id_city', 'id_product', 'spot', 'min', 'max', 'average', '_id']]\n",
    "\n",
    "    \"\"\"\n",
    "        Transforma la columna 'average' de un DataFrame relacionado con precios de productos en tipo de dato numérico.\n",
    "\n",
    "        Esta función toma un DataFrame como entrada y realiza dos operaciones:\n",
    "        1. Reemplaza comas (',') por puntos ('.') en la columna 'average'.\n",
    "        2. Convierte la columna 'average' a tipo de dato float.\n",
    "\n",
    "        Args:\n",
    "            df (pandas.DataFrame): El DataFrame de entrada que contiene los datos de precios de productos.\n",
    "    \"\"\"\n",
    "    def __average_product_price(self, df):\n",
    "        df['average'] = df['average'].str.replace(',', '.', regex=True)\n",
    "        df['average'] = df['average'].astype(float)\n",
    "\n",
    "    \"\"\"\n",
    "     Realiza una serie de transformaciones en los DataFrames para enriquecer los datos de precios de productos.\n",
    "\n",
    "     Esta función ejecuta una serie de métodos privados en una secuencia específica para transformar los\n",
    "      datos de precios de productos.\n",
    "     \"\"\"\n",
    "    def transform(self):\n",
    "        self.__transform_char_products_price(self._df)\n",
    "        self.__extract_df_time(self._df)\n",
    "        self.__add_year_df_time(self._df_time)\n",
    "        self.__add_day_df_time(self._df_time)\n",
    "        self.__add_month_df_time(self._df_time)\n",
    "        self.__add_id_df_time(self._df_time)\n",
    "        self.__extract_df_city(self._df)\n",
    "        self.__add_id_df_city(self._df_city)\n",
    "        self.__extract_df_product(self._df)\n",
    "        self.__add_id_df_product(self._df_product)\n",
    "        self.__transform_products_price(self._df_products_price)\n",
    "        self.__reorder_columns_time(self._df_time)\n",
    "        self.__reorder_columns_product(self._df_product)\n",
    "        self.__reorder_columns_city(self._df_city)\n",
    "        self.__reorder_columns_product_price(self._df_products_price)\n",
    "        self.__average_product_price(self._df_products_price)\n",
    "\n",
    "    def get_df_time(self):\n",
    "        return self._df_time\n",
    "\n",
    "    def get_df_product(self):\n",
    "        return self._df_product\n",
    "\n",
    "    def get_df_city(self):\n",
    "        return self._df_city\n",
    "\n",
    "    def get_df_products_price(self):\n",
    "        return self._df_products_price"
   ],
   "metadata": {
    "collapsed": false,
    "ExecuteTime": {
     "end_time": "2023-12-13T23:12:42.030244400Z",
     "start_time": "2023-12-13T23:12:41.970936800Z"
    }
   },
   "id": "1f7c9eded75e1f53"
  },
  {
   "cell_type": "code",
   "execution_count": 13,
   "outputs": [
    {
     "data": {
      "text/plain": "0"
     },
     "metadata": {},
     "output_type": "display_data"
    },
    {
     "data": {
      "text/plain": "0"
     },
     "metadata": {},
     "output_type": "display_data"
    },
    {
     "data": {
      "text/plain": "0"
     },
     "metadata": {},
     "output_type": "display_data"
    },
    {
     "name": "stderr",
     "output_type": "stream",
     "text": [
      "C:\\Users\\ignac\\AppData\\Local\\Temp\\ipykernel_12776\\2011640105.py:137: SettingWithCopyWarning: \n",
      "A value is trying to be set on a copy of a slice from a DataFrame.\n",
      "Try using .loc[row_indexer,col_indexer] = value instead\n",
      "\n",
      "See the caveats in the documentation: https://pandas.pydata.org/pandas-docs/stable/user_guide/indexing.html#returning-a-view-versus-a-copy\n",
      "  self._df_product['name'] = self._df_product['Producto'].str.split('$').str[0].str.rstrip()\n"
     ]
    },
    {
     "data": {
      "text/plain": "day      0\nmonth    0\nyear     0\ndate     0\nid       0\ndtype: int64"
     },
     "metadata": {},
     "output_type": "display_data"
    }
   ],
   "source": [
    "transform = Transform(df_fruits)\n",
    "transform.transform()\n",
    "df_time = transform.get_df_time()\n",
    "display(nan_data(df_time))\n",
    "\n",
    "df_city = transform.get_df_city()\n",
    "df_product = transform.get_df_product()\n",
    "df_product_price = transform.get_df_products_price()"
   ],
   "metadata": {
    "collapsed": false,
    "ExecuteTime": {
     "end_time": "2023-12-13T23:12:43.015603Z",
     "start_time": "2023-12-13T23:12:42.032261200Z"
    }
   },
   "id": "3351e901ff33c73c"
  },
  {
   "cell_type": "code",
   "execution_count": 14,
   "outputs": [],
   "source": [
    "class Load:\n",
    "    def __init__(self, df_time, df_product, df_city, df_product_price, connection):\n",
    "        self._df_time = df_time\n",
    "        self._df_product = df_product\n",
    "        self._df_city = df_city\n",
    "        self._df_product_price = df_product_price\n",
    "        self._connection = connection\n",
    "\n",
    "    \"\"\"\n",
    "        Carga datos de tiempo en una tabla de una base de datos a partir de un DataFrame.\n",
    "\n",
    "        Esta función toma los datos de tiempo contenidos en un DataFrame y ejecuta una serie de consultas SQL para \n",
    "        insertar estos datos en una tabla llamada 'Time' en una base de datos.\n",
    "    \"\"\"\n",
    "    def __load_time_table(self):\n",
    "        for row in self._df_time.to_numpy():\n",
    "            query = ('INSERT INTO Time (day, month, year, `date`, id) VALUES(%s,%s,%s,\\'%s\\',%s)' %\n",
    "                     (row[0], row[1], row[2], row[3], row[4]))\n",
    "            self._connection.execute(query)\n",
    "\n",
    "    \"\"\"\n",
    "        Carga datos de productos en una tabla de una base de datos a partir de un DataFrame.\n",
    "\n",
    "        Esta función toma los datos de productos contenidos en un DataFrame y ejecuta una serie de consultas SQL para \n",
    "        insertar estos datos en una tabla llamada 'Product' en una base de datos.\n",
    "    \"\"\"\n",
    "    def __load_product_table(self):\n",
    "        for row in self._df_product.to_numpy():\n",
    "            type_value = row[1]\n",
    "            name_value = row[2].replace(\"'\", \"''\")\n",
    "            query = \"INSERT INTO Product (type, name) VALUES ('%s', '%s')\" % (type_value, name_value)\n",
    "            self._connection.execute(query)\n",
    "\n",
    "    \"\"\"\n",
    "        Carga datos de ciudades en una tabla de una base de datos a partir de un DataFrame.\n",
    "\n",
    "        Esta función toma los datos de ciudades contenidos en un DataFrame y ejecuta una serie de consultas SQL para \n",
    "        insertar estos datos en una tabla llamada 'City' en una base de datos.\n",
    "    \"\"\"\n",
    "    def __load_city_table(self):\n",
    "        for row in self._df_city.to_numpy():\n",
    "            query = \"INSERT INTO City (name, region) VALUES('%s', '%s')\" % (row[1], row[2])\n",
    "            self._connection.execute(query)\n",
    "\n",
    "    \"\"\"\n",
    "        Carga datos de precios de productos en una tabla de una base de datos a partir de un DataFrame.\n",
    "\n",
    "        Esta función toma los datos de precios de productos contenidos en un DataFrame y ejecuta una serie de consultas\n",
    "         SQL para insertar estos datos en una tabla llamada 'fact_products_price' en una base de datos.\n",
    "    \"\"\"\n",
    "    def __load_product_price_table(self):\n",
    "        for row in self._df_product_price.to_numpy():\n",
    "            \n",
    "            query = (\"INSERT INTO fact_products_price (id_time, id_city, id_product, spot, min, max, average) \"\n",
    "                     \"VALUES(%s, %s, %s, '%s', %s, %s, %s)\") % (row[0], row[1], row[2], row[3], row[4], row[5], row[6])\n",
    "            self._connection.execute(query)\n",
    "\n",
    "    \"\"\"\n",
    "        Carga datos en tablas de una base de datos a partir de DataFrames.\n",
    "\n",
    "        Esta función ejecuta una serie de métodos privados en una secuencia específica para cargar datos en tablas de\n",
    "         una base de datos a partir de DataFrames internos de la clase.\n",
    "    \"\"\"\n",
    "    def load(self):\n",
    "        self.__load_time_table()\n",
    "        self.__load_product_table()\n",
    "        self.__load_city_table()\n",
    "        self.__load_product_price_table()"
   ],
   "metadata": {
    "collapsed": false,
    "ExecuteTime": {
     "end_time": "2023-12-13T23:12:43.071290100Z",
     "start_time": "2023-12-13T23:12:43.023189400Z"
    }
   },
   "id": "ea039a465f81d707"
  },
  {
   "cell_type": "code",
   "execution_count": 15,
   "outputs": [
    {
     "data": {
      "text/plain": "day      0\nmonth    0\nyear     0\ndate     0\nid       0\ndtype: int64"
     },
     "metadata": {},
     "output_type": "display_data"
    }
   ],
   "source": [
    "load = Load(df_time, df_product, df_city, df_product_price, connection)\n",
    "display(nan_data(df_time))\n",
    "load.load()\n",
    "\n",
    "df_product_price.to_csv(\"fact table fruits.csv\", index=False)\n",
    "df_product.to_csv(\"product fruits.csv\", index=False)\n",
    "df_city.to_csv(\"city fruits.csv\", index=False)\n",
    "df_time.to_csv(\"time fruits.csv\", index=False)"
   ],
   "metadata": {
    "collapsed": false,
    "ExecuteTime": {
     "end_time": "2023-12-13T23:14:49.319563200Z",
     "start_time": "2023-12-13T23:12:43.046226300Z"
    }
   },
   "id": "a7d62aa35c95b156"
  },
  {
   "cell_type": "code",
   "execution_count": 35,
   "outputs": [
    {
     "data": {
      "text/plain": "      id_time  id_city  id_product          spot   min   max  average   _id  \\\n0           1        1           1    Carnicería  3990  5998  5029.64     1   \n1           1        2           1    Carnicería  3498  4980  4491.00     2   \n2           1        1           2    Carnicería  3990  5500  4790.64     3   \n3           1        2           2    Carnicería  3498  4980  4441.00     4   \n4           1        1           3    Carnicería  4680  6998  6243.60     5   \n...       ...      ...         ...           ...   ...   ...      ...   ...   \n3495        9        7           7  Supermercado  3290  3489  3389.50  3496   \n3496        9        3           8  Supermercado  3990  4199  4059.67  3497   \n3497        9        5           8  Supermercado  3790  4499  4137.44  3498   \n3498        9        6           8  Supermercado  4190  4190  4190.00  3499   \n3499        9        7           8  Supermercado  3290  3290  3290.00  3500   \n\n                  name_x  region       date               product  \n0                  Talca       7 2013-08-07              Abastero  \n1                 Curicó       7 2013-08-07              Abastero  \n2                  Talca       7 2013-08-07       Asado Carnicero  \n3                 Curicó       7 2013-08-07       Asado Carnicero  \n4                  Talca       7 2013-08-07               Asiento  \n...                  ...     ...        ...                   ...  \n3495               Penco       8 2013-09-23  Chuleta (Parrillera)  \n3496  Talcahuano-Hualpén       8 2013-09-23      Chuleta (centro)  \n3497          Concepción       8 2013-09-23      Chuleta (centro)  \n3498         Chiguayante       8 2013-09-23      Chuleta (centro)  \n3499               Penco       8 2013-09-23      Chuleta (centro)  \n\n[3500 rows x 12 columns]",
      "text/html": "<div>\n<style scoped>\n    .dataframe tbody tr th:only-of-type {\n        vertical-align: middle;\n    }\n\n    .dataframe tbody tr th {\n        vertical-align: top;\n    }\n\n    .dataframe thead th {\n        text-align: right;\n    }\n</style>\n<table border=\"1\" class=\"dataframe\">\n  <thead>\n    <tr style=\"text-align: right;\">\n      <th></th>\n      <th>id_time</th>\n      <th>id_city</th>\n      <th>id_product</th>\n      <th>spot</th>\n      <th>min</th>\n      <th>max</th>\n      <th>average</th>\n      <th>_id</th>\n      <th>name_x</th>\n      <th>region</th>\n      <th>date</th>\n      <th>product</th>\n    </tr>\n  </thead>\n  <tbody>\n    <tr>\n      <th>0</th>\n      <td>1</td>\n      <td>1</td>\n      <td>1</td>\n      <td>Carnicería</td>\n      <td>3990</td>\n      <td>5998</td>\n      <td>5029.64</td>\n      <td>1</td>\n      <td>Talca</td>\n      <td>7</td>\n      <td>2013-08-07</td>\n      <td>Abastero</td>\n    </tr>\n    <tr>\n      <th>1</th>\n      <td>1</td>\n      <td>2</td>\n      <td>1</td>\n      <td>Carnicería</td>\n      <td>3498</td>\n      <td>4980</td>\n      <td>4491.00</td>\n      <td>2</td>\n      <td>Curicó</td>\n      <td>7</td>\n      <td>2013-08-07</td>\n      <td>Abastero</td>\n    </tr>\n    <tr>\n      <th>2</th>\n      <td>1</td>\n      <td>1</td>\n      <td>2</td>\n      <td>Carnicería</td>\n      <td>3990</td>\n      <td>5500</td>\n      <td>4790.64</td>\n      <td>3</td>\n      <td>Talca</td>\n      <td>7</td>\n      <td>2013-08-07</td>\n      <td>Asado Carnicero</td>\n    </tr>\n    <tr>\n      <th>3</th>\n      <td>1</td>\n      <td>2</td>\n      <td>2</td>\n      <td>Carnicería</td>\n      <td>3498</td>\n      <td>4980</td>\n      <td>4441.00</td>\n      <td>4</td>\n      <td>Curicó</td>\n      <td>7</td>\n      <td>2013-08-07</td>\n      <td>Asado Carnicero</td>\n    </tr>\n    <tr>\n      <th>4</th>\n      <td>1</td>\n      <td>1</td>\n      <td>3</td>\n      <td>Carnicería</td>\n      <td>4680</td>\n      <td>6998</td>\n      <td>6243.60</td>\n      <td>5</td>\n      <td>Talca</td>\n      <td>7</td>\n      <td>2013-08-07</td>\n      <td>Asiento</td>\n    </tr>\n    <tr>\n      <th>...</th>\n      <td>...</td>\n      <td>...</td>\n      <td>...</td>\n      <td>...</td>\n      <td>...</td>\n      <td>...</td>\n      <td>...</td>\n      <td>...</td>\n      <td>...</td>\n      <td>...</td>\n      <td>...</td>\n      <td>...</td>\n    </tr>\n    <tr>\n      <th>3495</th>\n      <td>9</td>\n      <td>7</td>\n      <td>7</td>\n      <td>Supermercado</td>\n      <td>3290</td>\n      <td>3489</td>\n      <td>3389.50</td>\n      <td>3496</td>\n      <td>Penco</td>\n      <td>8</td>\n      <td>2013-09-23</td>\n      <td>Chuleta (Parrillera)</td>\n    </tr>\n    <tr>\n      <th>3496</th>\n      <td>9</td>\n      <td>3</td>\n      <td>8</td>\n      <td>Supermercado</td>\n      <td>3990</td>\n      <td>4199</td>\n      <td>4059.67</td>\n      <td>3497</td>\n      <td>Talcahuano-Hualpén</td>\n      <td>8</td>\n      <td>2013-09-23</td>\n      <td>Chuleta (centro)</td>\n    </tr>\n    <tr>\n      <th>3497</th>\n      <td>9</td>\n      <td>5</td>\n      <td>8</td>\n      <td>Supermercado</td>\n      <td>3790</td>\n      <td>4499</td>\n      <td>4137.44</td>\n      <td>3498</td>\n      <td>Concepción</td>\n      <td>8</td>\n      <td>2013-09-23</td>\n      <td>Chuleta (centro)</td>\n    </tr>\n    <tr>\n      <th>3498</th>\n      <td>9</td>\n      <td>6</td>\n      <td>8</td>\n      <td>Supermercado</td>\n      <td>4190</td>\n      <td>4190</td>\n      <td>4190.00</td>\n      <td>3499</td>\n      <td>Chiguayante</td>\n      <td>8</td>\n      <td>2013-09-23</td>\n      <td>Chuleta (centro)</td>\n    </tr>\n    <tr>\n      <th>3499</th>\n      <td>9</td>\n      <td>7</td>\n      <td>8</td>\n      <td>Supermercado</td>\n      <td>3290</td>\n      <td>3290</td>\n      <td>3290.00</td>\n      <td>3500</td>\n      <td>Penco</td>\n      <td>8</td>\n      <td>2013-09-23</td>\n      <td>Chuleta (centro)</td>\n    </tr>\n  </tbody>\n</table>\n<p>3500 rows × 12 columns</p>\n</div>"
     },
     "execution_count": 35,
     "metadata": {},
     "output_type": "execute_result"
    }
   ],
   "source": [
    "fact_table = pd.merge(df_product_price, df_city[['id', 'name']], left_on='id_city', right_on='id', how='left')\n",
    "fact_table.drop('id', axis=1, inplace=True)  # Eliminar la columna de id redundante\n",
    "fact_table = fact_table.rename(columns={'name_x': 'city'})\n",
    "\n",
    "fact_table = pd.merge(fact_table, df_city[['id', 'region']], left_on='id_city', right_on='id', how='left')\n",
    "fact_table.drop('id', axis=1, inplace=True)  # Eliminar la columna de id redundante\n",
    "\n",
    "# Combinar la tabla de hechos con la tabla de tiempo por el id de tiempo\n",
    "fact_table = pd.merge(fact_table, df_time[['id', 'date']], left_on='id_time', right_on='id', how='left')\n",
    "fact_table.drop('id', axis=1, inplace=True)  # Eliminar la columna de id redundante\n",
    "\n",
    "# Combinar la tabla de hechos con la tabla de producto por el id de producto\n",
    "fact_table = pd.merge(fact_table, df_product[['id', 'name']], left_on='id_product', right_on='id', how='left')\n",
    "fact_table.drop('id', axis=1, inplace=True)  # Eliminar la columna de id redundante\n",
    "fact_table = fact_table.rename(columns={'name_y': 'product'})\n",
    "\n",
    "fact_table"
   ],
   "metadata": {
    "collapsed": false,
    "ExecuteTime": {
     "end_time": "2023-12-14T01:51:31.681036200Z",
     "start_time": "2023-12-14T01:51:31.595217600Z"
    }
   },
   "id": "7453b2cdb3b529db"
  },
  {
   "cell_type": "markdown",
   "source": [
    "# Visualizaciones para datos correspondientes a Frutas y Hortalizas"
   ],
   "metadata": {
    "collapsed": false
   },
   "id": "4e7bb4f41c3f7991"
  },
  {
   "cell_type": "code",
   "execution_count": 29,
   "outputs": [
    {
     "data": {
      "text/plain": "'1. Visualizar el total gastado en una semana para la compra de insumos en un determinado sector de una región'"
     },
     "metadata": {},
     "output_type": "display_data"
    },
    {
     "data": {
      "text/plain": "      id                 name\n0      1                Talca\n1      2               Curicó\n1300   3   Talcahuano-Hualpén\n1301   4  San Pedro de la Paz\n1302   5           Concepción\n1303   6          Chiguayante\n1389   7                Penco",
      "text/html": "<div>\n<style scoped>\n    .dataframe tbody tr th:only-of-type {\n        vertical-align: middle;\n    }\n\n    .dataframe tbody tr th {\n        vertical-align: top;\n    }\n\n    .dataframe thead th {\n        text-align: right;\n    }\n</style>\n<table border=\"1\" class=\"dataframe\">\n  <thead>\n    <tr style=\"text-align: right;\">\n      <th></th>\n      <th>id</th>\n      <th>name</th>\n    </tr>\n  </thead>\n  <tbody>\n    <tr>\n      <th>0</th>\n      <td>1</td>\n      <td>Talca</td>\n    </tr>\n    <tr>\n      <th>1</th>\n      <td>2</td>\n      <td>Curicó</td>\n    </tr>\n    <tr>\n      <th>1300</th>\n      <td>3</td>\n      <td>Talcahuano-Hualpén</td>\n    </tr>\n    <tr>\n      <th>1301</th>\n      <td>4</td>\n      <td>San Pedro de la Paz</td>\n    </tr>\n    <tr>\n      <th>1302</th>\n      <td>5</td>\n      <td>Concepción</td>\n    </tr>\n    <tr>\n      <th>1303</th>\n      <td>6</td>\n      <td>Chiguayante</td>\n    </tr>\n    <tr>\n      <th>1389</th>\n      <td>7</td>\n      <td>Penco</td>\n    </tr>\n  </tbody>\n</table>\n</div>"
     },
     "metadata": {},
     "output_type": "display_data"
    },
    {
     "data": {
      "text/plain": "<Figure size 1000x600 with 1 Axes>",
      "image/png": "[encoded data removed]"
     },
     "metadata": {},
     "output_type": "display_data"
    }
   ],
   "source": [
    "import time\n",
    "import matplotlib.pyplot as plt\n",
    "display(\"1. Visualizar el total gastado en una semana para la compra de insumos en un determinado sector de una región\")\n",
    "display(df_city[['id', 'name']])\n",
    "time.sleep(5)\n",
    "sector_id = int(input(\"Seleccione segun el número un sector\"))\n",
    "filtered_data = fact_table[(fact_table['id_city'] == sector_id)]\n",
    "\n",
    "weekly_spending = filtered_data.groupby(pd.Grouper(key='date', freq='W-Mon'))['average'].sum().reset_index()\n",
    "\n",
    "plt.figure(figsize=(10, 6))\n",
    "plt.bar(weekly_spending['date'], weekly_spending['average'])\n",
    "plt.xlabel('Semana')\n",
    "plt.ylabel('Gasto Total')\n",
    "city_name = df_city.loc[df_city['id'] == sector_id, 'name'].values[0]\n",
    "plt.title('Gasto Total por Semana en el Sector ' + city_name)\n",
    "plt.xticks(rotation=45)\n",
    "plt.show()"
   ],
   "metadata": {
    "collapsed": false,
    "ExecuteTime": {
     "start_time": "2023-12-13T23:30:48.897560600Z"
    }
   },
   "id": "8b58b34d19d379e5"
  },
  {
   "cell_type": "code",
   "execution_count": 49,
   "outputs": [
    {
     "data": {
      "text/plain": "'2.Visualizar cuál es el sector de una región que tiene el mayor gasto en compra de insumos. Visualizar también cuál es la región que tiene el mayor gasto en compra de insumos.'"
     },
     "metadata": {},
     "output_type": "display_data"
    },
    {
     "name": "stdout",
     "output_type": "stream",
     "text": [
      "7\n",
      "8\n"
     ]
    },
    {
     "data": {
      "text/plain": "name_x\nCuricó    1816583.45\nTalca     2689094.13\nName: average, dtype: float64"
     },
     "metadata": {},
     "output_type": "display_data"
    },
    {
     "data": {
      "text/plain": "'Talca'"
     },
     "metadata": {},
     "output_type": "display_data"
    },
    {
     "data": {
      "text/plain": "<Figure size 800x600 with 1 Axes>",
      "image/png": "[encoded data removed]"
     },
     "metadata": {},
     "output_type": "display_data"
    },
    {
     "data": {
      "text/plain": "<Figure size 1000x600 with 1 Axes>",
      "image/png": "[encoded data removed]"
     },
     "metadata": {},
     "output_type": "display_data"
    }
   ],
   "source": [
    "display(\"2.Visualizar cuál es el sector de una región que tiene el mayor gasto en compra de insumos. Visualizar también cuál es la región que tiene el mayor gasto en compra de insumos.\")\n",
    "unique_regions = df_city['region'].unique()\n",
    "\n",
    "for region in unique_regions:\n",
    "    print(region)\n",
    "\n",
    "time.sleep(3)\n",
    "region = int(input(\"Seleccione la región: \"))\n",
    "\n",
    "filtered_data = fact_table[(fact_table['region'] == region)]\n",
    "region_sector_spending = filtered_data.groupby(['name_x'])['average'].sum()\n",
    "display(region_sector_spending)\n",
    "# Encontrar el sector con el mayor gasto en cada región\n",
    "max_spending_per_region = region_sector_spending.idxmax()\n",
    "display(max_spending_per_region)\n",
    "\n",
    "plt.figure(figsize=(8, 6))\n",
    "region_sector_spending.plot(kind='bar', color='skyblue')\n",
    "plt.xlabel('Sector')\n",
    "plt.ylabel('Gasto Total')\n",
    "plt.title(f'Gasto Total por Sector en la Región {region}')\n",
    "plt.xticks(rotation=45)\n",
    "plt.show()\n",
    "\n",
    "# Graficar la región con el mayor gasto en compras\n",
    "# Calcular el gasto total por región\n",
    "region_spending = fact_table.groupby('region')['average'].sum()\n",
    "\n",
    "# Encontrar la región con el mayor gasto en compras\n",
    "max_spending_region = region_spending.idxmax()\n",
    "\n",
    "# Graficar la región con el mayor gasto en compras\n",
    "plt.figure(figsize=(10, 6))\n",
    "region_spending.plot(kind='bar', color='skyblue')\n",
    "plt.xlabel('Región')\n",
    "plt.ylabel('Gasto Total')\n",
    "plt.title(f'Región con Mayor Gasto en Compras: {max_spending_region}')\n",
    "plt.xticks(rotation=45)\n",
    "plt.show()"
   ],
   "metadata": {
    "collapsed": false,
    "ExecuteTime": {
     "end_time": "2023-12-14T02:14:13.878055100Z",
     "start_time": "2023-12-14T02:14:09.395318Z"
    }
   },
   "id": "5dfaf14b2f570496"
  },
  {
   "cell_type": "code",
   "execution_count": 17,
   "outputs": [],
   "source": [
    "with open('Scripts/star_schema.sql', 'r') as file:\n",
    "    for line in file.read().split(';'):\n",
    "        connection.execute(line)"
   ],
   "metadata": {
    "collapsed": false,
    "ExecuteTime": {
     "end_time": "2023-12-13T23:14:49.899860100Z",
     "start_time": "2023-12-13T23:14:49.369834500Z"
    }
   },
   "id": "56b88b7f294947be"
  },
  {
   "cell_type": "code",
   "execution_count": 18,
   "outputs": [
    {
     "data": {
      "text/plain": "0"
     },
     "metadata": {},
     "output_type": "display_data"
    },
    {
     "data": {
      "text/plain": "0"
     },
     "metadata": {},
     "output_type": "display_data"
    },
    {
     "data": {
      "text/plain": "0"
     },
     "metadata": {},
     "output_type": "display_data"
    },
    {
     "name": "stderr",
     "output_type": "stream",
     "text": [
      "C:\\Users\\ignac\\AppData\\Local\\Temp\\ipykernel_12776\\2011640105.py:137: SettingWithCopyWarning: \n",
      "A value is trying to be set on a copy of a slice from a DataFrame.\n",
      "Try using .loc[row_indexer,col_indexer] = value instead\n",
      "\n",
      "See the caveats in the documentation: https://pandas.pydata.org/pandas-docs/stable/user_guide/indexing.html#returning-a-view-versus-a-copy\n",
      "  self._df_product['name'] = self._df_product['Producto'].str.split('$').str[0].str.rstrip()\n"
     ]
    },
    {
     "data": {
      "text/plain": "day      0\nmonth    0\nyear     0\ndate     0\nid       0\ndtype: int64"
     },
     "metadata": {},
     "output_type": "display_data"
    }
   ],
   "source": [
    "transform = Transform(df_others)\n",
    "transform.transform()\n",
    "df_time = transform.get_df_time()\n",
    "display(nan_data(df_time))\n",
    "\n",
    "df_city = transform.get_df_city()\n",
    "df_product = transform.get_df_product()\n",
    "df_product_price = transform.get_df_products_price()"
   ],
   "metadata": {
    "collapsed": false,
    "ExecuteTime": {
     "end_time": "2023-12-13T23:14:50.140862200Z",
     "start_time": "2023-12-13T23:14:49.902875100Z"
    }
   },
   "id": "752d0cd2285b0fbb"
  },
  {
   "cell_type": "code",
   "execution_count": 19,
   "outputs": [
    {
     "data": {
      "text/plain": "day      0\nmonth    0\nyear     0\ndate     0\nid       0\ndtype: int64"
     },
     "metadata": {},
     "output_type": "display_data"
    }
   ],
   "source": [
    "load = Load(df_time, df_product, df_city, df_product_price, connection)\n",
    "display(nan_data(df_time))\n",
    "load.load()\n",
    "\n",
    "df_product_price.to_csv(\"fact table others.csv\", index=False)\n",
    "df_product.to_csv(\"product others.csv\", index=False)\n",
    "df_city.to_csv(\"city others.csv\", index=False)\n",
    "df_time.to_csv(\"time others.csv\", index=False)"
   ],
   "metadata": {
    "collapsed": false,
    "ExecuteTime": {
     "end_time": "2023-12-13T23:15:13.489771800Z",
     "start_time": "2023-12-13T23:14:50.040725800Z"
    }
   },
   "id": "e0c505b63eb4a6f0"
  },
  {
   "cell_type": "markdown",
   "source": [
    "# Visualizaciones para datos correspondientes al resto de productos"
   ],
   "metadata": {
    "collapsed": false
   },
   "id": "fd1979be19c12a08"
  },
  {
   "cell_type": "code",
   "execution_count": 20,
   "outputs": [
    {
     "ename": "NameError",
     "evalue": "name 'city_table' is not defined",
     "output_type": "error",
     "traceback": [
      "\u001B[1;31m---------------------------------------------------------------------------\u001B[0m",
      "\u001B[1;31mNameError\u001B[0m                                 Traceback (most recent call last)",
      "Cell \u001B[1;32mIn[20], line 2\u001B[0m\n\u001B[0;32m      1\u001B[0m \u001B[38;5;66;03m# Combinar la tabla de hechos con la tabla de ciudad por el id de la ciudad\u001B[39;00m\n\u001B[1;32m----> 2\u001B[0m fact_table \u001B[38;5;241m=\u001B[39m pd\u001B[38;5;241m.\u001B[39mmerge(fact_table, \u001B[43mcity_table\u001B[49m[[\u001B[38;5;124m'\u001B[39m\u001B[38;5;124mid\u001B[39m\u001B[38;5;124m'\u001B[39m, \u001B[38;5;124m'\u001B[39m\u001B[38;5;124mname\u001B[39m\u001B[38;5;124m'\u001B[39m]], left_on\u001B[38;5;241m=\u001B[39m\u001B[38;5;124m'\u001B[39m\u001B[38;5;124mid_city\u001B[39m\u001B[38;5;124m'\u001B[39m, right_on\u001B[38;5;241m=\u001B[39m\u001B[38;5;124m'\u001B[39m\u001B[38;5;124mid\u001B[39m\u001B[38;5;124m'\u001B[39m, how\u001B[38;5;241m=\u001B[39m\u001B[38;5;124m'\u001B[39m\u001B[38;5;124mleft\u001B[39m\u001B[38;5;124m'\u001B[39m)\n\u001B[0;32m      3\u001B[0m fact_table\u001B[38;5;241m.\u001B[39mdrop(\u001B[38;5;124m'\u001B[39m\u001B[38;5;124mid\u001B[39m\u001B[38;5;124m'\u001B[39m, axis\u001B[38;5;241m=\u001B[39m\u001B[38;5;241m1\u001B[39m, inplace\u001B[38;5;241m=\u001B[39m\u001B[38;5;28;01mTrue\u001B[39;00m)  \u001B[38;5;66;03m# Eliminar la columna de id redundante\u001B[39;00m\n\u001B[0;32m      5\u001B[0m \u001B[38;5;66;03m# Combinar la tabla de hechos con la tabla de tiempo por el id de tiempo\u001B[39;00m\n",
      "\u001B[1;31mNameError\u001B[0m: name 'city_table' is not defined"
     ]
    }
   ],
   "source": [
    "display(\"1. Visualizar el total gastado en una semana para la compra de insumos en un determinado sector de una región\")\n",
    "display(df_city[['id', 'name']])\n",
    "time.sleep(5)\n",
    "sector_id = int(input(\"Seleccione segun el número un sector\"))\n",
    "filtered_data = fact_table[(fact_table['id_city'] == sector_id)]\n",
    "\n",
    "weekly_spending = filtered_data.groupby(pd.Grouper(key='date', freq='W-Mon'))['average'].sum().reset_index()\n",
    "\n",
    "plt.figure(figsize=(10, 6))\n",
    "plt.bar(weekly_spending['date'], weekly_spending['average'])\n",
    "plt.xlabel('Semana')\n",
    "plt.ylabel('Gasto Total')\n",
    "city_name = df_city.loc[df_city['id'] == sector_id, 'name'].values[0]\n",
    "plt.title('Gasto Total por Semana en el Sector ' + city_name)\n",
    "plt.xticks(rotation=45)\n",
    "plt.show()"
   ],
   "metadata": {
    "collapsed": false,
    "ExecuteTime": {
     "end_time": "2023-12-13T23:15:14.009599600Z",
     "start_time": "2023-12-13T23:15:13.507307500Z"
    }
   },
   "id": "c06df99bee27f591"
  },
  {
   "cell_type": "code",
   "execution_count": null,
   "outputs": [],
   "source": [
    "display(\"2.Visualizar cuál es el sector de una región que tiene el mayor gasto en compra de insumos. Visualizar también cuál es la región que tiene el mayor gasto en compra de insumos.\")\n",
    "unique_regions = df_city['region'].unique()\n",
    "\n",
    "for region in unique_regions:\n",
    "    print(region)\n",
    "\n",
    "time.sleep(3)\n",
    "region = int(input(\"Seleccione la región: \"))\n",
    "\n",
    "filtered_data = fact_table[(fact_table['region'] == region)]\n",
    "region_sector_spending = filtered_data.groupby(['name_x'])['average'].sum()\n",
    "display(region_sector_spending)\n",
    "# Encontrar el sector con el mayor gasto en cada región\n",
    "max_spending_per_region = region_sector_spending.idxmax()\n",
    "display(max_spending_per_region)\n",
    "\n",
    "plt.figure(figsize=(8, 6))\n",
    "region_sector_spending.plot(kind='bar', color='skyblue')\n",
    "plt.xlabel('Sector')\n",
    "plt.ylabel('Gasto Total')\n",
    "plt.title(f'Gasto Total por Sector en la Región {region}')\n",
    "plt.xticks(rotation=45)\n",
    "plt.show()\n",
    "\n",
    "# Graficar la región con el mayor gasto en compras\n",
    "# Calcular el gasto total por región\n",
    "region_spending = fact_table.groupby('region')['average'].sum()\n",
    "\n",
    "# Encontrar la región con el mayor gasto en compras\n",
    "max_spending_region = region_spending.idxmax()\n",
    "\n",
    "# Graficar la región con el mayor gasto en compras\n",
    "plt.figure(figsize=(10, 6))\n",
    "region_spending.plot(kind='bar', color='skyblue')\n",
    "plt.xlabel('Región')\n",
    "plt.ylabel('Gasto Total')\n",
    "plt.title(f'Región con Mayor Gasto en Compras: {max_spending_region}')\n",
    "plt.xticks(rotation=45)\n",
    "plt.show()"
   ],
   "metadata": {
    "collapsed": false
   },
   "id": "97d8407eb29cb578"
  }
 ],
 "metadata": {
  "kernelspec": {
   "display_name": "Python 3",
   "language": "python",
   "name": "python3"
  },
  "language_info": {
   "codemirror_mode": {
    "name": "ipython",
    "version": 2
   },
   "file_extension": ".py",
   "mimetype": "text/x-python",
   "name": "python",
   "nbconvert_exporter": "python",
   "pygments_lexer": "ipython2",
   "version": "2.7.6"
  }
 },
 "nbformat": 4,
 "nbformat_minor": 5
}
